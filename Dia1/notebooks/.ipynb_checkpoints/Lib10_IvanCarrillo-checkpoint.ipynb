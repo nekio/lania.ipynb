{
 "metadata": {
  "name": "",
  "signature": "sha256:29a32e35712ba5798d0df8909266ce5d4039b8ac1d76a0e135ab184229471ec2"
 },
 "nbformat": 3,
 "nbformat_minor": 0,
 "worksheets": [
  {
   "cells": [
    {
     "cell_type": "heading",
     "level": 1,
     "metadata": {},
     "source": [
      "Ejercicio 10"
     ]
    },
    {
     "cell_type": "code",
     "collapsed": false,
     "input": [
      "%run ../talktools.py"
     ],
     "language": "python",
     "metadata": {},
     "outputs": [
      {
       "html": [
        "<link href='http://fonts.googleapis.com/css?family=Alegreya+Sans:100,300,400,500,700,800,900,100italic,300italic,400italic,500italic,700italic,800italic,900italic' rel='stylesheet' type='text/css'>\n",
        "<link href='http://fonts.googleapis.com/css?family=Arvo:400,700,400italic' rel='stylesheet' type='text/css'>\n",
        "<link href='http://fonts.googleapis.com/css?family=PT+Mono' rel='stylesheet' type='text/css'>\n",
        "<link href='http://fonts.googleapis.com/css?family=Shadows+Into+Light' rel='stylesheet' type='text/css'>\n",
        "<link href='http://fonts.googleapis.com/css?family=Nixie+One' rel='stylesheet' type='text/css'>\n",
        "<style>\n",
        "\n",
        "@font-face {\n",
        "    font-family: \"Computer Modern\";\n",
        "    src: url('http://mirrors.ctan.org/fonts/cm-unicode/fonts/otf/cmunss.otf');\n",
        "}\n",
        "\n",
        "#notebook_panel { /* main background */\n",
        "    background: rgb(245,245,245);\n",
        "}\n",
        "\n",
        "div.cell { /* set cell width */\n",
        "    width: 750px;\n",
        "}\n",
        "\n",
        "div #notebook { /* centre the content */\n",
        "    background: #fff; /* white background for content */\n",
        "    width: 1000px;\n",
        "    margin: auto;\n",
        "    padding-left: 0em;\n",
        "}\n",
        "\n",
        "#notebook li { /* More space between bullet points */\n",
        "margin-top:0.8em;\n",
        "}\n",
        "\n",
        "/* draw border around running cells */\n",
        "div.cell.border-box-sizing.code_cell.running { \n",
        "    border: 1px solid #111;\n",
        "}\n",
        "\n",
        "/* Put a solid color box around each cell and its output, visually linking them*/\n",
        "div.cell.code_cell {\n",
        "    background-color: rgb(256,256,256); \n",
        "    border-radius: 0px; \n",
        "    padding: 0.5em;\n",
        "    margin-left:1em;\n",
        "    margin-top: 1em;\n",
        "}\n",
        "\n",
        "div.text_cell_render{\n",
        "    font-family: 'Alegreya Sans' sans-serif;\n",
        "    line-height: 140%;\n",
        "    font-size: 125%;\n",
        "    font-weight: 400;\n",
        "    width:600px;\n",
        "    margin-left:auto;\n",
        "    margin-right:auto;\n",
        "}\n",
        "\n",
        "\n",
        "/* Formatting for header cells */\n",
        ".text_cell_render h1 {\n",
        "    font-family: 'Nixie One', serif;\n",
        "    font-style:regular;\n",
        "    font-weight: 400;    \n",
        "    font-size: 45pt;\n",
        "    line-height: 100%;\n",
        "    color: rgb(0,51,102);\n",
        "    margin-bottom: 0.5em;\n",
        "    margin-top: 0.5em;\n",
        "    display: block;\n",
        "}\t\n",
        ".text_cell_render h2 {\n",
        "    font-family: 'Nixie One', serif;\n",
        "    font-weight: 400;\n",
        "    font-size: 30pt;\n",
        "    line-height: 100%;\n",
        "    color: rgb(0,51,102);\n",
        "    margin-bottom: 0.1em;\n",
        "    margin-top: 0.3em;\n",
        "    display: block;\n",
        "}\t\n",
        "\n",
        ".text_cell_render h3 {\n",
        "    font-family: 'Nixie One', serif;\n",
        "    margin-top:16px;\n",
        "\tfont-size: 22pt;\n",
        "    font-weight: 600;\n",
        "    margin-bottom: 3px;\n",
        "    font-style: regular;\n",
        "    color: rgb(102,102,0);\n",
        "}\n",
        "\n",
        ".text_cell_render h4 {    /*Use this for captions*/\n",
        "    font-family: 'Nixie One', serif;\n",
        "    font-size: 14pt;\n",
        "    text-align: center;\n",
        "    margin-top: 0em;\n",
        "    margin-bottom: 2em;\n",
        "    font-style: regular;\n",
        "}\n",
        "\n",
        ".text_cell_render h5 {  /*Use this for small titles*/\n",
        "    font-family: 'Nixie One', sans-serif;\n",
        "    font-weight: 400;\n",
        "    font-size: 16pt;\n",
        "    color: rgb(163,0,0);\n",
        "    font-style: italic;\n",
        "    margin-bottom: .1em;\n",
        "    margin-top: 0.8em;\n",
        "    display: block;\n",
        "}\n",
        "\n",
        ".text_cell_render h6 { /*use this for copyright note*/\n",
        "    font-family: 'PT Mono', sans-serif;\n",
        "    font-weight: 300;\n",
        "    font-size: 9pt;\n",
        "    line-height: 100%;\n",
        "    color: grey;\n",
        "    margin-bottom: 1px;\n",
        "    margin-top: 1px;\n",
        "}\n",
        "\n",
        ".CodeMirror{\n",
        "        font-family: \"PT Mono\";\n",
        "        font-size: 90%;\n",
        "}\n",
        "\n",
        "</style>\n",
        "<script>\n",
        "    MathJax.Hub.Config({\n",
        "                        TeX: {\n",
        "                           extensions: [\"AMSmath.js\"],\n",
        "                           equationNumbers: { autoNumber: \"AMS\", useLabelIds: true}\n",
        "                           },\n",
        "                tex2jax: {\n",
        "                    inlineMath: [ ['$','$'], [\"\\\\(\",\"\\\\)\"] ],\n",
        "                    displayMath: [ ['$$','$$'], [\"\\\\[\",\"\\\\]\"] ]\n",
        "                },\n",
        "                displayAlign: 'center', // Change this to 'center' to center equations.\n",
        "                \"HTML-CSS\": {\n",
        "                    styles: {'.MathJax_Display': {\"margin\": 4}}\n",
        "                }\n",
        "        });\n",
        "</script>"
       ],
       "metadata": {},
       "output_type": "display_data",
       "text": [
        "<IPython.core.display.HTML at 0xbbc04e0>"
       ]
      }
     ],
     "prompt_number": 7
    },
    {
     "cell_type": "code",
     "collapsed": false,
     "input": [
      "#crear carpeta para contener HTML\n",
      "!mkdir html"
     ],
     "language": "python",
     "metadata": {},
     "outputs": [],
     "prompt_number": 1
    },
    {
     "cell_type": "code",
     "collapsed": false,
     "input": [
      "#convertir libreta a HTML\n",
      "!ipython nbconvert --to html Lib10_IvanCarrillo.ipynb"
     ],
     "language": "python",
     "metadata": {},
     "outputs": [
      {
       "output_type": "stream",
       "stream": "stderr",
       "text": [
        "[NbConvertApp] Using existing profile dir: u'C:\\\\Users\\\\Ivan\\\\.ipython\\\\profile_default'\n",
        "[NbConvertApp] Converting notebook Lib10_IvanCarrillo.ipynb to html\n",
        "[NbConvertApp] Support files will be in Lib10_IvanCarrillo_files\\\n",
        "[NbConvertApp] Loaded template full.tpl\n",
        "C:\\Users\\Ivan\\Anaconda\\lib\\site-packages\\IPython\\nbconvert\\filters\\markdown.py:78: UserWarning: Node.js 0.9.12 or later wasn't found.\n",
        "Nbconvert will try to use Pandoc instead.\n",
        "  \"Nbconvert will try to use Pandoc instead.\")\n",
        "[NbConvertApp] ERROR | Error while converting 'Lib10_IvanCarrillo.ipynb'\n",
        "Traceback (most recent call last):\n",
        "  File \"C:\\Users\\Ivan\\Anaconda\\lib\\site-packages\\IPython\\nbconvert\\nbconvertapp.py\", line 301, in convert_notebooks\n",
        "    output, resources = exporter.from_filename(notebook_filename, resources=resources)\n",
        "  File \"C:\\Users\\Ivan\\Anaconda\\lib\\site-packages\\IPython\\nbconvert\\exporters\\exporter.py\", line 151, in from_filename\n",
        "    return self.from_notebook_node(nbformat.read(f, 'json'), resources=resources, **kw)\n",
        "  File \"C:\\Users\\Ivan\\Anaconda\\lib\\site-packages\\IPython\\nbconvert\\exporters\\templateexporter.py\", line 215, in from_notebook_node\n",
        "    output = self.template.render(nb=nb_copy, resources=resources)\n",
        "  File \"C:\\Users\\Ivan\\Anaconda\\lib\\site-packages\\jinja2\\environment.py\", line 969, in render\n",
        "    return self.environment.handle_exception(exc_info, True)\n",
        "  File \"C:\\Users\\Ivan\\Anaconda\\lib\\site-packages\\jinja2\\environment.py\", line 742, in handle_exception\n",
        "    reraise(exc_type, exc_value, tb)\n",
        "  File \"C:\\Users\\Ivan\\Anaconda\\lib\\site-packages\\IPython\\nbconvert\\exporters\\..\\templates\\html\\full.tpl\", line 2, in top-level template code\n",
        "    {% from 'mathjax.tpl' import mathjax %}\n",
        "  File \"C:\\Users\\Ivan\\Anaconda\\lib\\site-packages\\IPython\\nbconvert\\exporters\\..\\templates\\html\\basic.tpl\", line 1, in top-level template code\n",
        "    {%- extends 'display_priority.tpl' -%}\n",
        "  File \"C:\\Users\\Ivan\\Anaconda\\lib\\site-packages\\IPython\\nbconvert\\exporters\\..\\templates\\skeleton\\display_priority.tpl\", line 1, in top-level template code\n",
        "    {%- extends 'null.tpl' -%}\n",
        "  File \"C:\\Users\\Ivan\\Anaconda\\lib\\site-packages\\IPython\\nbconvert\\exporters\\..\\templates\\skeleton\\null.tpl\", line 26, in top-level template code\n",
        "    {%- block body -%}\n",
        "  File \"C:\\Users\\Ivan\\Anaconda\\lib\\site-packages\\IPython\\nbconvert\\exporters\\..\\templates\\html\\full.tpl\", line 63, in block \"body\"\n",
        "    {{ super() }}\n",
        "  File \"C:\\Users\\Ivan\\Anaconda\\lib\\site-packages\\IPython\\nbconvert\\exporters\\..\\templates\\skeleton\\null.tpl\", line 29, in block \"body\"\n",
        "    {%- block any_cell scoped -%}\n",
        "  File \"C:\\Users\\Ivan\\Anaconda\\lib\\site-packages\\IPython\\nbconvert\\exporters\\..\\templates\\skeleton\\null.tpl\", line 76, in block \"any_cell\"\n",
        "    {%- block headingcell scoped-%}\n",
        "  File \"C:\\Users\\Ivan\\Anaconda\\lib\\site-packages\\IPython\\nbconvert\\exporters\\..\\templates\\html\\basic.tpl\", line 79, in block \"headingcell\"\n",
        "    {{ (\"#\" * cell.level + cell.source) | replace('\\n', ' ')  | markdown2html | strip_files_prefix | add_anchor }}\n",
        "  File \"C:\\Users\\Ivan\\Anaconda\\lib\\site-packages\\IPython\\nbconvert\\filters\\markdown.py\", line 83, in markdown2html\n",
        "    return markdown2html_pandoc(source)\n",
        "  File \"C:\\Users\\Ivan\\Anaconda\\lib\\site-packages\\IPython\\nbconvert\\filters\\markdown.py\", line 87, in markdown2html_pandoc\n",
        "    return pandoc(source, 'markdown', 'html', extra_args=['--mathjax'])\n",
        "  File \"C:\\Users\\Ivan\\Anaconda\\lib\\site-packages\\IPython\\nbconvert\\utils\\pandoc.py\", line 63, in pandoc\n",
        "    check_pandoc_version()\n",
        "  File \"C:\\Users\\Ivan\\Anaconda\\lib\\site-packages\\IPython\\nbconvert\\utils\\pandoc.py\", line 104, in check_pandoc_version\n",
        "    v = get_pandoc_version()\n",
        "  File \"C:\\Users\\Ivan\\Anaconda\\lib\\site-packages\\IPython\\nbconvert\\utils\\pandoc.py\", line 88, in get_pandoc_version\n",
        "    raise PandocMissing()\n",
        "PandocMissing: Pandoc wasn't found.\n",
        "Please check that pandoc is installed:\n",
        "http://johnmacfarlane.net/pandoc/installing.html\n"
       ]
      }
     ],
     "prompt_number": 8
    },
    {
     "cell_type": "code",
     "collapsed": false,
     "input": [
      "# mover el contenido con extension html a la carpeta creada anteriormente\n",
      "!move *.html html\\"
     ],
     "language": "python",
     "metadata": {},
     "outputs": [
      {
       "output_type": "stream",
       "stream": "stderr",
       "text": [
        "Ya existe un archivo con el mismo nombre\n",
        "o no se ha encontrado el archivo.\n"
       ]
      }
     ],
     "prompt_number": 5
    },
    {
     "cell_type": "code",
     "collapsed": false,
     "input": [
      "HTML('<iframe src=archivosHTML/Lib10_IvanCarrillo.html width=750 height=350></iframe>')"
     ],
     "language": "python",
     "metadata": {},
     "outputs": [],
     "prompt_number": 7
    },
    {
     "cell_type": "code",
     "collapsed": false,
     "input": [
      "!del html\\Lib10_IvanCarrillo.html"
     ],
     "language": "python",
     "metadata": {},
     "outputs": []
    },
    {
     "cell_type": "code",
     "collapsed": false,
     "input": [
      "%%cmd\n",
      "!del html\\Lib10_IvanCarrillo.html\n",
      "!ipython nbconvert --to html Lib10_IvanCarrillo.ipynb\n",
      "!move *.html html\\"
     ],
     "language": "python",
     "metadata": {},
     "outputs": []
    },
    {
     "cell_type": "heading",
     "level": 4,
     "metadata": {},
     "source": [
      "Sinesio Ivan Carrillo Heredia"
     ]
    }
   ],
   "metadata": {}
  }
 ]
}