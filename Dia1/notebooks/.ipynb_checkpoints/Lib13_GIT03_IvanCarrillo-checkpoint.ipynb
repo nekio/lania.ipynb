{
 "metadata": {
  "name": "",
  "signature": "sha256:45e966d93c4118bd364dc1184de76c5a030a8e1f0a412970eee826af90098c48"
 },
 "nbformat": 3,
 "nbformat_minor": 0,
 "worksheets": [
  {
   "cells": [
    {
     "cell_type": "heading",
     "level": 1,
     "metadata": {},
     "source": [
      "Ejercicio 13"
     ]
    },
    {
     "cell_type": "code",
     "collapsed": false,
     "input": [
      "%run ../talktools.py"
     ],
     "language": "python",
     "metadata": {},
     "outputs": [
      {
       "html": [
        "<link href='http://fonts.googleapis.com/css?family=Alegreya+Sans:100,300,400,500,700,800,900,100italic,300italic,400italic,500italic,700italic,800italic,900italic' rel='stylesheet' type='text/css'>\n",
        "<link href='http://fonts.googleapis.com/css?family=Arvo:400,700,400italic' rel='stylesheet' type='text/css'>\n",
        "<link href='http://fonts.googleapis.com/css?family=PT+Mono' rel='stylesheet' type='text/css'>\n",
        "<link href='http://fonts.googleapis.com/css?family=Shadows+Into+Light' rel='stylesheet' type='text/css'>\n",
        "<link href='http://fonts.googleapis.com/css?family=Nixie+One' rel='stylesheet' type='text/css'>\n",
        "<style>\n",
        "\n",
        "@font-face {\n",
        "    font-family: \"Computer Modern\";\n",
        "    src: url('http://mirrors.ctan.org/fonts/cm-unicode/fonts/otf/cmunss.otf');\n",
        "}\n",
        "\n",
        "#notebook_panel { /* main background */\n",
        "    background: rgb(245,245,245);\n",
        "}\n",
        "\n",
        "div.cell { /* set cell width */\n",
        "    width: 750px;\n",
        "}\n",
        "\n",
        "div #notebook { /* centre the content */\n",
        "    background: #fff; /* white background for content */\n",
        "    width: 1000px;\n",
        "    margin: auto;\n",
        "    padding-left: 0em;\n",
        "}\n",
        "\n",
        "#notebook li { /* More space between bullet points */\n",
        "margin-top:0.8em;\n",
        "}\n",
        "\n",
        "/* draw border around running cells */\n",
        "div.cell.border-box-sizing.code_cell.running { \n",
        "    border: 1px solid #111;\n",
        "}\n",
        "\n",
        "/* Put a solid color box around each cell and its output, visually linking them*/\n",
        "div.cell.code_cell {\n",
        "    background-color: rgb(256,256,256); \n",
        "    border-radius: 0px; \n",
        "    padding: 0.5em;\n",
        "    margin-left:1em;\n",
        "    margin-top: 1em;\n",
        "}\n",
        "\n",
        "div.text_cell_render{\n",
        "    font-family: 'Alegreya Sans' sans-serif;\n",
        "    line-height: 140%;\n",
        "    font-size: 125%;\n",
        "    font-weight: 400;\n",
        "    width:600px;\n",
        "    margin-left:auto;\n",
        "    margin-right:auto;\n",
        "}\n",
        "\n",
        "\n",
        "/* Formatting for header cells */\n",
        ".text_cell_render h1 {\n",
        "    font-family: 'Nixie One', serif;\n",
        "    font-style:regular;\n",
        "    font-weight: 400;    \n",
        "    font-size: 45pt;\n",
        "    line-height: 100%;\n",
        "    color: rgb(0,51,102);\n",
        "    margin-bottom: 0.5em;\n",
        "    margin-top: 0.5em;\n",
        "    display: block;\n",
        "}\t\n",
        ".text_cell_render h2 {\n",
        "    font-family: 'Nixie One', serif;\n",
        "    font-weight: 400;\n",
        "    font-size: 30pt;\n",
        "    line-height: 100%;\n",
        "    color: rgb(0,51,102);\n",
        "    margin-bottom: 0.1em;\n",
        "    margin-top: 0.3em;\n",
        "    display: block;\n",
        "}\t\n",
        "\n",
        ".text_cell_render h3 {\n",
        "    font-family: 'Nixie One', serif;\n",
        "    margin-top:16px;\n",
        "\tfont-size: 22pt;\n",
        "    font-weight: 600;\n",
        "    margin-bottom: 3px;\n",
        "    font-style: regular;\n",
        "    color: rgb(102,102,0);\n",
        "}\n",
        "\n",
        ".text_cell_render h4 {    /*Use this for captions*/\n",
        "    font-family: 'Nixie One', serif;\n",
        "    font-size: 14pt;\n",
        "    text-align: center;\n",
        "    margin-top: 0em;\n",
        "    margin-bottom: 2em;\n",
        "    font-style: regular;\n",
        "}\n",
        "\n",
        ".text_cell_render h5 {  /*Use this for small titles*/\n",
        "    font-family: 'Nixie One', sans-serif;\n",
        "    font-weight: 400;\n",
        "    font-size: 16pt;\n",
        "    color: rgb(163,0,0);\n",
        "    font-style: italic;\n",
        "    margin-bottom: .1em;\n",
        "    margin-top: 0.8em;\n",
        "    display: block;\n",
        "}\n",
        "\n",
        ".text_cell_render h6 { /*use this for copyright note*/\n",
        "    font-family: 'PT Mono', sans-serif;\n",
        "    font-weight: 300;\n",
        "    font-size: 9pt;\n",
        "    line-height: 100%;\n",
        "    color: grey;\n",
        "    margin-bottom: 1px;\n",
        "    margin-top: 1px;\n",
        "}\n",
        "\n",
        ".CodeMirror{\n",
        "        font-family: \"PT Mono\";\n",
        "        font-size: 90%;\n",
        "}\n",
        "\n",
        "</style>\n",
        "<script>\n",
        "    MathJax.Hub.Config({\n",
        "                        TeX: {\n",
        "                           extensions: [\"AMSmath.js\"],\n",
        "                           equationNumbers: { autoNumber: \"AMS\", useLabelIds: true}\n",
        "                           },\n",
        "                tex2jax: {\n",
        "                    inlineMath: [ ['$','$'], [\"\\\\(\",\"\\\\)\"] ],\n",
        "                    displayMath: [ ['$$','$$'], [\"\\\\[\",\"\\\\]\"] ]\n",
        "                },\n",
        "                displayAlign: 'center', // Change this to 'center' to center equations.\n",
        "                \"HTML-CSS\": {\n",
        "                    styles: {'.MathJax_Display': {\"margin\": 4}}\n",
        "                }\n",
        "        });\n",
        "</script>"
       ],
       "metadata": {},
       "output_type": "display_data",
       "text": [
        "<IPython.core.display.HTML at 0xbba1128>"
       ]
      }
     ],
     "prompt_number": 1
    },
    {
     "cell_type": "code",
     "collapsed": false,
     "input": [
      "#Ver el contenido de la carpeta\n",
      "!cd gitdemo\n",
      "!dir"
     ],
     "language": "python",
     "metadata": {},
     "outputs": [
      {
       "output_type": "stream",
       "stream": "stdout",
       "text": [
        " El volumen de la unidad C es Windows\n",
        " El n\u00a3mero de serie del volumen es: D6D7-27D9\n",
        "\n",
        " Directorio de C:\\Users\\Ivan\\Documents\\IPython Notebooks\\lania.ipython\\Dia1\\notebooks\n",
        "\n",
        "07/11/2014  09:59 p. m.    <DIR>          .\n",
        "07/11/2014  09:59 p. m.    <DIR>          ..\n",
        "07/11/2014  10:00 p. m.    <DIR>          .ipynb_checkpoints\n",
        "01/11/2014  04:57 p. m.                 8 algunNombre\n",
        "07/11/2014  09:45 p. m.               121 archivo-nuevo.txt\n",
        "07/11/2014  09:51 p. m.                42 experimentoIvan.txt\n",
        "06/11/2014  12:41 a. m.    <DIR>          gitdemo\n",
        "07/11/2014  08:58 p. m.    <DIR>          html\n",
        "01/11/2014  01:42 p. m.            17,215 Lib00_Esenciales_IPython_Notebook.ipynb\n",
        "01/11/2014  01:54 p. m.            12,255 Lib01_Esenciales_IPython_Notebook.ipynb\n",
        "01/11/2014  11:38 a. m.             8,180 Lib02_Esenciales_IPython_Notebook.ipynb\n",
        "01/11/2014  03:44 p. m.             8,154 Lib02_IvanCarrillo.ipynb\n",
        "01/11/2014  11:38 a. m.             8,366 Lib03_Esenciales_IPython_Notebook.ipynb\n",
        "01/11/2014  04:06 p. m.             9,529 Lib03_IvanCarrillo.ipynb\n",
        "01/11/2014  11:38 a. m.             9,038 Lib04_Esenciales_IPython_Notebook.ipynb\n",
        "01/11/2014  04:20 p. m.            11,383 Lib04_IvanCarrillo.ipynb\n",
        "01/11/2014  11:38 a. m.            15,467 Lib05_Esenciales_IPython_Notebook.ipynb\n",
        "01/11/2014  04:44 p. m.            28,438 Lib05_IvanCarrillo.ipynb\n",
        "01/11/2014  05:05 p. m.            22,572 Lib06_Esenciales_IPython_Notebook.ipynb\n",
        "01/11/2014  05:17 p. m.            26,694 Lib06_IvanCarrillo.ipynb\n",
        "01/11/2014  11:38 a. m.           223,399 Lib07_Esenciales_IPython_Notebook.ipynb\n",
        "01/11/2014  05:31 p. m.           222,781 Lib07_IvanCarrillo.ipynb\n",
        "01/11/2014  05:45 p. m.            15,846 Lib08_Esenciales_IPython_Notebook.ipynb\n",
        "01/11/2014  05:46 p. m.            21,609 Lib08_IvanCarrillo.ipynb\n",
        "01/11/2014  06:21 p. m.           253,996 Lib09_Esenciales_IPython_Notebook.ipynb\n",
        "03/11/2014  10:57 p. m.           315,094 Lib09_IvanCarrillo.ipynb\n",
        "01/11/2014  11:38 a. m.            16,852 Lib10_Esenciales_IPython_Notebook.ipynb\n",
        "07/11/2014  09:23 p. m.            13,498 Lib10_IvanCarrillo.ipynb\n",
        "07/11/2014  01:11 a. m.           163,135 Lib11_GIT01_IvanCarrillo.ipynb\n",
        "07/11/2014  12:51 a. m.            22,323 Lib11_GIT01_RevisionControl_1aEtapa.ipynb\n",
        "07/11/2014  09:54 p. m.            67,267 Lib12_GIT02_IvanCarrillo.ipynb\n",
        "07/11/2014  09:56 p. m.             8,979 Lib12_GIT02_RevisionControl_2aEtapa.ipynb\n",
        "07/11/2014  10:00 p. m.             6,714 Lib13_GIT03_IvanCarrillo.ipynb\n",
        "01/11/2014  11:38 a. m.             8,698 Lib13_GIT03_RevisionControl_3aEtapa.ipynb\n",
        "01/11/2014  11:38 a. m.             7,569 Lib14_GIT04_RevisionControl_4aEtapa.ipynb\n",
        "01/11/2014  11:38 a. m.            14,307 Lib15_GIT05_RevisionControl_Aplicacion.ipynb\n",
        "              31 archivos      1,559,529 bytes\n",
        "               5 dirs  74,800,865,280 bytes libres\n"
       ]
      }
     ],
     "prompt_number": 2
    },
    {
     "cell_type": "code",
     "collapsed": false,
     "input": [
      "!echo \"Veamos si tenemos algun repositorio remoto aqui:\"\n",
      "!git remote -v"
     ],
     "language": "python",
     "metadata": {},
     "outputs": [
      {
       "output_type": "stream",
       "stream": "stdout",
       "text": [
        "\"Veamos si tenemos algun repositorio remoto aqui:\"\n"
       ]
      },
      {
       "output_type": "stream",
       "stream": "stdout",
       "text": [
        "origin\thttps://github.com/htapia/lania.ipython.git (fetch)\n",
        "origin\thttps://github.com/htapia/lania.ipython.git (push)\n",
        "upstream\thttps://github.com/Tooblippe/zapycon2013_ipython_science.git (fetch)\n",
        "upstream\thttps://github.com/Tooblippe/zapycon2013_ipython_science.git (push)\n"
       ]
      }
     ],
     "prompt_number": 3
    },
    {
     "cell_type": "code",
     "collapsed": false,
     "input": [
      "# agregar un repositorio remoto\n",
      "!cd gitdemo\n",
      "\n",
      "!git remote add origin https://github.com/nekio/prueba.git\n",
      "!git push -u origin master"
     ],
     "language": "python",
     "metadata": {},
     "outputs": [
      {
       "output_type": "stream",
       "stream": "stderr",
       "text": [
        "fatal: remote origin already exists.\n"
       ]
      }
     ]
    },
    {
     "cell_type": "code",
     "collapsed": false,
     "input": [
      "# Introducir credenciales para remotear\n",
      "!git config --global user.name 'Ivan Carrillo'\n",
      "!git config --global user.email neeckio@me.com\n",
      "\n",
      "!cd gitdemo\n",
      "!git remote -v"
     ],
     "language": "python",
     "metadata": {},
     "outputs": [
      {
       "output_type": "stream",
       "stream": "stdout",
       "text": [
        "origin\thttps://github.com/htapia/lania.ipython.git (fetch)\n",
        "origin\thttps://github.com/htapia/lania.ipython.git (push)\n",
        "upstream\thttps://github.com/Tooblippe/zapycon2013_ipython_science.git (fetch)\n",
        "upstream\thttps://github.com/Tooblippe/zapycon2013_ipython_science.git (push)\n"
       ]
      }
     ],
     "prompt_number": 1
    },
    {
     "cell_type": "code",
     "collapsed": false,
     "input": [
      "# realizar clon de prueba\n",
      "!git clone https://github.com/nekio/prueba.git prueba2\n",
      "!cd prueba2\n",
      "!chdir \n",
      "!git remote -v"
     ],
     "language": "python",
     "metadata": {},
     "outputs": [
      {
       "output_type": "stream",
       "stream": "stderr",
       "text": [
        "Cloning into 'prueba2'...\n",
        "warning: You appear to have cloned an empty repository.\n"
       ]
      },
      {
       "output_type": "stream",
       "stream": "stdout",
       "text": [
        "C:\\Users\\Ivan\\Documents\\IPython Notebooks\\lania.ipython\\Dia1\\notebooks\n"
       ]
      },
      {
       "output_type": "stream",
       "stream": "stdout",
       "text": [
        "origin\thttps://github.com/htapia/lania.ipython.git (fetch)\n",
        "origin\thttps://github.com/htapia/lania.ipython.git (push)\n",
        "upstream\thttps://github.com/Tooblippe/zapycon2013_ipython_science.git (fetch)\n",
        "upstream\thttps://github.com/Tooblippe/zapycon2013_ipython_science.git (push)\n"
       ]
      }
     ],
     "prompt_number": 2
    },
    {
     "cell_type": "code",
     "collapsed": false,
     "input": [
      "# visualizamos el contenido del clon\n",
      "!dir prueba2"
     ],
     "language": "python",
     "metadata": {},
     "outputs": [
      {
       "output_type": "stream",
       "stream": "stdout",
       "text": [
        " El volumen de la unidad C es Windows\n",
        " El n\u00a3mero de serie del volumen es: D6D7-27D9\n",
        "\n",
        " Directorio de C:\\Users\\Ivan\\Documents\\IPython Notebooks\\lania.ipython\\Dia1\\notebooks\\prueba2\n",
        "\n",
        "07/11/2014  10:33 p. m.    <DIR>          .\n",
        "07/11/2014  10:33 p. m.    <DIR>          ..\n",
        "               0 archivos              0 bytes\n",
        "               2 dirs  72,512,151,552 bytes libres\n"
       ]
      }
     ],
     "prompt_number": 5
    },
    {
     "cell_type": "code",
     "collapsed": false,
     "input": [
      "!cd prueba2\n",
      "\n",
      "!echo \"Otros resultados del experimento en otra maquina\" >> experimento.txt\n",
      "!git commit -a -m\"Un poco mas trabajo, realizado en la computadora #2\""
     ],
     "language": "python",
     "metadata": {},
     "outputs": [
      {
       "output_type": "stream",
       "stream": "stdout",
       "text": [
        "[master 452578f] Un poco mas trabajo, realizado en la computadora #2\n",
        " 2 files changed, 2 insertions(+), 2 deletions(-)\n"
       ]
      }
     ],
     "prompt_number": 6
    },
    {
     "cell_type": "code",
     "collapsed": false,
     "input": [
      "# Publicar cambios de prueba2\n",
      "!cd prueba2\n",
      "!git push"
     ],
     "language": "python",
     "metadata": {},
     "outputs": []
    },
    {
     "cell_type": "code",
     "collapsed": false,
     "input": [
      "#obtenemos en contenido\n",
      "!cd gitdemo\n",
      "!git pull"
     ],
     "language": "python",
     "metadata": {},
     "outputs": []
    },
    {
     "cell_type": "heading",
     "level": 4,
     "metadata": {},
     "source": [
      "Sinesio Ivan Carrillo Heredia"
     ]
    }
   ],
   "metadata": {}
  }
 ]
}