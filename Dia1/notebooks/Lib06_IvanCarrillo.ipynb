{
 "metadata": {
  "name": "",
  "signature": "sha256:4ad65c55f80c25cd75cd073c6595bd5b466b192dd7ff0ecfce5d4775731e9502"
 },
 "nbformat": 3,
 "nbformat_minor": 0,
 "worksheets": [
  {
   "cells": [
    {
     "cell_type": "heading",
     "level": 1,
     "metadata": {},
     "source": [
      "Ejercicio 6"
     ]
    },
    {
     "cell_type": "code",
     "collapsed": false,
     "input": [
      "%run ../talktools.py"
     ],
     "language": "python",
     "metadata": {},
     "outputs": [
      {
       "html": [
        "<link href='http://fonts.googleapis.com/css?family=Alegreya+Sans:100,300,400,500,700,800,900,100italic,300italic,400italic,500italic,700italic,800italic,900italic' rel='stylesheet' type='text/css'>\n",
        "<link href='http://fonts.googleapis.com/css?family=Arvo:400,700,400italic' rel='stylesheet' type='text/css'>\n",
        "<link href='http://fonts.googleapis.com/css?family=PT+Mono' rel='stylesheet' type='text/css'>\n",
        "<link href='http://fonts.googleapis.com/css?family=Shadows+Into+Light' rel='stylesheet' type='text/css'>\n",
        "<link href='http://fonts.googleapis.com/css?family=Nixie+One' rel='stylesheet' type='text/css'>\n",
        "<style>\n",
        "\n",
        "@font-face {\n",
        "    font-family: \"Computer Modern\";\n",
        "    src: url('http://mirrors.ctan.org/fonts/cm-unicode/fonts/otf/cmunss.otf');\n",
        "}\n",
        "\n",
        "#notebook_panel { /* main background */\n",
        "    background: rgb(245,245,245);\n",
        "}\n",
        "\n",
        "div.cell { /* set cell width */\n",
        "    width: 750px;\n",
        "}\n",
        "\n",
        "div #notebook { /* centre the content */\n",
        "    background: #fff; /* white background for content */\n",
        "    width: 1000px;\n",
        "    margin: auto;\n",
        "    padding-left: 0em;\n",
        "}\n",
        "\n",
        "#notebook li { /* More space between bullet points */\n",
        "margin-top:0.8em;\n",
        "}\n",
        "\n",
        "/* draw border around running cells */\n",
        "div.cell.border-box-sizing.code_cell.running { \n",
        "    border: 1px solid #111;\n",
        "}\n",
        "\n",
        "/* Put a solid color box around each cell and its output, visually linking them*/\n",
        "div.cell.code_cell {\n",
        "    background-color: rgb(256,256,256); \n",
        "    border-radius: 0px; \n",
        "    padding: 0.5em;\n",
        "    margin-left:1em;\n",
        "    margin-top: 1em;\n",
        "}\n",
        "\n",
        "div.text_cell_render{\n",
        "    font-family: 'Alegreya Sans' sans-serif;\n",
        "    line-height: 140%;\n",
        "    font-size: 125%;\n",
        "    font-weight: 400;\n",
        "    width:600px;\n",
        "    margin-left:auto;\n",
        "    margin-right:auto;\n",
        "}\n",
        "\n",
        "\n",
        "/* Formatting for header cells */\n",
        ".text_cell_render h1 {\n",
        "    font-family: 'Nixie One', serif;\n",
        "    font-style:regular;\n",
        "    font-weight: 400;    \n",
        "    font-size: 45pt;\n",
        "    line-height: 100%;\n",
        "    color: rgb(0,51,102);\n",
        "    margin-bottom: 0.5em;\n",
        "    margin-top: 0.5em;\n",
        "    display: block;\n",
        "}\t\n",
        ".text_cell_render h2 {\n",
        "    font-family: 'Nixie One', serif;\n",
        "    font-weight: 400;\n",
        "    font-size: 30pt;\n",
        "    line-height: 100%;\n",
        "    color: rgb(0,51,102);\n",
        "    margin-bottom: 0.1em;\n",
        "    margin-top: 0.3em;\n",
        "    display: block;\n",
        "}\t\n",
        "\n",
        ".text_cell_render h3 {\n",
        "    font-family: 'Nixie One', serif;\n",
        "    margin-top:16px;\n",
        "\tfont-size: 22pt;\n",
        "    font-weight: 600;\n",
        "    margin-bottom: 3px;\n",
        "    font-style: regular;\n",
        "    color: rgb(102,102,0);\n",
        "}\n",
        "\n",
        ".text_cell_render h4 {    /*Use this for captions*/\n",
        "    font-family: 'Nixie One', serif;\n",
        "    font-size: 14pt;\n",
        "    text-align: center;\n",
        "    margin-top: 0em;\n",
        "    margin-bottom: 2em;\n",
        "    font-style: regular;\n",
        "}\n",
        "\n",
        ".text_cell_render h5 {  /*Use this for small titles*/\n",
        "    font-family: 'Nixie One', sans-serif;\n",
        "    font-weight: 400;\n",
        "    font-size: 16pt;\n",
        "    color: rgb(163,0,0);\n",
        "    font-style: italic;\n",
        "    margin-bottom: .1em;\n",
        "    margin-top: 0.8em;\n",
        "    display: block;\n",
        "}\n",
        "\n",
        ".text_cell_render h6 { /*use this for copyright note*/\n",
        "    font-family: 'PT Mono', sans-serif;\n",
        "    font-weight: 300;\n",
        "    font-size: 9pt;\n",
        "    line-height: 100%;\n",
        "    color: grey;\n",
        "    margin-bottom: 1px;\n",
        "    margin-top: 1px;\n",
        "}\n",
        "\n",
        ".CodeMirror{\n",
        "        font-family: \"PT Mono\";\n",
        "        font-size: 90%;\n",
        "}\n",
        "\n",
        "</style>\n",
        "<script>\n",
        "    MathJax.Hub.Config({\n",
        "                        TeX: {\n",
        "                           extensions: [\"AMSmath.js\"],\n",
        "                           equationNumbers: { autoNumber: \"AMS\", useLabelIds: true}\n",
        "                           },\n",
        "                tex2jax: {\n",
        "                    inlineMath: [ ['$','$'], [\"\\\\(\",\"\\\\)\"] ],\n",
        "                    displayMath: [ ['$$','$$'], [\"\\\\[\",\"\\\\]\"] ]\n",
        "                },\n",
        "                displayAlign: 'center', // Change this to 'center' to center equations.\n",
        "                \"HTML-CSS\": {\n",
        "                    styles: {'.MathJax_Display': {\"margin\": 4}}\n",
        "                }\n",
        "        });\n",
        "</script>"
       ],
       "metadata": {},
       "output_type": "display_data",
       "text": [
        "<IPython.core.display.HTML at 0xbb2b128>"
       ]
      }
     ],
     "prompt_number": 1
    },
    {
     "cell_type": "code",
     "collapsed": false,
     "input": [
      "filelist = !dir                    #leer el directorio actual en una variable\n",
      "for x,i in enumerate(filelist):\n",
      "    print '#',x, '--->', i"
     ],
     "language": "python",
     "metadata": {},
     "outputs": [
      {
       "output_type": "stream",
       "stream": "stdout",
       "text": [
        "# 0 --->  El volumen de la unidad C es Windows\n",
        "# 1 --->  El n\ufffdmero de serie del volumen es: D6D7-27D9\n",
        "# 2 ---> \n",
        "# 3 --->  Directorio de C:\\Users\\Ivan\\Documents\\IPython Notebooks\\lania.ipython\\Dia1\\notebooks\n",
        "# 4 ---> \n",
        "# 5 ---> \n",
        "# 6 --->  Directorio de C:\\Users\\Ivan\\Documents\\IPython Notebooks\\lania.ipython\\Dia1\\notebooks\n",
        "# 7 ---> \n",
        "# 8 ---> \n",
        "# 9 --->  Directorio de C:\\Users\\Ivan\\Documents\\IPython Notebooks\\lania.ipython\\Dia1\\notebooks\n",
        "# 10 ---> \n",
        "# 11 ---> \n",
        "# 12 --->  Directorio de C:\\Users\\Ivan\\Documents\\IPython Notebooks\\lania.ipython\\Dia1\\notebooks\n",
        "# 13 ---> \n",
        "# 14 ---> \n",
        "# 15 --->  Directorio de C:\\Users\\Ivan\\Documents\\IPython Notebooks\\lania.ipython\\Dia1\\notebooks\n",
        "# 16 ---> \n",
        "# 17 ---> \n",
        "# 18 --->  Directorio de C:\\Users\\Ivan\\Documents\\IPython Notebooks\\lania.ipython\\Dia1\\notebooks\n",
        "# 19 ---> \n",
        "# 20 ---> \n",
        "# 21 --->  Directorio de C:\\Users\\Ivan\\Documents\\IPython Notebooks\\lania.ipython\\Dia1\\notebooks\n",
        "# 22 ---> \n",
        "# 23 ---> No se encuentra el archivo\n"
       ]
      }
     ],
     "prompt_number": 1
    },
    {
     "cell_type": "code",
     "collapsed": false,
     "input": [
      "from IPython.display import FileLink, FileLinks\n",
      "FileLinks('.') #Devuelve todos los archivos y directorios"
     ],
     "language": "python",
     "metadata": {},
     "outputs": [
      {
       "html": [
        "./<br>\n",
        "&nbsp;&nbsp;<a href='./Lib00_Esenciales_IPython_Notebook.ipynb' target='_blank'>Lib00_Esenciales_IPython_Notebook.ipynb</a><br>\n",
        "&nbsp;&nbsp;<a href='./Lib01_Esenciales_IPython_Notebook.ipynb' target='_blank'>Lib01_Esenciales_IPython_Notebook.ipynb</a><br>\n",
        "&nbsp;&nbsp;<a href='./Lib02_Esenciales_IPython_Notebook.ipynb' target='_blank'>Lib02_Esenciales_IPython_Notebook.ipynb</a><br>\n",
        "&nbsp;&nbsp;<a href='./Lib02_IvanCarrillo.ipynb' target='_blank'>Lib02_IvanCarrillo.ipynb</a><br>\n",
        "&nbsp;&nbsp;<a href='./Lib03_Esenciales_IPython_Notebook.ipynb' target='_blank'>Lib03_Esenciales_IPython_Notebook.ipynb</a><br>\n",
        "&nbsp;&nbsp;<a href='./Lib03_IvanCarrillo.ipynb' target='_blank'>Lib03_IvanCarrillo.ipynb</a><br>\n",
        "&nbsp;&nbsp;<a href='./Lib04_Esenciales_IPython_Notebook.ipynb' target='_blank'>Lib04_Esenciales_IPython_Notebook.ipynb</a><br>\n",
        "&nbsp;&nbsp;<a href='./Lib04_IvanCarrillo.ipynb' target='_blank'>Lib04_IvanCarrillo.ipynb</a><br>\n",
        "&nbsp;&nbsp;<a href='./Lib05_Esenciales_IPython_Notebook.ipynb' target='_blank'>Lib05_Esenciales_IPython_Notebook.ipynb</a><br>\n",
        "&nbsp;&nbsp;<a href='./Lib05_IvanCarrillo-Copy0.ipynb' target='_blank'>Lib05_IvanCarrillo-Copy0.ipynb</a><br>\n",
        "&nbsp;&nbsp;<a href='./Lib05_IvanCarrillo.ipynb' target='_blank'>Lib05_IvanCarrillo.ipynb</a><br>\n",
        "&nbsp;&nbsp;<a href='./Lib06_Esenciales_IPython_Notebook.ipynb' target='_blank'>Lib06_Esenciales_IPython_Notebook.ipynb</a><br>\n",
        "&nbsp;&nbsp;<a href='./Lib07_Esenciales_IPython_Notebook.ipynb' target='_blank'>Lib07_Esenciales_IPython_Notebook.ipynb</a><br>\n",
        "&nbsp;&nbsp;<a href='./Lib08_Esenciales_IPython_Notebook.ipynb' target='_blank'>Lib08_Esenciales_IPython_Notebook.ipynb</a><br>\n",
        "&nbsp;&nbsp;<a href='./Lib09_Esenciales_IPython_Notebook.ipynb' target='_blank'>Lib09_Esenciales_IPython_Notebook.ipynb</a><br>\n",
        "&nbsp;&nbsp;<a href='./Lib10_Esenciales_IPython_Notebook.ipynb' target='_blank'>Lib10_Esenciales_IPython_Notebook.ipynb</a><br>\n",
        "&nbsp;&nbsp;<a href='./Lib11_GIT01_RevisionControl_1aEtapa.ipynb' target='_blank'>Lib11_GIT01_RevisionControl_1aEtapa.ipynb</a><br>\n",
        "&nbsp;&nbsp;<a href='./Lib12_GIT02_RevisionControl_2aEtapa.ipynb' target='_blank'>Lib12_GIT02_RevisionControl_2aEtapa.ipynb</a><br>\n",
        "&nbsp;&nbsp;<a href='./Lib13_GIT03_RevisionControl_3aEtapa.ipynb' target='_blank'>Lib13_GIT03_RevisionControl_3aEtapa.ipynb</a><br>\n",
        "&nbsp;&nbsp;<a href='./Lib14_GIT04_RevisionControl_4aEtapa.ipynb' target='_blank'>Lib14_GIT04_RevisionControl_4aEtapa.ipynb</a><br>\n",
        "&nbsp;&nbsp;<a href='./Lib15_GIT05_RevisionControl_Aplicacion.ipynb' target='_blank'>Lib15_GIT05_RevisionControl_Aplicacion.ipynb</a><br>\n",
        ".\\.ipynb_checkpoints/<br>\n",
        "&nbsp;&nbsp;<a href='./.ipynb_checkpoints/Lib00_Esenciales_IPython_Notebook-checkpoint.ipynb' target='_blank'>Lib00_Esenciales_IPython_Notebook-checkpoint.ipynb</a><br>\n",
        "&nbsp;&nbsp;<a href='./.ipynb_checkpoints/Lib01_Esenciales_IPython_Notebook-checkpoint.ipynb' target='_blank'>Lib01_Esenciales_IPython_Notebook-checkpoint.ipynb</a><br>\n",
        "&nbsp;&nbsp;<a href='./.ipynb_checkpoints/Lib02_IvanCarrillo-checkpoint.ipynb' target='_blank'>Lib02_IvanCarrillo-checkpoint.ipynb</a><br>\n",
        "&nbsp;&nbsp;<a href='./.ipynb_checkpoints/Lib03_IvanCarrillo-checkpoint.ipynb' target='_blank'>Lib03_IvanCarrillo-checkpoint.ipynb</a><br>\n",
        "&nbsp;&nbsp;<a href='./.ipynb_checkpoints/Lib04_IvanCarrillo-checkpoint.ipynb' target='_blank'>Lib04_IvanCarrillo-checkpoint.ipynb</a><br>\n",
        "&nbsp;&nbsp;<a href='./.ipynb_checkpoints/Lib05_IvanCarrillo-checkpoint.ipynb' target='_blank'>Lib05_IvanCarrillo-checkpoint.ipynb</a><br>\n",
        "&nbsp;&nbsp;<a href='./.ipynb_checkpoints/Lib05_IvanCarrillo-Copy0-checkpoint.ipynb' target='_blank'>Lib05_IvanCarrillo-Copy0-checkpoint.ipynb</a><br>"
       ],
       "metadata": {},
       "output_type": "pyout",
       "prompt_number": 2,
       "text": [
        "./\n",
        "  Lib00_Esenciales_IPython_Notebook.ipynb\n",
        "  Lib01_Esenciales_IPython_Notebook.ipynb\n",
        "  Lib02_Esenciales_IPython_Notebook.ipynb\n",
        "  Lib02_IvanCarrillo.ipynb\n",
        "  Lib03_Esenciales_IPython_Notebook.ipynb\n",
        "  Lib03_IvanCarrillo.ipynb\n",
        "  Lib04_Esenciales_IPython_Notebook.ipynb\n",
        "  Lib04_IvanCarrillo.ipynb\n",
        "  Lib05_Esenciales_IPython_Notebook.ipynb\n",
        "  Lib05_IvanCarrillo-Copy0.ipynb\n",
        "  Lib05_IvanCarrillo.ipynb\n",
        "  Lib06_Esenciales_IPython_Notebook.ipynb\n",
        "  Lib07_Esenciales_IPython_Notebook.ipynb\n",
        "  Lib08_Esenciales_IPython_Notebook.ipynb\n",
        "  Lib09_Esenciales_IPython_Notebook.ipynb\n",
        "  Lib10_Esenciales_IPython_Notebook.ipynb\n",
        "  Lib11_GIT01_RevisionControl_1aEtapa.ipynb\n",
        "  Lib12_GIT02_RevisionControl_2aEtapa.ipynb\n",
        "  Lib13_GIT03_RevisionControl_3aEtapa.ipynb\n",
        "  Lib14_GIT04_RevisionControl_4aEtapa.ipynb\n",
        "  Lib15_GIT05_RevisionControl_Aplicacion.ipynb\n",
        ".\\.ipynb_checkpoints/\n",
        "  Lib00_Esenciales_IPython_Notebook-checkpoint.ipynb\n",
        "  Lib01_Esenciales_IPython_Notebook-checkpoint.ipynb\n",
        "  Lib02_IvanCarrillo-checkpoint.ipynb\n",
        "  Lib03_IvanCarrillo-checkpoint.ipynb\n",
        "  Lib04_IvanCarrillo-checkpoint.ipynb\n",
        "  Lib05_IvanCarrillo-checkpoint.ipynb\n",
        "  Lib05_IvanCarrillo-Copy0-checkpoint.ipynb"
       ]
      }
     ],
     "prompt_number": 2
    },
    {
     "cell_type": "code",
     "collapsed": false,
     "input": [
      "FileLinks('./.ipynb_checkpoints/')"
     ],
     "language": "python",
     "metadata": {},
     "outputs": [
      {
       "html": [
        "./.ipynb_checkpoints/<br>\n",
        "&nbsp;&nbsp;<a href='./.ipynb_checkpoints/Lib00_Esenciales_IPython_Notebook-checkpoint.ipynb' target='_blank'>Lib00_Esenciales_IPython_Notebook-checkpoint.ipynb</a><br>\n",
        "&nbsp;&nbsp;<a href='./.ipynb_checkpoints/Lib01_Esenciales_IPython_Notebook-checkpoint.ipynb' target='_blank'>Lib01_Esenciales_IPython_Notebook-checkpoint.ipynb</a><br>\n",
        "&nbsp;&nbsp;<a href='./.ipynb_checkpoints/Lib02_IvanCarrillo-checkpoint.ipynb' target='_blank'>Lib02_IvanCarrillo-checkpoint.ipynb</a><br>\n",
        "&nbsp;&nbsp;<a href='./.ipynb_checkpoints/Lib03_IvanCarrillo-checkpoint.ipynb' target='_blank'>Lib03_IvanCarrillo-checkpoint.ipynb</a><br>\n",
        "&nbsp;&nbsp;<a href='./.ipynb_checkpoints/Lib04_IvanCarrillo-checkpoint.ipynb' target='_blank'>Lib04_IvanCarrillo-checkpoint.ipynb</a><br>\n",
        "&nbsp;&nbsp;<a href='./.ipynb_checkpoints/Lib05_IvanCarrillo-checkpoint.ipynb' target='_blank'>Lib05_IvanCarrillo-checkpoint.ipynb</a><br>\n",
        "&nbsp;&nbsp;<a href='./.ipynb_checkpoints/Lib05_IvanCarrillo-Copy0-checkpoint.ipynb' target='_blank'>Lib05_IvanCarrillo-Copy0-checkpoint.ipynb</a><br>"
       ],
       "metadata": {},
       "output_type": "pyout",
       "prompt_number": 3,
       "text": [
        "./.ipynb_checkpoints/\n",
        "  Lib00_Esenciales_IPython_Notebook-checkpoint.ipynb\n",
        "  Lib01_Esenciales_IPython_Notebook-checkpoint.ipynb\n",
        "  Lib02_IvanCarrillo-checkpoint.ipynb\n",
        "  Lib03_IvanCarrillo-checkpoint.ipynb\n",
        "  Lib04_IvanCarrillo-checkpoint.ipynb\n",
        "  Lib05_IvanCarrillo-checkpoint.ipynb\n",
        "  Lib05_IvanCarrillo-Copy0-checkpoint.ipynb"
       ]
      }
     ],
     "prompt_number": 3
    },
    {
     "cell_type": "code",
     "collapsed": false,
     "input": [
      "%load http://pastebin.com/raw.php?i=mGiV1FwY"
     ],
     "language": "python",
     "metadata": {},
     "outputs": [],
     "prompt_number": 4
    },
    {
     "cell_type": "code",
     "collapsed": false,
     "input": [
      "CustomPlot()\n",
      "font_size = 20\n",
      "figsize(11.5, 6)\n",
      "\n",
      "t = arange(0.0, 2.0, 0.01)\n",
      "s = sin(2*pi*t)\n",
      "plot(t, s)\n",
      "\n",
      "xlabel(r'time $(s)$', fontsize=font_size)\n",
      "ylabel('voltage $(mV)$', fontsize=font_size)\n",
      "title('Voltage', fontsize=font_size)\n",
      "grid(True)"
     ],
     "language": "python",
     "metadata": {},
     "outputs": []
    },
    {
     "cell_type": "code",
     "collapsed": false,
     "input": [
      "#SALVANDO A GIST"
     ],
     "language": "python",
     "metadata": {},
     "outputs": [],
     "prompt_number": 5
    },
    {
     "cell_type": "code",
     "collapsed": false,
     "input": [
      "%pastebin?"
     ],
     "language": "python",
     "metadata": {},
     "outputs": [],
     "prompt_number": 9
    },
    {
     "cell_type": "code",
     "collapsed": false,
     "input": [
      "%pastebin -d \"grafica\" 0-10"
     ],
     "language": "python",
     "metadata": {},
     "outputs": [
      {
       "metadata": {},
       "output_type": "pyout",
       "prompt_number": 13,
       "text": [
        "u'https://gist.github.com/02b2b147415f01500c55'"
       ]
      }
     ],
     "prompt_number": 13
    },
    {
     "cell_type": "code",
     "collapsed": false,
     "input": [
      "%connect_info"
     ],
     "language": "python",
     "metadata": {},
     "outputs": [
      {
       "output_type": "stream",
       "stream": "stdout",
       "text": [
        "{\n",
        "  \"stdin_port\": 51281, \n",
        "  \"ip\": \"127.0.0.1\", \n",
        "  \"control_port\": 51282, \n",
        "  \"hb_port\": 51283, \n",
        "  \"signature_scheme\": \"hmac-sha256\", \n",
        "  \"key\": \"670a1160-f221-46aa-91cb-ad9574609790\", \n",
        "  \"shell_port\": 51279, \n",
        "  \"transport\": \"tcp\", \n",
        "  \"iopub_port\": 51280\n",
        "}\n",
        "\n",
        "Paste the above JSON into a file, and connect with:\n",
        "    $> ipython <app> --existing <file>\n",
        "or, if you are local, you can connect with just:\n",
        "    $> ipython <app> --existing kernel-4f8a9842-130d-41fa-ba47-15f68cbf76a1.json \n",
        "or even just:\n",
        "    $> ipython <app> --existing \n",
        "if this is the most recent IPython session you have started.\n"
       ]
      }
     ],
     "prompt_number": 10
    },
    {
     "cell_type": "code",
     "collapsed": false,
     "input": [
      "echo $null >> algunNombre"
     ],
     "language": "python",
     "metadata": {},
     "outputs": [],
     "prompt_number": 11
    },
    {
     "cell_type": "code",
     "collapsed": false,
     "input": [
      "!dir"
     ],
     "language": "python",
     "metadata": {},
     "outputs": [
      {
       "output_type": "stream",
       "stream": "stdout",
       "text": [
        " El volumen de la unidad C es Windows\n",
        " El n\u00a3mero de serie del volumen es: D6D7-27D9\n",
        "\n",
        " Directorio de C:\\Users\\Ivan\\Documents\\IPython Notebooks\\lania.ipython\\Dia1\\notebooks\n",
        "\n",
        "01/11/2014  04:57 p. m.    <DIR>          .\n",
        "01/11/2014  04:57 p. m.    <DIR>          ..\n",
        "01/11/2014  05:05 p. m.    <DIR>          .ipynb_checkpoints\n",
        "01/11/2014  04:57 p. m.                 8 algunNombre\n",
        "01/11/2014  01:42 p. m.            17,215 Lib00_Esenciales_IPython_Notebook.ipynb\n",
        "01/11/2014  01:54 p. m.            12,255 Lib01_Esenciales_IPython_Notebook.ipynb\n",
        "01/11/2014  11:38 a. m.             8,180 Lib02_Esenciales_IPython_Notebook.ipynb\n",
        "01/11/2014  03:44 p. m.             8,154 Lib02_IvanCarrillo.ipynb\n",
        "01/11/2014  11:38 a. m.             8,366 Lib03_Esenciales_IPython_Notebook.ipynb\n",
        "01/11/2014  04:06 p. m.             9,529 Lib03_IvanCarrillo.ipynb\n",
        "01/11/2014  11:38 a. m.             9,038 Lib04_Esenciales_IPython_Notebook.ipynb\n",
        "01/11/2014  04:20 p. m.            11,383 Lib04_IvanCarrillo.ipynb\n",
        "01/11/2014  11:38 a. m.            15,467 Lib05_Esenciales_IPython_Notebook.ipynb\n",
        "01/11/2014  04:44 p. m.            28,438 Lib05_IvanCarrillo.ipynb\n",
        "01/11/2014  05:05 p. m.            22,572 Lib06_Esenciales_IPython_Notebook.ipynb\n",
        "01/11/2014  05:07 p. m.            20,222 Lib06_IvanCarrillo.ipynb\n",
        "01/11/2014  11:38 a. m.           223,399 Lib07_Esenciales_IPython_Notebook.ipynb\n",
        "01/11/2014  11:38 a. m.            15,846 Lib08_Esenciales_IPython_Notebook.ipynb\n",
        "01/11/2014  11:38 a. m.           296,400 Lib09_Esenciales_IPython_Notebook.ipynb\n",
        "01/11/2014  11:38 a. m.            16,852 Lib10_Esenciales_IPython_Notebook.ipynb\n",
        "01/11/2014  11:38 a. m.            22,169 Lib11_GIT01_RevisionControl_1aEtapa.ipynb\n",
        "01/11/2014  11:38 a. m.             8,979 Lib12_GIT02_RevisionControl_2aEtapa.ipynb\n",
        "01/11/2014  11:38 a. m.             8,698 Lib13_GIT03_RevisionControl_3aEtapa.ipynb\n",
        "01/11/2014  11:38 a. m.             7,569 Lib14_GIT04_RevisionControl_4aEtapa.ipynb\n",
        "01/11/2014  11:38 a. m.            14,307 Lib15_GIT05_RevisionControl_Aplicacion.ipynb\n",
        "              22 archivos        785,046 bytes\n",
        "               3 dirs   1,911,169,024 bytes libres\n"
       ]
      }
     ],
     "prompt_number": 14
    },
    {
     "cell_type": "code",
     "collapsed": false,
     "input": [
      "filelist = !dir                    \n",
      "for x,i in enumerate(filelist):\n",
      "    print '#',x, '--->', i"
     ],
     "language": "python",
     "metadata": {},
     "outputs": [
      {
       "output_type": "stream",
       "stream": "stdout",
       "text": [
        "# 0 --->  El volumen de la unidad C es Windows\n",
        "# 1 --->  El n\ufffdmero de serie del volumen es: D6D7-27D9\n",
        "# 2 ---> \n",
        "# 3 --->  Directorio de C:\\Users\\Ivan\\Documents\\IPython Notebooks\\lania.ipython\\Dia1\\notebooks\n",
        "# 4 ---> \n",
        "# 5 ---> 01/11/2014  04:57 p. m.    <DIR>          .\n",
        "# 6 ---> 01/11/2014  04:57 p. m.    <DIR>          ..\n",
        "# 7 ---> 01/11/2014  05:05 p. m.    <DIR>          .ipynb_checkpoints\n",
        "# 8 ---> 01/11/2014  04:57 p. m.                 8 algunNombre\n",
        "# 9 ---> 01/11/2014  01:42 p. m.            17,215 Lib00_Esenciales_IPython_Notebook.ipynb\n",
        "# 10 ---> 01/11/2014  01:54 p. m.            12,255 Lib01_Esenciales_IPython_Notebook.ipynb\n",
        "# 11 ---> 01/11/2014  11:38 a. m.             8,180 Lib02_Esenciales_IPython_Notebook.ipynb\n",
        "# 12 ---> 01/11/2014  03:44 p. m.             8,154 Lib02_IvanCarrillo.ipynb\n",
        "# 13 ---> 01/11/2014  11:38 a. m.             8,366 Lib03_Esenciales_IPython_Notebook.ipynb\n",
        "# 14 ---> 01/11/2014  04:06 p. m.             9,529 Lib03_IvanCarrillo.ipynb\n",
        "# 15 ---> 01/11/2014  11:38 a. m.             9,038 Lib04_Esenciales_IPython_Notebook.ipynb\n",
        "# 16 ---> 01/11/2014  04:20 p. m.            11,383 Lib04_IvanCarrillo.ipynb\n",
        "# 17 ---> 01/11/2014  11:38 a. m.            15,467 Lib05_Esenciales_IPython_Notebook.ipynb\n",
        "# 18 ---> 01/11/2014  04:44 p. m.            28,438 Lib05_IvanCarrillo.ipynb\n",
        "# 19 ---> 01/11/2014  05:05 p. m.            22,572 Lib06_Esenciales_IPython_Notebook.ipynb\n",
        "# 20 ---> 01/11/2014  05:11 p. m.            22,996 Lib06_IvanCarrillo.ipynb\n",
        "# 21 ---> 01/11/2014  11:38 a. m.           223,399 Lib07_Esenciales_IPython_Notebook.ipynb\n",
        "# 22 ---> 01/11/2014  11:38 a. m.            15,846 Lib08_Esenciales_IPython_Notebook.ipynb\n",
        "# 23 ---> 01/11/2014  11:38 a. m.           296,400 Lib09_Esenciales_IPython_Notebook.ipynb\n",
        "# 24 ---> 01/11/2014  11:38 a. m.            16,852 Lib10_Esenciales_IPython_Notebook.ipynb\n",
        "# 25 ---> 01/11/2014  11:38 a. m.            22,169 Lib11_GIT01_RevisionControl_1aEtapa.ipynb\n",
        "# 26 ---> 01/11/2014  11:38 a. m.             8,979 Lib12_GIT02_RevisionControl_2aEtapa.ipynb\n",
        "# 27 ---> 01/11/2014  11:38 a. m.             8,698 Lib13_GIT03_RevisionControl_3aEtapa.ipynb\n",
        "# 28 ---> 01/11/2014  11:38 a. m.             7,569 Lib14_GIT04_RevisionControl_4aEtapa.ipynb\n",
        "# 29 ---> 01/11/2014  11:38 a. m.            14,307 Lib15_GIT05_RevisionControl_Aplicacion.ipynb\n",
        "# 30 --->               22 archivos        787,820 bytes\n",
        "# 31 --->                3 dirs   1,273,507,840 bytes libres\n"
       ]
      }
     ],
     "prompt_number": 17
    },
    {
     "cell_type": "code",
     "collapsed": false,
     "input": [
      "FileLink('Lib07_Esenciales_IPython_Notebook.ipynb') #devuelve el archivo especifico"
     ],
     "language": "python",
     "metadata": {},
     "outputs": [
      {
       "html": [
        "<a href='Lib07_Esenciales_IPython_Notebook.ipynb' target='_blank'>Lib07_Esenciales_IPython_Notebook.ipynb</a><br>"
       ],
       "metadata": {},
       "output_type": "pyout",
       "prompt_number": 21,
       "text": [
        "C:\\Users\\Ivan\\Documents\\IPython Notebooks\\lania.ipython\\Dia1\\notebooks\\Lib07_Esenciales_IPython_Notebook.ipynb"
       ]
      }
     ],
     "prompt_number": 21
    },
    {
     "cell_type": "heading",
     "level": 4,
     "metadata": {},
     "source": [
      "Sinesio Ivan Carrillo Heredia"
     ]
    }
   ],
   "metadata": {}
  }
 ]
}