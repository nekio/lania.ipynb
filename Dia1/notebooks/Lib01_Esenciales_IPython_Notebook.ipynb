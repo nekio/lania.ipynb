{
 "metadata": {
  "name": "",
  "signature": "sha256:f53cfd4851ed65decc957c8731063b25ed23c0b58e9a83a3ef96140e225e8f7f"
 },
 "nbformat": 3,
 "nbformat_minor": 0,
 "worksheets": [
  {
   "cells": [
    {
     "cell_type": "code",
     "collapsed": true,
     "input": [
      "%run ../talktools.py"
     ],
     "language": "python",
     "metadata": {
      "slideshow": {
       "slide_type": "skip"
      }
     },
     "outputs": [
      {
       "html": [
        "\n",
        "<style>\n",
        "    @font-face {\n",
        "        font-family: \"Computer Modern\";\n",
        "        src: url('http://mirrors.ctan.org/fonts/cm-unicode/fonts/otf/cmunss.otf');\n",
        "    }\n",
        "    div.cell{\n",
        "        width:800px;\n",
        "        margin-left:auto !important;\n",
        "        margin-right:auto;\n",
        "\t\tmargin-top:1em;\n",
        "\t\tmargin-bottom:1em;\n",
        "    }\n",
        "    h1 {\n",
        "        font-family: Helvetica, serif;\n",
        "\t\tbackground-color:#b0c4de;\n",
        "\n",
        "\t\t\n",
        "    }\n",
        "\th2 {\n",
        "        font-family: Helvetica, serif;\n",
        "\t\tbackground-color:#b0c4de;\n",
        "\t\t\n",
        "\t\t\n",
        "    }\n",
        "\th3 {\n",
        "        font-family: Helvetica, serif;\n",
        "\t\tbackground-color:#b0c4de;\n",
        "\t\t\n",
        "    }\n",
        "    h4{\n",
        "        margin-top:12px;\n",
        "        margin-bottom: 3px;\n",
        "       }\n",
        "    div.text_cell_render{\n",
        "        font-family: Computer Modern, \"Helvetica Neue\", Arial, Helvetica, Geneva, sans-serif;\n",
        "        line-height: 145%;\n",
        "        font-size: 130%;\n",
        "        width:800px;\n",
        "        margin-left:auto;\n",
        "        margin-right:auto;\n",
        "    }\n",
        "    .CodeMirror{\n",
        "            font-family: \"Source Code Pro\", source-code-pro,Consolas, monospace;\n",
        "    }\n",
        "    \n",
        "    .text_cell_render h5 {\n",
        "        font-weight: 300;\n",
        "        font-size: 22pt;\n",
        "        color: #4057A1;\n",
        "        font-style: italic;\n",
        "        margin-bottom: .5em;\n",
        "        margin-top: 0.5em;\n",
        "        display: block;\n",
        "    }\n",
        "    \n",
        "    .warning{\n",
        "        color: rgb( 240, 20, 20 )\n",
        "        }  \n",
        "\n",
        "\t\tdiv.cell.code_cell {  /* Areat containing both code and output */\n",
        "\t\tbackground-color:#F1F0FF; /* light blue */\n",
        "\t\tborder-radius: 10px; /* rounded borders = friendlier */\n",
        "\t\tpadding: 1em;\n",
        "\t\t}\n",
        "</style>\n",
        "<script>\n",
        "    MathJax.Hub.Config({\n",
        "                        TeX: {\n",
        "                           extensions: [\"AMSmath.js\"]\n",
        "                           },\n",
        "                tex2jax: {\n",
        "                    inlineMath: [ ['$','$'], [\"\\\\(\",\"\\\\)\"] ],\n",
        "                    displayMath: [ ['$$','$$'], [\"\\\\[\",\"\\\\]\"] ]\n",
        "                },\n",
        "                displayAlign: 'center', // Change this to 'center' to center equations.\n",
        "                \"HTML-CSS\": {\n",
        "                    styles: {'.MathJax_Display': {\"margin\": 4}}\n",
        "                }\n",
        "        });\n",
        "</script>"
       ],
       "metadata": {},
       "output_type": "display_data",
       "text": [
        "<IPython.core.display.HTML at 0x7ff8e1659390>"
       ]
      }
     ],
     "prompt_number": 1
    },
    {
     "cell_type": "markdown",
     "metadata": {
      "slideshow": {
       "slide_type": "slide"
      }
     },
     "source": [
      "# La libreta de IPython (IPython Notebook)\n",
      "\n",
      "La IPython notebook, parte del proyecto de IPython(ipython.org) es un ambiente computacional interactivo web (se ejecuta en un navegador por medio de un servidor web) en el cual se puede combinar la ejecucionde codigo, texto, matematicas, graficas y contenido, en un solo documento.\n",
      "\n",
      "![IPython Notebook](http://ipython.org/_static/ipy_0.13.png)"
     ]
    },
    {
     "cell_type": "code",
     "collapsed": false,
     "input": [
      "HTML('<iframe src=http://ipython.org/ipython-doc/stable/notebook/index.html width=750 height=350></iframe>')"
     ],
     "language": "python",
     "metadata": {},
     "outputs": [
      {
       "ename": "NameError",
       "evalue": "name 'HTML' is not defined",
       "output_type": "pyerr",
       "traceback": [
        "\u001b[1;31m---------------------------------------------------------------------------\u001b[0m\n\u001b[1;31mNameError\u001b[0m                                 Traceback (most recent call last)",
        "\u001b[1;32m<ipython-input-3-63e6a413b1ce>\u001b[0m in \u001b[0;36m<module>\u001b[1;34m()\u001b[0m\n\u001b[1;32m----> 1\u001b[1;33m \u001b[0mHTML\u001b[0m\u001b[1;33m(\u001b[0m\u001b[1;34m'<iframe src=http://ipython.org/ipython-doc/stable/notebook/index.html width=750 height=350></iframe>'\u001b[0m\u001b[1;33m)\u001b[0m\u001b[1;33m\u001b[0m\u001b[0m\n\u001b[0m",
        "\u001b[1;31mNameError\u001b[0m: name 'HTML' is not defined"
       ]
      }
     ],
     "prompt_number": 3
    },
    {
     "cell_type": "markdown",
     "metadata": {
      "slideshow": {
       "slide_type": "slide"
      }
     },
     "source": [
      "## Introducci\u00f3n r\u00e1pida a IPython\n",
      "\n",
      "IPython ofrece una arquitectura para c\u00f3mputo interactivo con:\n",
      "\n",
      "* Terminales de `shells interactivos`.\n",
      "* Una `libreta web` con soporte para c\u00f3digo, texto, expresiones matem\u00e1ticas, gr\u00e1ficas  y contenido digital embebido.\n",
      "* Soporte para `visualizaci\u00f3n interactiva de datos` y el uso de herramientos para GUI.\n",
      "* Int\u00e9rpretes flexibles y embebibles que pueden integrarse en proyectos externos.\n",
      "* Simpleza de uso y herramientas para c\u00f3mputo de paralelo y de alto rendimiento.\n",
      "\n",
      "Algunas de las razones por las que yo uso IPython son:\n",
      "\n",
      "* Un shell `superior` y un reemplazo de la linea de comando del SO\n",
      "* Es posible graficar en una consola o en las Libretas\n",
      "* Funciones llamadas `magic` facilitan el uso del sistema\n",
      "* Eficiencia num\u00e9rica y excelente desempe\u00f1o\n",
      "* Software Libre"
     ]
    },
    {
     "cell_type": "markdown",
     "metadata": {
      "slideshow": {
       "slide_type": "slide"
      }
     },
     "source": [
      "## Configurando el formato visual de la libreta\n",
      "El entorno visual puede configurarse usando estilos en un archivo `css`. Este tambi\u00e9n puede definirlos por medio de perfiles de IPython, sin embargo esto es mas espec\u00edfico y es m\u00e1s f\u00e1cil distribuir los archivos usando este `hack`. La configuracin se encuentra en un archivo separado que se ejecuta al inicio del la libreta con la instruccion `%run talktools.py`."
     ]
    },
    {
     "cell_type": "markdown",
     "metadata": {},
     "source": [
      "##Ejercicio\n",
      "Ejecuten la siguiente libreta y revisen las lineas de codigo del archivo de configuracion `talktools.py`."
     ]
    },
    {
     "cell_type": "code",
     "collapsed": false,
     "input": [
      "%load ../talktools.py"
     ],
     "language": "python",
     "metadata": {},
     "outputs": [],
     "prompt_number": 2
    },
    {
     "cell_type": "code",
     "collapsed": false,
     "input": [
      "\"\"\"\n",
      "\tSimple tools to style an IPython Notebook.\n",
      "\tAuthor: htapia@lania.edu.mx (modified from Fernando Perez <fernando.perez@berkeley.edu>)\n",
      "\"\"\"\n",
      "\n",
      "#-----------------------------------------------------------------------------\n",
      "# Imports\n",
      "#-----------------------------------------------------------------------------\n",
      "\n",
      "# stdlib\n",
      "import os\n",
      "\n",
      "# Third party\n",
      "import numpy as np\n",
      "import pandas as pd\n",
      "import matplotlib.pyplot as plt\n",
      "# %matplotlib inline\n",
      "\n",
      "# From IPython\n",
      "from IPython.display import (HTML, Image, display, YouTubeVideo, Math,\n",
      "                             Audio, clear_output, FileLinks)\n",
      "\n",
      "from IPython.core.pylabtools import figsize\n",
      "\n",
      "#-----------------------------------------------------------------------------\n",
      "# Functions and classes\n",
      "#-----------------------------------------------------------------------------\n",
      "\n",
      "def prefix(url):\n",
      "    prefix = '' if url.startswith('http') else 'http://'\n",
      "    return prefix + url\n",
      "\n",
      "\n",
      "def simple_link(url, name=None):\n",
      "    name = url if name is None else name\n",
      "    url = prefix(url)\n",
      "    return '<a href=\"%s\">%s</a>' % (url, name)\n",
      "\n",
      "\n",
      "def html_link(url, name=None):\n",
      "    return HTML(simple_link(url, name))\n",
      "\n",
      "\n",
      "# Utility functions\n",
      "def website(url, name='auto', width=800, height=450):\n",
      "    html = []\n",
      "    name = url if name == 'auto' else name\n",
      "    if name:\n",
      "        html.extend(['<div sytle=\"margin-bottom:10px\">',\n",
      "                     simple_link(url, name),\n",
      "                     '</div>'] )\n",
      "\n",
      "    html.append('<iframe src=\"%s\"  width=\"%s\" height=\"%s\"></iframe>' % \n",
      "                (prefix(url), width, height))\n",
      "    return HTML('\\n'.join(html))\n",
      "\n",
      "\n",
      "def nbviewer(url, name=None, width=800, height=450):\n",
      "    return website('nbviewer.ipython.org/url/' + url, name, width, height)\n",
      "\n",
      "\n",
      "def Video(fname):\n",
      "    from IPython.display import HTML, display\n",
      "    video = open(fname, \"rb\").read()\n",
      "    video_encoded = video.encode(\"base64\")\n",
      "    video_tag = '''<video controls alt=\"test\" src=\"data:video/x-m4v;base64,{0}\">\n",
      "    </video>'''.format(video_encoded)\n",
      "    return HTML(data=video_tag)    \n",
      "\n",
      "    \n",
      "def plot_audio(fname):\n",
      "    from scipy.io import wavfile\n",
      "    rate, x = wavfile.read(fname)\n",
      "    fig, (ax1, ax2) = plt.subplots(1, 2, figsize=(12, 4))\n",
      "    ax1.plot(x); ax1.set_title('Raw audio signal')\n",
      "    ax2.specgram(x); ax2.set_title('Spectrogram');\n",
      "    plt.show()\n",
      "\n",
      "#loads a customer marplotlib configuration file\n",
      "def CustomPlot():\n",
      "    import json\n",
      "    import matplotlib\n",
      "    from IPython.core.pylabtools import figsize\n",
      "    s = json.load( open(\"../../styles/matplotlibrc.json\") )\n",
      "    matplotlib.rcParams.update(s)\n",
      "    figsize(18, 6) \n",
      "#-----------------------------------------------------------------------------\n",
      "# Load and publish CSS\n",
      "#-----------------------------------------------------------------------------\n",
      "if __name__ == '__main__':\n",
      "    display(HTML(open(\"../../styles/matstyle.css\", \"r\").read()))\n"
     ],
     "language": "python",
     "metadata": {},
     "outputs": []
    },
    {
     "cell_type": "markdown",
     "metadata": {},
     "source": [
      "Ahora veamos algunos [elementos b\u00e1sicos de IPython Notebook.](Lib02_Esenciales_IPython_Notebook.ipynb)"
     ]
    }
   ],
   "metadata": {}
  }
 ]
}