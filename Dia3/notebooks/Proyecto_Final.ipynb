{
 "metadata": {
  "name": "",
  "signature": "sha256:de7ed6ca7f7dd0358d276c4c07678aa75a2433551a05b78325b54b2b501b3725"
 },
 "nbformat": 3,
 "nbformat_minor": 0,
 "worksheets": [
  {
   "cells": [
    {
     "cell_type": "code",
     "collapsed": false,
     "input": [
      "## Fecha Entrega: 27/11/2014\n",
      "## Proyecto:      Localizador de ubicaci\u00f3n (Hablado)\n",
      "## Colabordadores:\n",
      "##                Juana Valdez Jimenez\n",
      "##                Giovany Emilio Marin Garcia\n",
      "##                Sinesio Ivan Carrillo Heredia"
     ],
     "language": "python",
     "metadata": {},
     "outputs": []
    },
    {
     "cell_type": "code",
     "collapsed": false,
     "input": [
      "import android"
     ],
     "language": "python",
     "metadata": {},
     "outputs": [],
     "prompt_number": 116
    },
    {
     "cell_type": "code",
     "collapsed": false,
     "input": [
      "droide = android.Android()"
     ],
     "language": "python",
     "metadata": {},
     "outputs": [],
     "prompt_number": 117
    },
    {
     "cell_type": "code",
     "collapsed": false,
     "input": [
      "import time"
     ],
     "language": "python",
     "metadata": {},
     "outputs": [],
     "prompt_number": 118
    },
    {
     "cell_type": "code",
     "collapsed": false,
     "input": [
      "droide.dialogCreateAlert(\"\u00bfDesea obtener su ubicaci\u00f3n\")\n",
      "droide.dialogSetPositiveButtonText(\"Si\")\n",
      "droide.dialogSetNegativeButtonText(\"No\")\n",
      "\n",
      "droide.dialogShow()\n",
      "\n",
      "acum = 0\n",
      "response=droide.dialogGetResponse().result\n",
      "droide.dialogDismiss()\n",
      "\n",
      "if response.has_key(\"which\"):\n",
      "  result=response[\"which\"]\n",
      "    \n",
      "  if result==\"positive\":\n",
      "    droide.ttsSpeak(\"Obteniendo ubicaci\u00f3n. Espere unos segundos por favor\")\n",
      "    droide.startLocating()                \n",
      "    time.sleep(15)\n",
      "    loc = droide.readLocation().result\n",
      "\n",
      "    if loc == {}:\n",
      "      loc = getLastKnownLocation().result\n",
      "    if loc != {}:\n",
      "      try:\n",
      "        n = loc['gps']\n",
      "      except KeyError:\n",
      "        n = loc['network'] \n",
      "        \n",
      "      la = n['latitude'] \n",
      "      lo = n['longitude']\n",
      "      address = droide.geocode(la, lo).result\n",
      "        \n",
      "    droide.stopLocating()        \n",
      "    \n",
      "    try:\n",
      "        direccion=address[0][\"thoroughfare\"]\n",
      "        droide.ttsSpeak(direccion)\n",
      "    except BaseException as e:\n",
      "        acum += 1\n",
      "        print(e)\n",
      "        \n",
      "    try:\n",
      "        droide.ttsSpeak(address[0][\"locality\"])\n",
      "    except BaseException as e:\n",
      "        acum += 1\n",
      "        print(e)\n",
      "    \n",
      "    try:\n",
      "        droide.ttsSpeak(address[0][\"admin_area\"])\n",
      "    except BaseException as e:\n",
      "        acum += 1\n",
      "        print(e)\n",
      "    \n",
      "    try:\n",
      "        droide.ttsSpeak(address[0][\"country_name\"])            \n",
      "    except BaseException as e:\n",
      "        acum += 1\n",
      "        print(e)\n",
      "    \n",
      "    try:\n",
      "        droide.ttsSpeak(\"Busqueda finalizada\")\n",
      "    except BaseException as e:\n",
      "        print(e)\n",
      "        \n",
      "    if acum == 4:\n",
      "        droide.ttsSpeak(\"No se pudo obtener la ubicacion. Le sugerimos tener activado el guai fai e intentarlo de nuevo.\")\n",
      "    \n",
      "  elif result==\"negative\":\n",
      "    droide.ttsSpeak(\"Finalizando aplicaci\u00f3n\")\n",
      "elif response.has_key(\"canceled\"):\n",
      "  print \"Busqueda cancelada\"\n",
      "else:\n",
      "  print \"Unknown response = \",response\n",
      " \n",
      "print \"Done\""
     ],
     "language": "python",
     "metadata": {},
     "outputs": [
      {
       "output_type": "stream",
       "stream": "stdout",
       "text": [
        "Done\n"
       ]
      }
     ],
     "prompt_number": 122
    }
   ],
   "metadata": {}
  }
 ]
}