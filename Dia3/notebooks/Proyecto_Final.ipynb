{
 "metadata": {
  "name": "",
  "signature": "sha256:791b7e12478157a825f9926d863f21be566bf3fc32438ef257089013055ef8ff"
 },
 "nbformat": 3,
 "nbformat_minor": 0,
 "worksheets": [
  {
   "cells": [
    {
     "cell_type": "code",
     "collapsed": false,
     "input": [
      "## Fecha Entrega: 27/11/2014\n",
      "## Proyecto:      Localizador de ubicaci\u00f3n (Hablado)\n",
      "## Colabordadores:\n",
      "##                Juana Valdez Jimenez\n",
      "##                Giovany Emilio Marin Garcia\n",
      "##                Sinesio Ivan Carrillo Heredia"
     ],
     "language": "python",
     "metadata": {},
     "outputs": []
    },
    {
     "cell_type": "code",
     "collapsed": false,
     "input": [
      "import android"
     ],
     "language": "python",
     "metadata": {},
     "outputs": [],
     "prompt_number": 2
    },
    {
     "cell_type": "code",
     "collapsed": false,
     "input": [
      "droide = android.Android()"
     ],
     "language": "python",
     "metadata": {},
     "outputs": [],
     "prompt_number": 3
    },
    {
     "cell_type": "code",
     "collapsed": false,
     "input": [
      "import time"
     ],
     "language": "python",
     "metadata": {},
     "outputs": [],
     "prompt_number": 4
    },
    {
     "cell_type": "code",
     "collapsed": false,
     "input": [
      "droide.dialogCreateAlert(\"\u00bfDesea obtener su ubicaci\u00f3n\")\n",
      "droide.dialogSetPositiveButtonText(\"Si\")\n",
      "droide.dialogSetNegativeButtonText(\"No\")\n",
      "\n",
      "droide.dialogShow()\n",
      "\n",
      "acum = 0\n",
      "response=droide.dialogGetResponse().result\n",
      "droide.dialogDismiss()\n",
      "\n",
      "if response.has_key(\"which\"):\n",
      "  result=response[\"which\"]\n",
      "    \n",
      "  if result==\"positive\":\n",
      "    droide.ttsSpeak(\"Obteniendo ubicaci\u00f3n. Espere unos segundos por favor\")\n",
      "    droide.startLocating()                \n",
      "    time.sleep(15)\n",
      "    loc = droide.readLocation().result\n",
      "\n",
      "    if loc == {}:\n",
      "      loc = getLastKnownLocation().result\n",
      "    if loc != {}:\n",
      "      try:\n",
      "        n = loc['gps']\n",
      "      except KeyError:\n",
      "        n = loc['network'] \n",
      "        \n",
      "      la = n['latitude'] \n",
      "      lo = n['longitude']\n",
      "      address = droide.geocode(la, lo).result\n",
      "        \n",
      "    droide.stopLocating()   \n",
      "    \n",
      "    noEncontrado = \"Dato no encontrado\"\n",
      "    \n",
      "    try:\n",
      "        droide.ttsSpeak(\"Direccion\")\n",
      "        direccion=address[0][\"thoroughfare\"]\n",
      "        droide.ttsSpeak(direccion)\n",
      "    except BaseException as e:\n",
      "        droide.ttsSpeak(noEncontrado)\n",
      "        acum += 1\n",
      "        print(e)\n",
      "        \n",
      "    try:\n",
      "        droide.ttsSpeak(\"Localidad\")\n",
      "        droide.ttsSpeak(address[0][\"locality\"])\n",
      "    except BaseException as e:\n",
      "        droide.ttsSpeak(noEncontrado)\n",
      "        acum += 1\n",
      "        print(e)\n",
      "    \n",
      "    try:\n",
      "        droide.ttsSpeak(\"Area\")\n",
      "        droide.ttsSpeak(address[0][\"admin_area\"])\n",
      "    except BaseException as e:\n",
      "        droide.ttsSpeak(noEncontrado)\n",
      "        acum += 1\n",
      "        print(e)\n",
      "    \n",
      "    try:\n",
      "        droide.ttsSpeak(\"Pa\u00eds\")\n",
      "        droide.ttsSpeak(address[0][\"country_name\"])\n",
      "    except BaseException as e:\n",
      "        droide.ttsSpeak(noEncontrado)\n",
      "        acum += 1\n",
      "        print(e)\n",
      "    \n",
      "    try:\n",
      "        droide.ttsSpeak(\"Busqueda finalizada\")\n",
      "    except BaseException as e:\n",
      "        print(e)\n",
      "        \n",
      "    if acum == 4:\n",
      "        droide.ttsSpeak(\"No se pudo obtener la ubicacion. Le sugerimos tener activado el guai fai e intentarlo de nuevo.\")\n",
      "    \n",
      "  elif result==\"negative\":\n",
      "    droide.ttsSpeak(\"Finalizando aplicaci\u00f3n\")\n",
      "elif response.has_key(\"canceled\"):\n",
      "  print \"Busqueda cancelada\"\n",
      "else:\n",
      "  print \"Unknown response = \",response\n",
      " \n",
      "print \"Done\""
     ],
     "language": "python",
     "metadata": {},
     "outputs": [
      {
       "output_type": "stream",
       "stream": "stdout",
       "text": [
        "'locality'\n",
        "'admin_area'\n",
        "Done\n"
       ]
      }
     ],
     "prompt_number": 25
    }
   ],
   "metadata": {}
  }
 ]
}