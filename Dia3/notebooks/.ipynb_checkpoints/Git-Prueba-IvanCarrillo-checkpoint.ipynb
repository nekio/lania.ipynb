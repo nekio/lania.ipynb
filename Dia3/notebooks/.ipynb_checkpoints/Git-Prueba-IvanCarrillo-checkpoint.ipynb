{
 "metadata": {
  "name": "",
  "signature": "sha256:3618e19b4e04a99d266b4a533d969834917a918f3eb347d071a718797a7a27a2"
 },
 "nbformat": 3,
 "nbformat_minor": 0,
 "worksheets": [
  {
   "cells": [
    {
     "cell_type": "heading",
     "level": 1,
     "metadata": {},
     "source": [
      "HEADING 1"
     ]
    },
    {
     "cell_type": "heading",
     "level": 2,
     "metadata": {},
     "source": [
      "H2"
     ]
    },
    {
     "cell_type": "heading",
     "level": 3,
     "metadata": {},
     "source": [
      "H3"
     ]
    },
    {
     "cell_type": "heading",
     "level": 4,
     "metadata": {},
     "source": [
      "H4"
     ]
    },
    {
     "cell_type": "markdown",
     "metadata": {},
     "source": [
      "Se me antoj\u00f3 la arrachera con Guacamole que va a invitar Gio"
     ]
    }
   ],
   "metadata": {}
  }
 ]
}