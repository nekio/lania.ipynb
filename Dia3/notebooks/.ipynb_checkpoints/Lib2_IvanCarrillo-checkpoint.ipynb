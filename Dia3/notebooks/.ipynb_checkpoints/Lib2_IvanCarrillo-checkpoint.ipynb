{
 "metadata": {
  "name": "",
  "signature": "sha256:60de0db0b700209bf020377f1827b3456b4c6ba52de12c2887b5d39505f2f103"
 },
 "nbformat": 3,
 "nbformat_minor": 0,
 "worksheets": [
  {
   "cells": [
    {
     "cell_type": "code",
     "collapsed": false,
     "input": [
      "%run ../talktools.py"
     ],
     "language": "python",
     "metadata": {},
     "outputs": [
      {
       "html": [
        "<link href='http://fonts.googleapis.com/css?family=Alegreya+Sans:100,300,400,500,700,800,900,100italic,300italic,400italic,500italic,700italic,800italic,900italic' rel='stylesheet' type='text/css'>\n",
        "<link href='http://fonts.googleapis.com/css?family=Arvo:400,700,400italic' rel='stylesheet' type='text/css'>\n",
        "<link href='http://fonts.googleapis.com/css?family=PT+Mono' rel='stylesheet' type='text/css'>\n",
        "<link href='http://fonts.googleapis.com/css?family=Shadows+Into+Light' rel='stylesheet' type='text/css'>\n",
        "<link href='http://fonts.googleapis.com/css?family=Nixie+One' rel='stylesheet' type='text/css'>\n",
        "<style>\n",
        "\n",
        "@font-face {\n",
        "    font-family: \"Computer Modern\";\n",
        "    src: url('http://mirrors.ctan.org/fonts/cm-unicode/fonts/otf/cmunss.otf');\n",
        "}\n",
        "\n",
        "#notebook_panel { /* main background */\n",
        "    background: rgb(245,245,245);\n",
        "}\n",
        "\n",
        "div.cell { /* set cell width */\n",
        "    width: 750px;\n",
        "}\n",
        "\n",
        "div #notebook { /* centre the content */\n",
        "    background: #fff; /* white background for content */\n",
        "    width: 1000px;\n",
        "    margin: auto;\n",
        "    padding-left: 0em;\n",
        "}\n",
        "\n",
        "#notebook li { /* More space between bullet points */\n",
        "margin-top:0.8em;\n",
        "}\n",
        "\n",
        "/* draw border around running cells */\n",
        "div.cell.border-box-sizing.code_cell.running { \n",
        "    border: 1px solid #111;\n",
        "}\n",
        "\n",
        "/* Put a solid color box around each cell and its output, visually linking them*/\n",
        "div.cell.code_cell {\n",
        "    background-color: rgb(256,256,256); \n",
        "    border-radius: 0px; \n",
        "    padding: 0.5em;\n",
        "    margin-left:1em;\n",
        "    margin-top: 1em;\n",
        "}\n",
        "\n",
        "div.text_cell_render{\n",
        "    font-family: 'Alegreya Sans' sans-serif;\n",
        "    line-height: 140%;\n",
        "    font-size: 125%;\n",
        "    font-weight: 400;\n",
        "    width:600px;\n",
        "    margin-left:auto;\n",
        "    margin-right:auto;\n",
        "}\n",
        "\n",
        "\n",
        "/* Formatting for header cells */\n",
        ".text_cell_render h1 {\n",
        "    font-family: 'Nixie One', serif;\n",
        "    font-style:regular;\n",
        "    font-weight: 400;    \n",
        "    font-size: 45pt;\n",
        "    line-height: 100%;\n",
        "    color: rgb(0,51,102);\n",
        "    margin-bottom: 0.5em;\n",
        "    margin-top: 0.5em;\n",
        "    display: block;\n",
        "}\t\n",
        ".text_cell_render h2 {\n",
        "    font-family: 'Nixie One', serif;\n",
        "    font-weight: 400;\n",
        "    font-size: 30pt;\n",
        "    line-height: 100%;\n",
        "    color: rgb(0,51,102);\n",
        "    margin-bottom: 0.1em;\n",
        "    margin-top: 0.3em;\n",
        "    display: block;\n",
        "}\t\n",
        "\n",
        ".text_cell_render h3 {\n",
        "    font-family: 'Nixie One', serif;\n",
        "    margin-top:16px;\n",
        "\tfont-size: 22pt;\n",
        "    font-weight: 600;\n",
        "    margin-bottom: 3px;\n",
        "    font-style: regular;\n",
        "    color: rgb(102,102,0);\n",
        "}\n",
        "\n",
        ".text_cell_render h4 {    /*Use this for captions*/\n",
        "    font-family: 'Nixie One', serif;\n",
        "    font-size: 14pt;\n",
        "    text-align: center;\n",
        "    margin-top: 0em;\n",
        "    margin-bottom: 2em;\n",
        "    font-style: regular;\n",
        "}\n",
        "\n",
        ".text_cell_render h5 {  /*Use this for small titles*/\n",
        "    font-family: 'Nixie One', sans-serif;\n",
        "    font-weight: 400;\n",
        "    font-size: 16pt;\n",
        "    color: rgb(163,0,0);\n",
        "    font-style: italic;\n",
        "    margin-bottom: .1em;\n",
        "    margin-top: 0.8em;\n",
        "    display: block;\n",
        "}\n",
        "\n",
        ".text_cell_render h6 { /*use this for copyright note*/\n",
        "    font-family: 'PT Mono', sans-serif;\n",
        "    font-weight: 300;\n",
        "    font-size: 9pt;\n",
        "    line-height: 100%;\n",
        "    color: grey;\n",
        "    margin-bottom: 1px;\n",
        "    margin-top: 1px;\n",
        "}\n",
        "\n",
        ".CodeMirror{\n",
        "        font-family: \"PT Mono\";\n",
        "        font-size: 90%;\n",
        "}\n",
        "\n",
        "</style>\n",
        "<script>\n",
        "    MathJax.Hub.Config({\n",
        "                        TeX: {\n",
        "                           extensions: [\"AMSmath.js\"],\n",
        "                           equationNumbers: { autoNumber: \"AMS\", useLabelIds: true}\n",
        "                           },\n",
        "                tex2jax: {\n",
        "                    inlineMath: [ ['$','$'], [\"\\\\(\",\"\\\\)\"] ],\n",
        "                    displayMath: [ ['$$','$$'], [\"\\\\[\",\"\\\\]\"] ]\n",
        "                },\n",
        "                displayAlign: 'center', // Change this to 'center' to center equations.\n",
        "                \"HTML-CSS\": {\n",
        "                    styles: {'.MathJax_Display': {\"margin\": 4}}\n",
        "                }\n",
        "        });\n",
        "</script>"
       ],
       "metadata": {},
       "output_type": "display_data",
       "text": [
        "<IPython.core.display.HTML at 0xc0e8da0>"
       ]
      }
     ],
     "prompt_number": 22
    },
    {
     "cell_type": "code",
     "collapsed": false,
     "input": [
      "import urllib\n",
      "import json\n",
      "\n",
      "# ruta para almacenar la foto\n",
      "destino = './imagen.jpg' \n",
      "\n",
      "figshare_id = '1233498' #id de mi articulo\n",
      "\n",
      "figshare_url = 'http://api.figshare.com/v1/articles/%s' % figshare_id"
     ],
     "language": "python",
     "metadata": {},
     "outputs": [],
     "prompt_number": 14
    },
    {
     "cell_type": "code",
     "collapsed": false,
     "input": [
      "# crear el objeto para obtener en formato JSON la informacion de mi articulo\n",
      "respuesta_json = urllib.urlopen(figshare_url)"
     ],
     "language": "python",
     "metadata": {},
     "outputs": [],
     "prompt_number": 6
    },
    {
     "cell_type": "code",
     "collapsed": false,
     "input": [
      "# cargar la respuesta de la solicitud anterior\n",
      "informacion_articulo = json.load(respuesta_json)"
     ],
     "language": "python",
     "metadata": {},
     "outputs": [],
     "prompt_number": 7
    },
    {
     "cell_type": "code",
     "collapsed": false,
     "input": [
      "# desplegar el contenido del articulo\n",
      "informacion_articulo"
     ],
     "language": "python",
     "metadata": {},
     "outputs": [
      {
       "metadata": {},
       "output_type": "pyout",
       "prompt_number": 8,
       "text": [
        "{u'count': 1,\n",
        " u'items': [{u'article_id': 1233498,\n",
        "   u'authors': [{u'first_name': u'Ivan',\n",
        "     u'full_name': u'Ivan Carrillo',\n",
        "     u'id': 656759,\n",
        "     u'last_name': u'Carrillo'}],\n",
        "   u'categories': [{u'id': 158, u'name': u'Biological Techniques'}],\n",
        "   u'defined_type': u'figure',\n",
        "   u'description': u'<p>Captura tomada en el pasillo de la entrada al LANIA</p>',\n",
        "   u'description_nohtml': u'Captura tomada en el pasillo de la entrada al LANIA',\n",
        "   u'doi': u'http://dx.doi.org/10.6084/m9.figshare.1233498',\n",
        "   u'downloads': 0,\n",
        "   u'figshare_url': u'http://figshare.com/articles/Aracnido/1233498',\n",
        "   u'files': [{u'download_url': u'http://files.figshare.com/1784921/20141108_140853.jpg',\n",
        "     u'id': 1784921,\n",
        "     u'mime_type': u'image/jpeg',\n",
        "     u'name': u'20141108_140853.jpg',\n",
        "     u'size': u'2.27 MB',\n",
        "     u'thumb': u'http://previews.figshare.com/1784921/250_1784921.jpg'}],\n",
        "   u'links': [],\n",
        "   u'master_publisher_id': 0,\n",
        "   u'owner': {u'full_name': u'Ivan Carrillo', u'id': 656759},\n",
        "   u'published_date': u'21:24, Nov 08, 2014',\n",
        "   u'publisher_citation': u'',\n",
        "   u'publisher_doi': u'',\n",
        "   u'shares': 0,\n",
        "   u'status': u'Public',\n",
        "   u'tags': [{u'id': 321139, u'name': u'lania'}],\n",
        "   u'title': u'Aracnido',\n",
        "   u'total_size': u'2.27 MB',\n",
        "   u'version': 1,\n",
        "   u'views': 3}]}"
       ]
      }
     ],
     "prompt_number": 8
    },
    {
     "cell_type": "code",
     "collapsed": false,
     "input": [
      "# crear el URL de descarga con la informacion del JSON\n",
      "img_url_descarga = informacion_articulo['items'][0]['files'][0]['download_url']"
     ],
     "language": "python",
     "metadata": {},
     "outputs": [],
     "prompt_number": 9
    },
    {
     "cell_type": "code",
     "collapsed": false,
     "input": [
      "# Ver el link\n",
      "img_url_descarga"
     ],
     "language": "python",
     "metadata": {},
     "outputs": [
      {
       "metadata": {},
       "output_type": "pyout",
       "prompt_number": 10,
       "text": [
        "u'http://files.figshare.com/1784921/20141108_140853.jpg'"
       ]
      }
     ],
     "prompt_number": 10
    },
    {
     "cell_type": "code",
     "collapsed": false,
     "input": [
      "# descargar la iamagen en la ruta definida al inicio\n",
      "urllib.urlretrieve(img_url_descarga, destino)"
     ],
     "language": "python",
     "metadata": {},
     "outputs": [
      {
       "metadata": {},
       "output_type": "pyout",
       "prompt_number": 15,
       "text": [
        "('./imagen.jpg', <httplib.HTTPMessage instance at 0x000000000C0ED088>)"
       ]
      }
     ],
     "prompt_number": 15
    },
    {
     "cell_type": "code",
     "collapsed": false,
     "input": [
      "# corroborar que se haya descargado\n",
      "!dir"
     ],
     "language": "python",
     "metadata": {},
     "outputs": [
      {
       "output_type": "stream",
       "stream": "stdout",
       "text": [
        " El volumen de la unidad C es Windows\n",
        " El n\u00a3mero de serie del volumen es: D6D7-27D9\n",
        "\n",
        " Directorio de C:\\Users\\Ivan\\Documents\\IPython Notebooks\\lania.ipython\\Dia3\\notebooks\n",
        "\n",
        "08/11/2014  03:42 p. m.    <DIR>          .\n",
        "08/11/2014  03:42 p. m.    <DIR>          ..\n",
        "08/11/2014  03:32 p. m.    <DIR>          .ipynb_checkpoints\n",
        "01/11/2014  11:38 a. m.            10,471 01_Adquiriendo_Datos_imagenes.ipynb\n",
        "01/11/2014  11:38 a. m.            21,643 02_Distribuyendo_Datos_imagenes.ipynb\n",
        "01/11/2014  11:38 a. m.         1,468,497 03_Procesando_Datos_imagenes.ipynb\n",
        "01/11/2014  11:38 a. m.           260,110 04_Adquiriendo_Datos_GPS.ipynb\n",
        "01/11/2014  11:38 a. m.            98,504 05_Adquiriendo_Datos_Accel-Copy0.ipynb\n",
        "01/11/2014  11:38 a. m.            59,756 05_Adquiriendo_Datos_Accel.ipynb\n",
        "08/11/2014  03:42 p. m.         2,381,372 imagen.jpg\n",
        "08/11/2014  03:42 p. m.            11,021 Lib2_IvanCarrillo.ipynb\n",
        "               8 archivos      4,311,374 bytes\n",
        "               3 dirs  121,493,430,272 bytes libres\n"
       ]
      }
     ],
     "prompt_number": 16
    },
    {
     "cell_type": "code",
     "collapsed": false,
     "input": [
      "#repetir el proceso con una segunda imagen\n",
      "destino = './imagen2.jpg' \n",
      "figshare_id = '1233494' #id de mi articulo\n",
      "figshare_url = 'http://api.figshare.com/v1/articles/%s' % figshare_id\n",
      "\n",
      "respuesta_json = urllib.urlopen(figshare_url)\n",
      "informacion_articulo = json.load(respuesta_json)\n",
      "img_url_descarga = informacion_articulo['items'][0]['files'][0]['download_url']\n",
      "urllib.urlretrieve(img_url_descarga, destino)\n",
      "!dir"
     ],
     "language": "python",
     "metadata": {},
     "outputs": [
      {
       "output_type": "stream",
       "stream": "stdout",
       "text": [
        " El volumen de la unidad C es Windows\n",
        " El n\u00a3mero de serie del volumen es: D6D7-27D9\n",
        "\n",
        " Directorio de C:\\Users\\Ivan\\Documents\\IPython Notebooks\\lania.ipython\\Dia3\\notebooks\n",
        "\n",
        "08/11/2014  04:11 p. m.    <DIR>          .\n",
        "08/11/2014  04:11 p. m.    <DIR>          ..\n",
        "08/11/2014  03:32 p. m.    <DIR>          .ipynb_checkpoints\n",
        "01/11/2014  11:38 a. m.            10,471 01_Adquiriendo_Datos_imagenes.ipynb\n",
        "01/11/2014  11:38 a. m.            21,643 02_Distribuyendo_Datos_imagenes.ipynb\n",
        "01/11/2014  11:38 a. m.         1,468,497 03_Procesando_Datos_imagenes.ipynb\n",
        "01/11/2014  11:38 a. m.           260,110 04_Adquiriendo_Datos_GPS.ipynb\n",
        "01/11/2014  11:38 a. m.            98,504 05_Adquiriendo_Datos_Accel-Copy0.ipynb\n",
        "01/11/2014  11:38 a. m.            59,756 05_Adquiriendo_Datos_Accel.ipynb\n",
        "08/11/2014  03:42 p. m.         2,381,372 imagen.jpg\n",
        "08/11/2014  04:12 p. m.         3,615,826 imagen2.jpg\n",
        "08/11/2014  04:10 p. m.            12,965 Lib2_IvanCarrillo.ipynb\n",
        "               9 archivos      7,929,144 bytes\n",
        "               3 dirs  118,566,494,208 bytes libres\n"
       ]
      }
     ],
     "prompt_number": 18
    },
    {
     "cell_type": "code",
     "collapsed": false,
     "input": [
      "#repetir el proceso con una tercera imagen\n",
      "destino = './imagen3.jpg' \n",
      "figshare_id = '1233497' #id de mi articulo\n",
      "figshare_url = 'http://api.figshare.com/v1/articles/%s' % figshare_id\n",
      "\n",
      "respuesta_json = urllib.urlopen(figshare_url)\n",
      "informacion_articulo = json.load(respuesta_json)\n",
      "img_url_descarga = informacion_articulo['items'][0]['files'][0]['download_url']\n",
      "urllib.urlretrieve(img_url_descarga, destino)\n",
      "!dir"
     ],
     "language": "python",
     "metadata": {},
     "outputs": [
      {
       "output_type": "stream",
       "stream": "stdout",
       "text": [
        " El volumen de la unidad C es Windows\n",
        " El n\u00a3mero de serie del volumen es: D6D7-27D9\n",
        "\n",
        " Directorio de C:\\Users\\Ivan\\Documents\\IPython Notebooks\\lania.ipython\\Dia3\\notebooks\n",
        "\n",
        "08/11/2014  04:14 p. m.    <DIR>          .\n",
        "08/11/2014  04:14 p. m.    <DIR>          ..\n",
        "08/11/2014  03:32 p. m.    <DIR>          .ipynb_checkpoints\n",
        "01/11/2014  11:38 a. m.            10,471 01_Adquiriendo_Datos_imagenes.ipynb\n",
        "01/11/2014  11:38 a. m.            21,643 02_Distribuyendo_Datos_imagenes.ipynb\n",
        "01/11/2014  11:38 a. m.         1,468,497 03_Procesando_Datos_imagenes.ipynb\n",
        "01/11/2014  11:38 a. m.           260,110 04_Adquiriendo_Datos_GPS.ipynb\n",
        "01/11/2014  11:38 a. m.            98,504 05_Adquiriendo_Datos_Accel-Copy0.ipynb\n",
        "01/11/2014  11:38 a. m.            59,756 05_Adquiriendo_Datos_Accel.ipynb\n",
        "08/11/2014  03:42 p. m.         2,381,372 imagen.jpg\n",
        "08/11/2014  04:12 p. m.         3,615,826 imagen2.jpg\n",
        "08/11/2014  04:14 p. m.         1,716,076 imagen3.jpg\n",
        "08/11/2014  04:14 p. m.            15,513 Lib2_IvanCarrillo.ipynb\n",
        "              10 archivos      9,647,768 bytes\n",
        "               3 dirs  117,901,373,440 bytes libres\n"
       ]
      }
     ],
     "prompt_number": 19
    },
    {
     "cell_type": "code",
     "collapsed": false,
     "input": [
      "#repetir el proceso con una cuarta imagen\n",
      "destino = './imagen4.jpg' \n",
      "figshare_id = '1233495' #id de mi articulo\n",
      "figshare_url = 'http://api.figshare.com/v1/articles/%s' % figshare_id\n",
      "\n",
      "respuesta_json = urllib.urlopen(figshare_url)\n",
      "informacion_articulo = json.load(respuesta_json)\n",
      "img_url_descarga = informacion_articulo['items'][0]['files'][0]['download_url']\n",
      "urllib.urlretrieve(img_url_descarga, destino)\n",
      "!dir"
     ],
     "language": "python",
     "metadata": {},
     "outputs": [
      {
       "output_type": "stream",
       "stream": "stdout",
       "text": [
        " El volumen de la unidad C es Windows\n",
        " El n\u00a3mero de serie del volumen es: D6D7-27D9\n",
        "\n",
        " Directorio de C:\\Users\\Ivan\\Documents\\IPython Notebooks\\lania.ipython\\Dia3\\notebooks\n",
        "\n",
        "08/11/2014  04:15 p. m.    <DIR>          .\n",
        "08/11/2014  04:15 p. m.    <DIR>          ..\n",
        "08/11/2014  03:32 p. m.    <DIR>          .ipynb_checkpoints\n",
        "01/11/2014  11:38 a. m.            10,471 01_Adquiriendo_Datos_imagenes.ipynb\n",
        "01/11/2014  11:38 a. m.            21,643 02_Distribuyendo_Datos_imagenes.ipynb\n",
        "01/11/2014  11:38 a. m.         1,468,497 03_Procesando_Datos_imagenes.ipynb\n",
        "01/11/2014  11:38 a. m.           260,110 04_Adquiriendo_Datos_GPS.ipynb\n",
        "01/11/2014  11:38 a. m.            98,504 05_Adquiriendo_Datos_Accel-Copy0.ipynb\n",
        "01/11/2014  11:38 a. m.            59,756 05_Adquiriendo_Datos_Accel.ipynb\n",
        "08/11/2014  03:42 p. m.         2,381,372 imagen.jpg\n",
        "08/11/2014  04:12 p. m.         3,615,826 imagen2.jpg\n",
        "08/11/2014  04:14 p. m.         1,716,076 imagen3.jpg\n",
        "08/11/2014  04:15 p. m.           249,000 imagen4.jpg\n",
        "08/11/2014  04:14 p. m.            15,513 Lib2_IvanCarrillo.ipynb\n",
        "              11 archivos      9,896,768 bytes\n",
        "               3 dirs  117,900,914,688 bytes libres\n"
       ]
      }
     ],
     "prompt_number": 20
    },
    {
     "cell_type": "code",
     "collapsed": false,
     "input": [
      "# modulo para automaitzar el proceso anterior\n",
      "\n",
      "%%file descargaimagen.py\n",
      "\n",
      "    import urllib\n",
      "    import json\n",
      "\n",
      "    class DescargaImagen(object):\n",
      "\n",
      "        figshare_id = None\n",
      "        nombre_imagen = None\n",
      "\n",
      "        def __init__(self):\n",
      "          pass\n",
      "\n",
      "        def set_figshare_id(self,figshare_id):\n",
      "          self.figshare_id = \n",
      "\n",
      "        def set_nombre_imagen(self,nombre_imagen):\n",
      "          self.nombre_imagen = \n",
      "\n",
      "        def download(self):\n",
      "          figshare_url = \"http://api.figshare.com/v1/articles/%s\" % self.figshare_id\n",
      "          f = urllib.urlopen(figshare_url)\n",
      "          info = json.load(f)\n",
      "          image_url = info[''][0][''][0]['']\n",
      "          urllib.urlretrieve(image_url, self.nombre_imagen)"
     ],
     "language": "python",
     "metadata": {},
     "outputs": [
      {
       "ename": "SyntaxError",
       "evalue": "invalid syntax (<ipython-input-23-1840a31a30fa>, line 3)",
       "output_type": "pyerr",
       "traceback": [
        "\u001b[1;36m  File \u001b[1;32m\"<ipython-input-23-1840a31a30fa>\"\u001b[1;36m, line \u001b[1;32m3\u001b[0m\n\u001b[1;33m    %%file descargaimagen.py\u001b[0m\n\u001b[1;37m    ^\u001b[0m\n\u001b[1;31mSyntaxError\u001b[0m\u001b[1;31m:\u001b[0m invalid syntax\n"
       ]
      }
     ],
     "prompt_number": 23
    }
   ],
   "metadata": {}
  }
 ]
}