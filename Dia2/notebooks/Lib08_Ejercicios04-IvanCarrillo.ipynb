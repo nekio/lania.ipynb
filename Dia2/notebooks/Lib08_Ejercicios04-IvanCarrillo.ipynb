{
 "metadata": {
  "name": "",
  "signature": "sha256:17cb3dace434858bc007e5ad7fd1fad78c84df2a0d4a520d70b95babd11884c7"
 },
 "nbformat": 3,
 "nbformat_minor": 0,
 "worksheets": [
  {
   "cells": [
    {
     "cell_type": "code",
     "collapsed": false,
     "input": [],
     "language": "python",
     "metadata": {},
     "outputs": []
    },
    {
     "cell_type": "code",
     "collapsed": false,
     "input": [
      "%run ../talktools.py"
     ],
     "language": "python",
     "metadata": {},
     "outputs": [
      {
       "html": [
        "<link href='http://fonts.googleapis.com/css?family=Alegreya+Sans:100,300,400,500,700,800,900,100italic,300italic,400italic,500italic,700italic,800italic,900italic' rel='stylesheet' type='text/css'>\n",
        "<link href='http://fonts.googleapis.com/css?family=Arvo:400,700,400italic' rel='stylesheet' type='text/css'>\n",
        "<link href='http://fonts.googleapis.com/css?family=PT+Mono' rel='stylesheet' type='text/css'>\n",
        "<link href='http://fonts.googleapis.com/css?family=Shadows+Into+Light' rel='stylesheet' type='text/css'>\n",
        "<link href='http://fonts.googleapis.com/css?family=Nixie+One' rel='stylesheet' type='text/css'>\n",
        "<style>\n",
        "\n",
        "@font-face {\n",
        "    font-family: \"Computer Modern\";\n",
        "    src: url('http://mirrors.ctan.org/fonts/cm-unicode/fonts/otf/cmunss.otf');\n",
        "}\n",
        "\n",
        "#notebook_panel { /* main background */\n",
        "    background: rgb(245,245,245);\n",
        "}\n",
        "\n",
        "div.cell { /* set cell width */\n",
        "    width: 750px;\n",
        "}\n",
        "\n",
        "div #notebook { /* centre the content */\n",
        "    background: #fff; /* white background for content */\n",
        "    width: 1000px;\n",
        "    margin: auto;\n",
        "    padding-left: 0em;\n",
        "}\n",
        "\n",
        "#notebook li { /* More space between bullet points */\n",
        "margin-top:0.8em;\n",
        "}\n",
        "\n",
        "/* draw border around running cells */\n",
        "div.cell.border-box-sizing.code_cell.running { \n",
        "    border: 1px solid #111;\n",
        "}\n",
        "\n",
        "/* Put a solid color box around each cell and its output, visually linking them*/\n",
        "div.cell.code_cell {\n",
        "    background-color: rgb(256,256,256); \n",
        "    border-radius: 0px; \n",
        "    padding: 0.5em;\n",
        "    margin-left:1em;\n",
        "    margin-top: 1em;\n",
        "}\n",
        "\n",
        "div.text_cell_render{\n",
        "    font-family: 'Alegreya Sans' sans-serif;\n",
        "    line-height: 140%;\n",
        "    font-size: 125%;\n",
        "    font-weight: 400;\n",
        "    width:600px;\n",
        "    margin-left:auto;\n",
        "    margin-right:auto;\n",
        "}\n",
        "\n",
        "\n",
        "/* Formatting for header cells */\n",
        ".text_cell_render h1 {\n",
        "    font-family: 'Nixie One', serif;\n",
        "    font-style:regular;\n",
        "    font-weight: 400;    \n",
        "    font-size: 45pt;\n",
        "    line-height: 100%;\n",
        "    color: rgb(0,51,102);\n",
        "    margin-bottom: 0.5em;\n",
        "    margin-top: 0.5em;\n",
        "    display: block;\n",
        "}\t\n",
        ".text_cell_render h2 {\n",
        "    font-family: 'Nixie One', serif;\n",
        "    font-weight: 400;\n",
        "    font-size: 30pt;\n",
        "    line-height: 100%;\n",
        "    color: rgb(0,51,102);\n",
        "    margin-bottom: 0.1em;\n",
        "    margin-top: 0.3em;\n",
        "    display: block;\n",
        "}\t\n",
        "\n",
        ".text_cell_render h3 {\n",
        "    font-family: 'Nixie One', serif;\n",
        "    margin-top:16px;\n",
        "\tfont-size: 22pt;\n",
        "    font-weight: 600;\n",
        "    margin-bottom: 3px;\n",
        "    font-style: regular;\n",
        "    color: rgb(102,102,0);\n",
        "}\n",
        "\n",
        ".text_cell_render h4 {    /*Use this for captions*/\n",
        "    font-family: 'Nixie One', serif;\n",
        "    font-size: 14pt;\n",
        "    text-align: center;\n",
        "    margin-top: 0em;\n",
        "    margin-bottom: 2em;\n",
        "    font-style: regular;\n",
        "}\n",
        "\n",
        ".text_cell_render h5 {  /*Use this for small titles*/\n",
        "    font-family: 'Nixie One', sans-serif;\n",
        "    font-weight: 400;\n",
        "    font-size: 16pt;\n",
        "    color: rgb(163,0,0);\n",
        "    font-style: italic;\n",
        "    margin-bottom: .1em;\n",
        "    margin-top: 0.8em;\n",
        "    display: block;\n",
        "}\n",
        "\n",
        ".text_cell_render h6 { /*use this for copyright note*/\n",
        "    font-family: 'PT Mono', sans-serif;\n",
        "    font-weight: 300;\n",
        "    font-size: 9pt;\n",
        "    line-height: 100%;\n",
        "    color: grey;\n",
        "    margin-bottom: 1px;\n",
        "    margin-top: 1px;\n",
        "}\n",
        "\n",
        ".CodeMirror{\n",
        "        font-family: \"PT Mono\";\n",
        "        font-size: 90%;\n",
        "}\n",
        "\n",
        "</style>\n",
        "<script>\n",
        "    MathJax.Hub.Config({\n",
        "                        TeX: {\n",
        "                           extensions: [\"AMSmath.js\"],\n",
        "                           equationNumbers: { autoNumber: \"AMS\", useLabelIds: true}\n",
        "                           },\n",
        "                tex2jax: {\n",
        "                    inlineMath: [ ['$','$'], [\"\\\\(\",\"\\\\)\"] ],\n",
        "                    displayMath: [ ['$$','$$'], [\"\\\\[\",\"\\\\]\"] ]\n",
        "                },\n",
        "                displayAlign: 'center', // Change this to 'center' to center equations.\n",
        "                \"HTML-CSS\": {\n",
        "                    styles: {'.MathJax_Display': {\"margin\": 4}}\n",
        "                }\n",
        "        });\n",
        "</script>"
       ],
       "metadata": {},
       "output_type": "display_data",
       "text": [
        "<IPython.core.display.HTML at 0xbe1a208>"
       ]
      }
     ],
     "prompt_number": 1
    },
    {
     "cell_type": "heading",
     "level": 1,
     "metadata": {},
     "source": [
      "Ejercicio 4"
     ]
    },
    {
     "cell_type": "heading",
     "level": 5,
     "metadata": {},
     "source": [
      "# IPython y IPython Notebooks\n",
      "\n",
      "\n",
      "\n",
      "El contenido de esta libreta esta basado en [Python-Cientifico-HCC](http://nbviewer.ipython.org/github/damianavila/Python-Cientifico-HCC/tree/master/) de Damian Avila."
     ]
    },
    {
     "cell_type": "heading",
     "level": 4,
     "metadata": {},
     "source": [
      "Encendiendo motores..."
     ]
    },
    {
     "cell_type": "code",
     "collapsed": false,
     "input": [
      "! ipython notebook"
     ],
     "language": "python",
     "metadata": {},
     "outputs": []
    },
    {
     "cell_type": "markdown",
     "metadata": {},
     "source": [
      "```\n",
      "(ipython_dev)damian@damian-Inspiron-1110:~$ ipython notebook\n",
      "```"
     ]
    },
    {
     "cell_type": "markdown",
     "metadata": {},
     "source": [
      "```\n",
      "2013-05-10 12:11:26.912 [NotebookApp] Using existing profile dir: u'/home/damian/.config/ipython/profile_default'\n",
      "2013-05-10 12:11:26.937 [NotebookApp] Using MathJax from CDN: http://cdn.mathjax.org/mathjax/latest/MathJax.js\n",
      "2013-05-10 12:11:26.984 [NotebookApp] The port 8888 is already in use, trying another random port.\n",
      "2013-05-10 12:11:26.985 [NotebookApp] Serving notebooks from local directory: /home/damian\n",
      "2013-05-10 12:11:26.985 [NotebookApp] The IPython Notebook is running at: http://127.0.0.1:8888/\n",
      "2013-05-10 12:11:26.986 [NotebookApp] Use Control-C to stop this server and shut down all kernels.\n",
      "Se ha abierto una nueva ventana en la sesi\u00f3n actual del navegador.\n",
      "```"
     ]
    },
    {
     "cell_type": "markdown",
     "metadata": {},
     "source": [
      "y ejecutando un *hola mundo*:"
     ]
    },
    {
     "cell_type": "code",
     "collapsed": false,
     "input": [
      "print \"Hola RySi 2014\""
     ],
     "language": "python",
     "metadata": {},
     "outputs": [
      {
       "output_type": "stream",
       "stream": "stdout",
       "text": [
        "Hola RySi 2014\n"
       ]
      }
     ],
     "prompt_number": 2
    },
    {
     "cell_type": "code",
     "collapsed": false,
     "input": [
      "# asignar un valor a una variable\n",
      "a = 1"
     ],
     "language": "python",
     "metadata": {},
     "outputs": [],
     "prompt_number": 3
    },
    {
     "cell_type": "code",
     "collapsed": false,
     "input": [
      "# mostrar el valor\n",
      "a"
     ],
     "language": "python",
     "metadata": {},
     "outputs": [
      {
       "metadata": {},
       "output_type": "pyout",
       "prompt_number": 4,
       "text": [
        "1"
       ]
      }
     ],
     "prompt_number": 4
    },
    {
     "cell_type": "markdown",
     "metadata": {},
     "source": [
      "La representaci\u00f3n de los objetos es m\u00e1s legible:"
     ]
    },
    {
     "cell_type": "code",
     "collapsed": false,
     "input": [
      "from numpy.random import randn\n",
      "\n",
      "# rellenar una lista de 7 elementos con valores aleatorios\n",
      "data = {i : randn() for i in range(7)}"
     ],
     "language": "python",
     "metadata": {},
     "outputs": [],
     "prompt_number": 4
    },
    {
     "cell_type": "code",
     "collapsed": false,
     "input": [
      "data"
     ],
     "language": "python",
     "metadata": {},
     "outputs": [
      {
       "metadata": {},
       "output_type": "pyout",
       "prompt_number": 5,
       "text": [
        "{0: -1.4908098478275558,\n",
        " 1: -0.565988945586092,\n",
        " 2: -0.11458490653907612,\n",
        " 3: -1.1571848859684808,\n",
        " 4: 0.5510720116668272,\n",
        " 5: -0.48797460909890916,\n",
        " 6: -0.011374249858311968}"
       ]
      }
     ],
     "prompt_number": 5
    },
    {
     "cell_type": "code",
     "collapsed": false,
     "input": [
      ">>> from numpy.random import randn\n",
      "\n",
      "# rellenar una lista de 7 elementos con valores aleatorios\n",
      ">>> data = {i : randn() for i in range(7)}\n",
      "\n",
      "# peque\u00f1a trampa para verlo como se ver\u00eda en consola\n",
      ">>> print data"
     ],
     "language": "python",
     "metadata": {},
     "outputs": [
      {
       "output_type": "stream",
       "stream": "stdout",
       "text": [
        "{0: -0.8979448514178042, 1: 1.8202338663556847, 2: 0.9858833810939129, 3: -0.28415861964827677, 4: 1.080969529155658, 5: 0.4919553089504177, 6: -0.1591462008722787}\n"
       ]
      }
     ],
     "prompt_number": 10
    },
    {
     "cell_type": "heading",
     "level": 3,
     "metadata": {},
     "source": [
      "2.3.2. Completado por < TAB >."
     ]
    },
    {
     "cell_type": "code",
     "collapsed": false,
     "input": [
      "Facundo = 1"
     ],
     "language": "python",
     "metadata": {},
     "outputs": [],
     "prompt_number": 6
    },
    {
     "cell_type": "code",
     "collapsed": false,
     "input": [
      "Facultad = 8"
     ],
     "language": "python",
     "metadata": {},
     "outputs": [],
     "prompt_number": 7
    },
    {
     "cell_type": "code",
     "collapsed": false,
     "input": [
      "Fa = 4"
     ],
     "language": "python",
     "metadata": {},
     "outputs": [],
     "prompt_number": 8
    },
    {
     "cell_type": "markdown",
     "metadata": {},
     "source": [
      "Busqueda de variables en el espacio de nombres: variable_de_inter\u00e9s**`<TAB>`**:"
     ]
    },
    {
     "cell_type": "code",
     "collapsed": false,
     "input": [
      "# poniendonos sobre la linea de abajo y presionando el tabulador\n",
      "# nos saldr\u00e1n sujerencias\n",
      "Fa"
     ],
     "language": "python",
     "metadata": {},
     "outputs": []
    },
    {
     "cell_type": "markdown",
     "metadata": {},
     "source": [
      "Acceso a m\u00e9todos y atributos, por ejemplo, objeto_de_inter\u00e9s**.`<TAB>`**:"
     ]
    },
    {
     "cell_type": "code",
     "collapsed": false,
     "input": [
      "# definir una lista\n",
      "lista = [1, 2, 3, 4, 5]"
     ],
     "language": "python",
     "metadata": {},
     "outputs": [],
     "prompt_number": 9
    },
    {
     "cell_type": "code",
     "collapsed": false,
     "input": [
      "# al presionar tab sobre la linea de abajo, saldran varias sugerencias\n",
      "lista."
     ],
     "language": "python",
     "metadata": {},
     "outputs": []
    },
    {
     "cell_type": "markdown",
     "metadata": {},
     "source": [
      "Lo mismo para los m\u00f3dulos, por ejemplo, modulo_de_inter\u00e9s**.`<TAB>`**:"
     ]
    },
    {
     "cell_type": "code",
     "collapsed": false,
     "input": [
      "import datetime"
     ],
     "language": "python",
     "metadata": {},
     "outputs": [],
     "prompt_number": 10
    },
    {
     "cell_type": "code",
     "collapsed": false,
     "input": [
      "# al presionar tab sobre la linea de abajo, saldran varias sugerencias\n",
      "datetime."
     ],
     "language": "python",
     "metadata": {},
     "outputs": []
    },
    {
     "cell_type": "code",
     "collapsed": false,
     "input": [
      "# al presionar tab sobre la linea de abajo, saldran varias sugerencias\n",
      "datetime._"
     ],
     "language": "python",
     "metadata": {},
     "outputs": []
    },
    {
     "cell_type": "markdown",
     "metadata": {},
     "source": [
      "Incluso para directorios, por ejemplo, carpeta_de_inter\u00e9s**/`<TAB>`**:"
     ]
    },
    {
     "cell_type": "code",
     "collapsed": false,
     "input": [
      "# peque\u00f1o truco para pasar comandos a consola...\n",
      "!dir"
     ],
     "language": "python",
     "metadata": {},
     "outputs": [
      {
       "output_type": "stream",
       "stream": "stdout",
       "text": [
        " El volumen de la unidad C es Windows\n",
        " El n\u00a3mero de serie del volumen es: D6D7-27D9\n",
        "\n",
        " Directorio de C:\\Users\\Ivan\\Documents\\IPython Notebooks\\lania.ipython\\Dia2\\notebooks\n",
        "\n",
        "13/11/2014  07:55 p. m.    <DIR>          .\n",
        "13/11/2014  07:55 p. m.    <DIR>          ..\n",
        "13/11/2014  07:57 p. m.    <DIR>          .ipynb_checkpoints\n",
        "08/11/2014  01:02 p. m.                49 archivonuevogenial.txt\n",
        "08/11/2014  01:14 p. m.               175 ejercicio2Lib04.txt\n",
        "08/11/2014  01:06 p. m.               106 ejercicioLib04.txt\n",
        "13/11/2014  02:51 p. m.                74 hola_clase.py\n",
        "13/11/2014  02:58 p. m.               132 hola_clase_espa.py\n",
        "08/11/2014  10:00 a. m.            16,692 Lib01_Esenciales_Python-IvanCarrillo.ipynb\n",
        "08/11/2014  09:35 a. m.            14,036 Lib01_Esenciales_Python.ipynb\n",
        "08/11/2014  10:22 a. m.            16,974 Lib02_Esenciales_DataStructures-IvanCarrillo.ipynb\n",
        "08/11/2014  10:08 a. m.            11,525 Lib02_Esenciales_DataStructures.ipynb\n",
        "08/11/2014  10:56 a. m.            22,058 Lib03_Esenciales_DataStructures-IvanCarrillo.ipynb\n",
        "08/11/2014  10:23 a. m.            12,014 Lib03_Esenciales_DataStructures.ipynb\n",
        "08/11/2014  01:17 p. m.            39,323 Lib04_Esenciales_TextFiles-IvanCarrillo.ipynb\n",
        "08/11/2014  11:44 a. m.            29,230 Lib04_Esenciales_TextFiles.ipynb\n",
        "13/11/2014  12:20 p. m.            84,470 Lib05_Ejercicios01-IvanCarrillo.ipynb\n",
        "01/11/2014  11:38 a. m.            44,861 Lib05_Ejercicios01.ipynb\n",
        "13/11/2014  01:45 p. m.            30,916 Lib06_Ejercicios02-IvanCarrillo.ipynb\n",
        "01/11/2014  11:38 a. m.            21,396 Lib06_Ejercicios02.ipynb\n",
        "13/11/2014  07:51 p. m.           129,427 Lib07_Ejercicios03-IvanCarrillo.ipynb\n",
        "01/11/2014  11:38 a. m.           114,758 Lib07_Ejercicios03.ipynb\n",
        "13/11/2014  08:22 p. m.            50,954 Lib08_Ejercicios04-IvanCarrillo.ipynb\n",
        "01/11/2014  11:38 a. m.            44,576 Lib08_Ejercicios04.ipynb\n",
        "01/11/2014  11:38 a. m.            81,495 Lib09_ProcesandoDatos01.ipynb\n",
        "01/11/2014  11:38 a. m.            28,021 Lib10_GraficandoDatos.ipynb\n",
        "01/11/2014  11:38 a. m.         1,676,419 Lib11_ArchivosCSV.ipynb\n",
        "01/11/2014  11:38 a. m.           148,399 Lib12_pandas.ipynb\n",
        "13/11/2014  07:24 p. m.               616 mimodulo.py\n",
        "13/11/2014  07:24 p. m.             1,113 mimodulo.pyc\n",
        "              27 archivos      2,619,809 bytes\n",
        "               3 dirs  135,729,958,912 bytes libres\n"
       ]
      }
     ],
     "prompt_number": 18
    },
    {
     "cell_type": "code",
     "collapsed": false,
     "input": [
      "# al presionar tab sobre la linea de abajo, saldran varias sugerencias\n",
      "../"
     ],
     "language": "python",
     "metadata": {},
     "outputs": []
    },
    {
     "cell_type": "code",
     "collapsed": false,
     "input": [
      "# al presionar tab sobre la linea de abajo, saldran varias sugerencias\n",
      "!dir .ipynb_checkpoints"
     ],
     "language": "python",
     "metadata": {},
     "outputs": [
      {
       "output_type": "stream",
       "stream": "stdout",
       "text": [
        " El volumen de la unidad C es Windows\n",
        " El n\u00a3mero de serie del volumen es: D6D7-27D9\n",
        "\n",
        " Directorio de C:\\Users\\Ivan\\Documents\\IPython Notebooks\\lania.ipython\\Dia2\\notebooks\\.ipynb_checkpoints\n",
        "\n",
        "13/11/2014  07:57 p. m.    <DIR>          .\n",
        "13/11/2014  07:57 p. m.    <DIR>          ..\n",
        "01/11/2014  11:38 a. m.             7,847 Lib01_Esenciales_Python-checkpoint.ipynb\n",
        "08/11/2014  10:00 a. m.            16,692 Lib01_Esenciales_Python-IvanCarrillo-checkpoint.ipynb\n",
        "08/11/2014  10:08 a. m.            11,525 Lib02_Esenciales_DataStructures-checkpoint.ipynb\n",
        "08/11/2014  10:22 a. m.            16,974 Lib02_Esenciales_DataStructures-IvanCarrillo-checkpoint.ipynb\n",
        "08/11/2014  10:23 a. m.            12,014 Lib03_Esenciales_DataStructures-checkpoint.ipynb\n",
        "08/11/2014  10:54 a. m.            22,066 Lib03_Esenciales_DataStructures-IvanCarrillo-checkpoint.ipynb\n",
        "08/11/2014  11:44 a. m.            29,230 Lib04_Esenciales_TextFiles-checkpoint.ipynb\n",
        "08/11/2014  01:17 p. m.            39,323 Lib04_Esenciales_TextFiles-IvanCarrillo-checkpoint.ipynb\n",
        "13/11/2014  12:20 p. m.            84,470 Lib05_Ejercicios01-IvanCarrillo-checkpoint.ipynb\n",
        "13/11/2014  01:45 p. m.            30,916 Lib06_Ejercicios02-IvanCarrillo-checkpoint.ipynb\n",
        "13/11/2014  07:51 p. m.           129,427 Lib07_Ejercicios03-IvanCarrillo-checkpoint.ipynb\n",
        "14/11/2014  06:23 p. m.            56,683 Lib08_Ejercicios04-IvanCarrillo-checkpoint.ipynb\n",
        "              12 archivos        457,167 bytes\n",
        "               2 dirs  65,797,910,528 bytes libres\n"
       ]
      }
     ],
     "prompt_number": 11
    },
    {
     "cell_type": "heading",
     "level": 3,
     "metadata": {},
     "source": [
      "2.3.3. Introspecci\u00f3n de objetos."
     ]
    },
    {
     "cell_type": "code",
     "collapsed": false,
     "input": [
      "# muestra un panel emergente con informacion relevante de \"lista\"\n",
      "lista?"
     ],
     "language": "python",
     "metadata": {},
     "outputs": [],
     "prompt_number": 21
    },
    {
     "cell_type": "markdown",
     "metadata": {},
     "source": [
      "Apliquemoslo a una funci\u00f3n propia:"
     ]
    },
    {
     "cell_type": "code",
     "collapsed": false,
     "input": [
      "def suma(a, b):\n",
      "    \"\"\"\n",
      "    Demo de una funci\u00f3n que suma cosas...\n",
      "    \"\"\"\n",
      "    return a + b"
     ],
     "language": "python",
     "metadata": {},
     "outputs": [],
     "prompt_number": 12
    },
    {
     "cell_type": "code",
     "collapsed": false,
     "input": [
      "suma?"
     ],
     "language": "python",
     "metadata": {},
     "outputs": [],
     "prompt_number": 25
    },
    {
     "cell_type": "code",
     "collapsed": false,
     "input": [
      "# muestra ademas el source en la ayuda\n",
      "suma??"
     ],
     "language": "python",
     "metadata": {},
     "outputs": [],
     "prompt_number": 26
    },
    {
     "cell_type": "markdown",
     "metadata": {},
     "source": [
      "El **\"?\"** Tambi\u00e9n puede servirnos para la busqueda en el espacio de nombres de IPython:"
     ]
    },
    {
     "cell_type": "code",
     "collapsed": false,
     "input": [
      "import numpy as np\n",
      "\n",
      "# ver la ayuda de los modulos de numpy que contengan \"lin\"\n",
      "np.*lin*?"
     ],
     "language": "python",
     "metadata": {},
     "outputs": [],
     "prompt_number": 13
    },
    {
     "cell_type": "heading",
     "level": 3,
     "metadata": {},
     "source": [
      "2.3.4. %run, Forest... %run."
     ]
    },
    {
     "cell_type": "markdown",
     "metadata": {},
     "source": [
      "Con el comando `%run` podemos ejecutar cualquier archivo `.py` en un espacio de nombres **limpio**, sin `imports` ni `variables` definidas (a menos que corramos `%run -i`).\n",
      "\n",
      "Demo:\n",
      "\n",
      "```\n",
      "!mkdir temporal/\n",
      "!touch temporal/mi_programa.py\n",
      "!ls temporal/\n",
      "!cat temporal/mi_programa.py\n",
      "```"
     ]
    },
    {
     "cell_type": "code",
     "collapsed": false,
     "input": [
      "# crear carpeta temporal\n",
      "!mkdir temporal"
     ],
     "language": "python",
     "metadata": {},
     "outputs": [
      {
       "output_type": "stream",
       "stream": "stderr",
       "text": [
        "Ya existe el subdirectorio o el archivo temporal.\n"
       ]
      }
     ],
     "prompt_number": 31
    },
    {
     "cell_type": "code",
     "collapsed": false,
     "input": [
      "# copiar un archivo a la carpeta temporal\n",
      "!copy /b mi_programa.py +,,"
     ],
     "language": "python",
     "metadata": {},
     "outputs": [
      {
       "output_type": "stream",
       "stream": "stdout",
       "text": [
        "        1 archivo(s) copiado(s).\n"
       ]
      }
     ],
     "prompt_number": 34
    },
    {
     "cell_type": "code",
     "collapsed": false,
     "input": [
      "!dir temporal"
     ],
     "language": "python",
     "metadata": {},
     "outputs": [
      {
       "output_type": "stream",
       "stream": "stdout",
       "text": [
        " El volumen de la unidad C es Windows\n",
        " El n\u00a3mero de serie del volumen es: D6D7-27D9\n",
        "\n",
        " Directorio de C:\\Users\\Ivan\\Documents\\IPython Notebooks\\lania.ipython\\Dia2\\notebooks\\temporal\n",
        "\n",
        "13/11/2014  09:23 p. m.    <DIR>          .\n",
        "13/11/2014  09:23 p. m.    <DIR>          ..\n",
        "13/11/2014  09:19 p. m.               616 mi_programa.py\n",
        "               1 archivos            616 bytes\n",
        "               2 dirs  132,679,192,576 bytes libres\n"
       ]
      }
     ],
     "prompt_number": 42
    },
    {
     "cell_type": "code",
     "collapsed": false,
     "input": [
      "# contenido del archivo\n",
      "!type  temporal\\mi_programa.py"
     ],
     "language": "python",
     "metadata": {},
     "outputs": [],
     "prompt_number": 45
    },
    {
     "cell_type": "code",
     "collapsed": false,
     "input": [
      "%%writefile temporal/mi_programa.py\n",
      "def mi_funcion(x, y):\n",
      "    \"\"\"\n",
      "    Demo\n",
      "    \"\"\"\n",
      "    return x / y\n",
      "\n",
      "x = 4\n",
      "y = 2\n",
      "\n",
      "resultado = mi_funcion(x, y)"
     ],
     "language": "python",
     "metadata": {},
     "outputs": [
      {
       "output_type": "stream",
       "stream": "stdout",
       "text": [
        "Overwriting temporal/mi_programa.py\n"
       ]
      }
     ],
     "prompt_number": 14
    },
    {
     "cell_type": "code",
     "collapsed": false,
     "input": [
      "!type temporal\\mi_programa.py"
     ],
     "language": "python",
     "metadata": {},
     "outputs": [
      {
       "output_type": "stream",
       "stream": "stdout",
       "text": [
        "def mi_funcion(x, y):\n",
        "    \"\"\"\n",
        "    Demo\n",
        "    \"\"\"\n",
        "    return x / y\n",
        "\n",
        "x = 4\n",
        "y = 2\n",
        "\n",
        "resultado = mi_funcion(x, y)\n"
       ]
      }
     ],
     "prompt_number": 47
    },
    {
     "cell_type": "code",
     "collapsed": false,
     "input": [
      "# ejecutar el programa\n",
      "%run temporal/mi_programa.py"
     ],
     "language": "python",
     "metadata": {},
     "outputs": [],
     "prompt_number": 15
    },
    {
     "cell_type": "code",
     "collapsed": false,
     "input": [
      "# obtener el valor de retorno\n",
      "resultado"
     ],
     "language": "python",
     "metadata": {},
     "outputs": [
      {
       "metadata": {},
       "output_type": "pyout",
       "prompt_number": 16,
       "text": [
        "2"
       ]
      }
     ],
     "prompt_number": 16
    },
    {
     "cell_type": "heading",
     "level": 3,
     "metadata": {},
     "source": [
      "2.3.5. Excepciones y Tracebacks."
     ]
    },
    {
     "cell_type": "code",
     "collapsed": false,
     "input": [
      "%%writefile temporal/mi_programa.py\n",
      "def mi_funcion(x, y):\n",
      "    \"\"\"\n",
      "    Demo\n",
      "    \"\"\"\n",
      "    return x / y\n",
      "\n",
      "x = 4\n",
      "y = 0\n",
      "\n",
      "resultado = mi_funcion(x, y)"
     ],
     "language": "python",
     "metadata": {},
     "outputs": [
      {
       "output_type": "stream",
       "stream": "stdout",
       "text": [
        "Overwriting temporal/mi_programa.py\n"
       ]
      }
     ],
     "prompt_number": 17
    },
    {
     "cell_type": "code",
     "collapsed": false,
     "input": [
      "# error de division entre 0\n",
      "%run temporal/mi_programa.py"
     ],
     "language": "python",
     "metadata": {},
     "outputs": [
      {
       "ename": "ZeroDivisionError",
       "evalue": "integer division or modulo by zero",
       "output_type": "pyerr",
       "traceback": [
        "\u001b[1;31m---------------------------------------------------------------------------\u001b[0m\n\u001b[1;31mZeroDivisionError\u001b[0m                         Traceback (most recent call last)",
        "\u001b[1;32mC:\\Users\\Ivan\\Documents\\IPython Notebooks\\lania.ipython\\Dia2\\notebooks\\temporal\\mi_programa.py\u001b[0m in \u001b[0;36m<module>\u001b[1;34m()\u001b[0m\n\u001b[0;32m      8\u001b[0m \u001b[0my\u001b[0m \u001b[1;33m=\u001b[0m \u001b[1;36m0\u001b[0m\u001b[1;33m\u001b[0m\u001b[0m\n\u001b[0;32m      9\u001b[0m \u001b[1;33m\u001b[0m\u001b[0m\n\u001b[1;32m---> 10\u001b[1;33m \u001b[0mresultado\u001b[0m \u001b[1;33m=\u001b[0m \u001b[0mmi_funcion\u001b[0m\u001b[1;33m(\u001b[0m\u001b[0mx\u001b[0m\u001b[1;33m,\u001b[0m \u001b[0my\u001b[0m\u001b[1;33m)\u001b[0m\u001b[1;33m\u001b[0m\u001b[0m\n\u001b[0m",
        "\u001b[1;32mC:\\Users\\Ivan\\Documents\\IPython Notebooks\\lania.ipython\\Dia2\\notebooks\\temporal\\mi_programa.py\u001b[0m in \u001b[0;36mmi_funcion\u001b[1;34m(x, y)\u001b[0m\n\u001b[0;32m      3\u001b[0m     \u001b[0mDemo\u001b[0m\u001b[1;33m\u001b[0m\u001b[0m\n\u001b[0;32m      4\u001b[0m     \"\"\"\n\u001b[1;32m----> 5\u001b[1;33m     \u001b[1;32mreturn\u001b[0m \u001b[0mx\u001b[0m \u001b[1;33m/\u001b[0m \u001b[0my\u001b[0m\u001b[1;33m\u001b[0m\u001b[0m\n\u001b[0m\u001b[0;32m      6\u001b[0m \u001b[1;33m\u001b[0m\u001b[0m\n\u001b[0;32m      7\u001b[0m \u001b[0mx\u001b[0m \u001b[1;33m=\u001b[0m \u001b[1;36m4\u001b[0m\u001b[1;33m\u001b[0m\u001b[0m\n",
        "\u001b[1;31mZeroDivisionError\u001b[0m: integer division or modulo by zero"
       ]
      }
     ],
     "prompt_number": 18
    },
    {
     "cell_type": "heading",
     "level": 3,
     "metadata": {},
     "source": [
      "2.3.6. \"It a kind of Magic...\""
     ]
    },
    {
     "cell_type": "markdown",
     "metadata": {},
     "source": [
      "Los *magics* son comandos que facilitan las tareas m\u00e1s comunes y/o permiten interaccionar y controlar IPython. \n",
      "\n",
      "Se reconocen por estar precedidos por **`%`** (*line-magics*) o **`%%`** (*cell-magics*).\n",
      "\n",
      "Explicaci\u00f3n detallada, tenemos un *magic* para ello: **`%magic`**:"
     ]
    },
    {
     "cell_type": "code",
     "collapsed": false,
     "input": [
      "%magic"
     ],
     "language": "python",
     "metadata": {},
     "outputs": [],
     "prompt_number": 4
    },
    {
     "cell_type": "code",
     "collapsed": false,
     "input": [
      "# si queremos listar todas las magics disponibles\n",
      "%lsmagic"
     ],
     "language": "python",
     "metadata": {},
     "outputs": [
      {
       "json": [
        "{\"cell\": {\"prun\": \"ExecutionMagics\", \"file\": \"Other\", \"!\": \"OSMagics\", \"capture\": \"ExecutionMagics\", \"timeit\": \"ExecutionMagics\", \"script\": \"ScriptMagics\", \"pypy\": \"Other\", \"system\": \"OSMagics\", \"perl\": \"Other\", \"HTML\": \"Other\", \"bash\": \"Other\", \"python\": \"Other\", \"SVG\": \"Other\", \"javascript\": \"DisplayMagics\", \"writefile\": \"OSMagics\", \"ruby\": \"Other\", \"python3\": \"Other\", \"python2\": \"Other\", \"latex\": \"DisplayMagics\", \"sx\": \"OSMagics\", \"svg\": \"DisplayMagics\", \"cmd\": \"Other\", \"html\": \"DisplayMagics\", \"sh\": \"Other\", \"time\": \"ExecutionMagics\", \"debug\": \"ExecutionMagics\", \"powershell\": \"Other\"}, \"line\": {\"psource\": \"NamespaceMagics\", \"logstart\": \"LoggingMagics\", \"popd\": \"OSMagics\", \"loadpy\": \"CodeMagics\", \"install_ext\": \"ExtensionMagics\", \"colors\": \"BasicMagics\", \"who_ls\": \"NamespaceMagics\", \"install_profiles\": \"DeprecatedMagics\", \"ddir\": \"Other\", \"pprint\": \"BasicMagics\", \"ldir\": \"Other\", \"ls\": \"Other\", \"save\": \"CodeMagics\", \"tb\": \"ExecutionMagics\", \"cls\": \"KernelMagics\", \"pylab\": \"PylabMagics\", \"killbgscripts\": \"ScriptMagics\", \"quickref\": \"BasicMagics\", \"echo\": \"Other\", \"magic\": \"BasicMagics\", \"dhist\": \"OSMagics\", \"edit\": \"KernelMagics\", \"logstop\": \"LoggingMagics\", \"gui\": \"BasicMagics\", \"alias_magic\": \"BasicMagics\", \"debug\": \"ExecutionMagics\", \"page\": \"BasicMagics\", \"logstate\": \"LoggingMagics\", \"ed\": \"Other\", \"pushd\": \"OSMagics\", \"timeit\": \"ExecutionMagics\", \"rehashx\": \"OSMagics\", \"hist\": \"Other\", \"ren\": \"Other\", \"qtconsole\": \"KernelMagics\", \"dirs\": \"OSMagics\", \"run\": \"ExecutionMagics\", \"reset_selective\": \"NamespaceMagics\", \"pinfo2\": \"NamespaceMagics\", \"matplotlib\": \"PylabMagics\", \"automagic\": \"AutoMagics\", \"doctest_mode\": \"KernelMagics\", \"logoff\": \"LoggingMagics\", \"reload_ext\": \"ExtensionMagics\", \"pdb\": \"ExecutionMagics\", \"load\": \"CodeMagics\", \"lsmagic\": \"BasicMagics\", \"autosave\": \"KernelMagics\", \"cd\": \"OSMagics\", \"pastebin\": \"CodeMagics\", \"prun\": \"ExecutionMagics\", \"autocall\": \"AutoMagics\", \"bookmark\": \"OSMagics\", \"connect_info\": \"KernelMagics\", \"mkdir\": \"Other\", \"system\": \"OSMagics\", \"whos\": \"NamespaceMagics\", \"rmdir\": \"Other\", \"unload_ext\": \"ExtensionMagics\", \"store\": \"StoreMagics\", \"more\": \"KernelMagics\", \"pdef\": \"NamespaceMagics\", \"precision\": \"BasicMagics\", \"pinfo\": \"NamespaceMagics\", \"pwd\": \"OSMagics\", \"psearch\": \"NamespaceMagics\", \"copy\": \"Other\", \"reset\": \"NamespaceMagics\", \"recall\": \"HistoryMagics\", \"xdel\": \"NamespaceMagics\", \"xmode\": \"BasicMagics\", \"rerun\": \"HistoryMagics\", \"logon\": \"LoggingMagics\", \"history\": \"HistoryMagics\", \"pycat\": \"OSMagics\", \"unalias\": \"OSMagics\", \"install_default_config\": \"DeprecatedMagics\", \"env\": \"OSMagics\", \"load_ext\": \"ExtensionMagics\", \"config\": \"ConfigMagics\", \"profile\": \"BasicMagics\", \"pfile\": \"NamespaceMagics\", \"less\": \"KernelMagics\", \"who\": \"NamespaceMagics\", \"notebook\": \"BasicMagics\", \"sx\": \"OSMagics\", \"macro\": \"ExecutionMagics\", \"clear\": \"KernelMagics\", \"alias\": \"OSMagics\", \"time\": \"ExecutionMagics\", \"sc\": \"OSMagics\", \"rep\": \"Other\", \"pdoc\": \"NamespaceMagics\"}}"
       ],
       "metadata": {},
       "output_type": "pyout",
       "prompt_number": 5,
       "text": [
        "Available line magics:\n",
        "%alias  %alias_magic  %autocall  %automagic  %autosave  %bookmark  %cd  %clear  %cls  %colors  %config  %connect_info  %copy  %ddir  %debug  %dhist  %dirs  %doctest_mode  %echo  %ed  %edit  %env  %gui  %hist  %history  %install_default_config  %install_ext  %install_profiles  %killbgscripts  %ldir  %less  %load  %load_ext  %loadpy  %logoff  %logon  %logstart  %logstate  %logstop  %ls  %lsmagic  %macro  %magic  %matplotlib  %mkdir  %more  %notebook  %page  %pastebin  %pdb  %pdef  %pdoc  %pfile  %pinfo  %pinfo2  %popd  %pprint  %precision  %profile  %prun  %psearch  %psource  %pushd  %pwd  %pycat  %pylab  %qtconsole  %quickref  %recall  %rehashx  %reload_ext  %ren  %rep  %rerun  %reset  %reset_selective  %rmdir  %run  %save  %sc  %store  %sx  %system  %tb  %time  %timeit  %unalias  %unload_ext  %who  %who_ls  %whos  %xdel  %xmode\n",
        "\n",
        "Available cell magics:\n",
        "%%!  %%HTML  %%SVG  %%bash  %%capture  %%cmd  %%debug  %%file  %%html  %%javascript  %%latex  %%perl  %%powershell  %%prun  %%pypy  %%python  %%python2  %%python3  %%ruby  %%script  %%sh  %%svg  %%sx  %%system  %%time  %%timeit  %%writefile\n",
        "\n",
        "Automagic is ON, % prefix IS NOT needed for line magics."
       ]
      }
     ],
     "prompt_number": 5
    },
    {
     "cell_type": "code",
     "collapsed": false,
     "input": [
      "%quickref # referencia r\u00e1pida"
     ],
     "language": "python",
     "metadata": {},
     "outputs": [],
     "prompt_number": 6
    },
    {
     "cell_type": "code",
     "collapsed": false,
     "input": [
      "quickref # si %automagic est\u00e1 ON"
     ],
     "language": "python",
     "metadata": {},
     "outputs": [],
     "prompt_number": 19
    },
    {
     "cell_type": "markdown",
     "metadata": {},
     "source": [
      "OK, usemos una *magic* (**`%timeit`**) a modo de ejemplo:"
     ]
    },
    {
     "cell_type": "code",
     "collapsed": false,
     "input": [
      "%timeit?"
     ],
     "language": "python",
     "metadata": {},
     "outputs": [],
     "prompt_number": 8
    },
    {
     "cell_type": "code",
     "collapsed": false,
     "input": [
      "# matriz de n\u00fameros aleatorios de 100 x 100\n",
      "m = np.random.randn(100, 100)"
     ],
     "language": "python",
     "metadata": {},
     "outputs": [],
     "prompt_number": 20
    },
    {
     "cell_type": "code",
     "collapsed": false,
     "input": [
      "# ver el contenido de la matriz\n",
      "m"
     ],
     "language": "python",
     "metadata": {},
     "outputs": [
      {
       "metadata": {},
       "output_type": "pyout",
       "prompt_number": 21,
       "text": [
        "array([[ 0.44294456,  0.80245759, -0.17574531, ...,  2.01930308,\n",
        "         0.80446764, -0.06290055],\n",
        "       [-0.03849759, -1.42950498, -0.18094333, ...,  0.89193545,\n",
        "        -0.55142927,  0.06106399],\n",
        "       [ 0.58798946,  0.61545561,  0.81311839, ...,  1.33490695,\n",
        "        -0.42780619,  0.21866987],\n",
        "       ..., \n",
        "       [-0.3712182 , -0.57832285, -0.69103659, ...,  0.57436108,\n",
        "        -0.78832758,  1.64249508],\n",
        "       [-0.02173513,  0.50582944,  1.57871113, ..., -1.08574706,\n",
        "        -0.36187318, -0.21327499],\n",
        "       [ 0.17954263,  0.75441843,  0.91272463, ...,  0.4415799 ,\n",
        "         1.18403418,  0.75264699]])"
       ]
      }
     ],
     "prompt_number": 21
    },
    {
     "cell_type": "code",
     "collapsed": false,
     "input": [
      "# multiplicaci\u00f3n vectorial de matrices\n",
      "\n",
      "# #######\n",
      "# NOTA: AL EJECUTAR ESTA INSTRUCCION SE TRABA EL PYTHON\n",
      "#       MANDA UN ERROR CON EL MENSAJE:\n",
      "#       \"PYTHON DEJO DE FUNCIONAR\"\n",
      "# #######\n",
      "\n",
      "%timeit np.dot(m, m)"
     ],
     "language": "python",
     "metadata": {},
     "outputs": []
    },
    {
     "cell_type": "code",
     "collapsed": false,
     "input": [
      "# las magics aceptan par\u00e1metros\n",
      "\n",
      "# #######\n",
      "# NOTA: AL EJECUTAR ESTA INSTRUCCION SE TRABA EL PYTHON\n",
      "#       MANDA UN ERROR CON EL MENSAJE:\n",
      "#       \"PYTHON DEJO DE FUNCIONAR\"\n",
      "# #######\n",
      "\n",
      "#%timeit -n 100 -r 10 np.dot(m, m)"
     ],
     "language": "python",
     "metadata": {},
     "outputs": [],
     "prompt_number": 1
    },
    {
     "cell_type": "markdown",
     "metadata": {},
     "source": [
      "Algunas **`magics`** de uso frecuente que aun no hemos comentado:"
     ]
    },
    {
     "cell_type": "code",
     "collapsed": false,
     "input": [
      "%who"
     ],
     "language": "python",
     "metadata": {},
     "outputs": [
      {
       "output_type": "stream",
       "stream": "stdout",
       "text": [
        "Audio\t CustomPlot\t Fa\t Facultad\t Facundo\t FileLinks\t HTML\t Image\t Math\t \n",
        "Video\t YouTubeVideo\t a\t clear_output\t data\t datetime\t display\t figsize\t html_link\t \n",
        "lista\t m\t mi_funcion\t nbviewer\t np\t os\t pd\t plot_audio\t plt\t \n",
        "prefix\t randn\t resultado\t simple_link\t suma\t website\t x\t y\t \n"
       ]
      }
     ],
     "prompt_number": 22
    },
    {
     "cell_type": "code",
     "collapsed": false,
     "input": [
      "# Listar varianles\n",
      "%who_ls"
     ],
     "language": "python",
     "metadata": {},
     "outputs": [
      {
       "metadata": {},
       "output_type": "pyout",
       "prompt_number": 23,
       "text": [
        "['Audio',\n",
        " 'CustomPlot',\n",
        " 'Fa',\n",
        " 'Facultad',\n",
        " 'Facundo',\n",
        " 'FileLinks',\n",
        " 'HTML',\n",
        " 'Image',\n",
        " 'Math',\n",
        " 'Video',\n",
        " 'YouTubeVideo',\n",
        " 'a',\n",
        " 'clear_output',\n",
        " 'data',\n",
        " 'datetime',\n",
        " 'display',\n",
        " 'figsize',\n",
        " 'html_link',\n",
        " 'lista',\n",
        " 'm',\n",
        " 'mi_funcion',\n",
        " 'nbviewer',\n",
        " 'np',\n",
        " 'os',\n",
        " 'pd',\n",
        " 'plot_audio',\n",
        " 'plt',\n",
        " 'prefix',\n",
        " 'randn',\n",
        " 'resultado',\n",
        " 'simple_link',\n",
        " 'suma',\n",
        " 'website',\n",
        " 'x',\n",
        " 'y']"
       ]
      }
     ],
     "prompt_number": 23
    },
    {
     "cell_type": "code",
     "collapsed": false,
     "input": [
      "# listar variables con detalles adicionales\n",
      "%whos"
     ],
     "language": "python",
     "metadata": {},
     "outputs": [
      {
       "output_type": "stream",
       "stream": "stdout",
       "text": [
        "Variable       Type                          Data/Info\n",
        "------------------------------------------------------\n",
        "Audio          type                          <class 'IPython.lib.display.Audio'>\n",
        "CustomPlot     function                      <function CustomPlot at 0x000000000BE27518>\n",
        "Fa             int                           4\n",
        "Facultad       int                           8\n",
        "Facundo        int                           1\n",
        "FileLinks      type                          <class 'IPython.lib.display.FileLinks'>\n",
        "HTML           type                          <class 'IPython.core.display.HTML'>\n",
        "Image          type                          <class 'IPython.core.display.Image'>\n",
        "Math           type                          <class 'IPython.core.display.Math'>\n",
        "Video          function                      <function Video at 0x000000000BE27438>\n",
        "YouTubeVideo   type                          <class 'IPython.lib.display.YouTubeVideo'>\n",
        "a              int                           1\n",
        "clear_output   function                      <function clear_output at 0x0000000002D5FC18>\n",
        "data           dict                          n=7\n",
        "datetime       module                        <module 'datetime' (built-in)>\n",
        "display        function                      <function display at 0x0000000002D5F048>\n",
        "figsize        function                      <function figsize at 0x0000000002DED6D8>\n",
        "html_link      function                      <function html_link at 0x000000000BE27358>\n",
        "lista          list                          n=5\n",
        "m              ndarray                       100Lx100L: 10000 elems, type `float64`, 80000 bytes\n",
        "mi_funcion     function                      <function mi_funcion at 0x000000000BE27898>\n",
        "nbviewer       function                      <function nbviewer at 0x000000000BE273C8>\n",
        "np             module                        <module 'numpy' from 'C:\\<...>ages\\numpy\\__init__.pyc'>\n",
        "os             module                        <module 'os' from 'C:\\Use<...>van\\Anaconda\\lib\\os.pyc'>\n",
        "pd             module                        <module 'pandas' from 'C:<...>ges\\pandas\\__init__.pyc'>\n",
        "plot_audio     function                      <function plot_audio at 0x000000000BE274A8>\n",
        "plt            module                        <module 'matplotlib.pyplo<...>s\\matplotlib\\pyplot.pyc'>\n",
        "prefix         function                      <function prefix at 0x000000000BE272E8>\n",
        "randn          builtin_function_or_method    <built-in method randn of<...>ct at 0x00000000040335F8>\n",
        "resultado      int                           2\n",
        "simple_link    function                      <function simple_link at 0x000000000BE27278>\n",
        "suma           function                      <function suma at 0x0000000003C1B908>\n",
        "website        function                      <function website at 0x000000000BE27208>\n",
        "x              int                           4\n",
        "y              int                           0\n"
       ]
      }
     ],
     "prompt_number": 24
    },
    {
     "cell_type": "code",
     "collapsed": false,
     "input": [
      "# limpia de memoria todos los items grandes\n",
      "%xdel resultado\n",
      "\n",
      "# listar variables\n",
      "%who"
     ],
     "language": "python",
     "metadata": {},
     "outputs": [
      {
       "output_type": "stream",
       "stream": "stdout",
       "text": [
        "Audio\t CustomPlot\t Fa\t Facultad\t Facundo\t FileLinks\t HTML\t Image\t Math\t \n",
        "Video\t YouTubeVideo\t a\t clear_output\t data\t datetime\t display\t figsize\t html_link\t \n",
        "lista\t m\t mi_funcion\t nbviewer\t np\t os\t pd\t plot_audio\t plt\t \n",
        "prefix\t randn\t simple_link\t suma\t website\t x\t y\t \n"
       ]
      }
     ],
     "prompt_number": 25
    },
    {
     "cell_type": "code",
     "collapsed": false,
     "input": [
      "# borrar todas las variables\n",
      "%reset"
     ],
     "language": "python",
     "metadata": {},
     "outputs": [
      {
       "name": "stdout",
       "output_type": "stream",
       "stream": "stdout",
       "text": [
        "Once deleted, variables cannot be recovered. Proceed (y/[n])? y\n"
       ]
      }
     ],
     "prompt_number": 26
    },
    {
     "cell_type": "code",
     "collapsed": false,
     "input": [
      "# verificar que ya no exista la variable \"m\" por ejemplo\n",
      "m"
     ],
     "language": "python",
     "metadata": {},
     "outputs": [
      {
       "ename": "NameError",
       "evalue": "name 'm' is not defined",
       "output_type": "pyerr",
       "traceback": [
        "\u001b[1;31m---------------------------------------------------------------------------\u001b[0m\n\u001b[1;31mNameError\u001b[0m                                 Traceback (most recent call last)",
        "\u001b[1;32m<ipython-input-27-c8a3871d2169>\u001b[0m in \u001b[0;36m<module>\u001b[1;34m()\u001b[0m\n\u001b[0;32m      1\u001b[0m \u001b[1;31m# verificar que ya no exista la variable \"m\" por ejemplo\u001b[0m\u001b[1;33m\u001b[0m\u001b[1;33m\u001b[0m\u001b[0m\n\u001b[1;32m----> 2\u001b[1;33m \u001b[0mm\u001b[0m\u001b[1;33m\u001b[0m\u001b[0m\n\u001b[0m",
        "\u001b[1;31mNameError\u001b[0m: name 'm' is not defined"
       ]
      }
     ],
     "prompt_number": 27
    },
    {
     "cell_type": "markdown",
     "metadata": {},
     "source": [
      "Nota: `%paste` y `%cpaste` son `magics` con uso frecuente en la consola de IPython."
     ]
    },
    {
     "cell_type": "heading",
     "level": 3,
     "metadata": {},
     "source": [
      "2.3.7. Dos `magics` muy \u00fatiles."
     ]
    },
    {
     "cell_type": "code",
     "collapsed": false,
     "input": [
      "# abrir la consola de ipython\n",
      "%qtconsole"
     ],
     "language": "python",
     "metadata": {},
     "outputs": [],
     "prompt_number": 28
    },
    {
     "cell_type": "code",
     "collapsed": false,
     "input": [
      "# usar la libreria de matplotlib\n",
      "%matplotlib"
     ],
     "language": "python",
     "metadata": {},
     "outputs": [
      {
       "output_type": "stream",
       "stream": "stdout",
       "text": [
        "Using matplotlib backend: Qt4Agg\n"
       ]
      }
     ],
     "prompt_number": 29
    },
    {
     "cell_type": "heading",
     "level": 3,
     "metadata": {},
     "source": [
      "2.4. IPython b\u00e1sico (parte 2)."
     ]
    },
    {
     "cell_type": "heading",
     "level": 3,
     "metadata": {},
     "source": [
      "2.4.1. Haciendo uso de la historia..."
     ]
    },
    {
     "cell_type": "markdown",
     "metadata": {},
     "source": [
      "`Inputs` y `Outputs`:"
     ]
    },
    {
     "cell_type": "code",
     "collapsed": false,
     "input": [
      "# elevando un numero a una potencia\n",
      "2**4"
     ],
     "language": "python",
     "metadata": {},
     "outputs": [
      {
       "metadata": {},
       "output_type": "pyout",
       "prompt_number": 30,
       "text": [
        "16"
       ]
      }
     ],
     "prompt_number": 30
    },
    {
     "cell_type": "code",
     "collapsed": false,
     "input": [
      "_"
     ],
     "language": "python",
     "metadata": {},
     "outputs": [
      {
       "metadata": {},
       "output_type": "pyout",
       "prompt_number": 31,
       "text": [
        "16"
       ]
      }
     ],
     "prompt_number": 31
    },
    {
     "cell_type": "code",
     "collapsed": false,
     "input": [
      "# asignar un valor a una variable\n",
      "foo = \"bar\"\n",
      "foo"
     ],
     "language": "python",
     "metadata": {},
     "outputs": [
      {
       "metadata": {},
       "output_type": "pyout",
       "prompt_number": 32,
       "text": [
        "'bar'"
       ]
      }
     ],
     "prompt_number": 32
    },
    {
     "cell_type": "code",
     "collapsed": false,
     "input": [
      "# quien sabe que haceso esto xD\n",
      "_i50"
     ],
     "language": "python",
     "metadata": {},
     "outputs": [
      {
       "ename": "NameError",
       "evalue": "name '_i50' is not defined",
       "output_type": "pyerr",
       "traceback": [
        "\u001b[1;31m---------------------------------------------------------------------------\u001b[0m\n\u001b[1;31mNameError\u001b[0m                                 Traceback (most recent call last)",
        "\u001b[1;32m<ipython-input-33-2c358cdb6127>\u001b[0m in \u001b[0;36m<module>\u001b[1;34m()\u001b[0m\n\u001b[0;32m      1\u001b[0m \u001b[1;33m\u001b[0m\u001b[0m\n\u001b[1;32m----> 2\u001b[1;33m \u001b[0m_i50\u001b[0m\u001b[1;33m\u001b[0m\u001b[0m\n\u001b[0m",
        "\u001b[1;31mNameError\u001b[0m: name '_i50' is not defined"
       ]
      }
     ],
     "prompt_number": 33
    },
    {
     "cell_type": "code",
     "collapsed": false,
     "input": [
      "# quien sabe que haceso esto otro xD\n",
      "_50"
     ],
     "language": "python",
     "metadata": {},
     "outputs": [
      {
       "ename": "NameError",
       "evalue": "name '_50' is not defined",
       "output_type": "pyerr",
       "traceback": [
        "\u001b[1;31m---------------------------------------------------------------------------\u001b[0m\n\u001b[1;31mNameError\u001b[0m                                 Traceback (most recent call last)",
        "\u001b[1;32m<ipython-input-34-4ce25d5218b7>\u001b[0m in \u001b[0;36m<module>\u001b[1;34m()\u001b[0m\n\u001b[1;32m----> 1\u001b[1;33m \u001b[0m_50\u001b[0m\u001b[1;33m\u001b[0m\u001b[0m\n\u001b[0m",
        "\u001b[1;31mNameError\u001b[0m: name '_50' is not defined"
       ]
      }
     ],
     "prompt_number": 34
    },
    {
     "cell_type": "code",
     "collapsed": false,
     "input": [
      "# cambiar el valor de una variable\n",
      "foo = \"baz\"\n",
      "foo"
     ],
     "language": "python",
     "metadata": {},
     "outputs": [
      {
       "metadata": {},
       "output_type": "pyout",
       "prompt_number": 35,
       "text": [
        "'baz'"
       ]
      }
     ],
     "prompt_number": 35
    },
    {
     "cell_type": "code",
     "collapsed": false,
     "input": [
      "# ejecuta lo que quien sabe que es... XD\n",
      "exec _i50"
     ],
     "language": "python",
     "metadata": {},
     "outputs": [
      {
       "ename": "NameError",
       "evalue": "name '_i50' is not defined",
       "output_type": "pyerr",
       "traceback": [
        "\u001b[1;31m---------------------------------------------------------------------------\u001b[0m\n\u001b[1;31mNameError\u001b[0m                                 Traceback (most recent call last)",
        "\u001b[1;32m<ipython-input-36-b4985ada30b7>\u001b[0m in \u001b[0;36m<module>\u001b[1;34m()\u001b[0m\n\u001b[1;32m----> 1\u001b[1;33m \u001b[1;32mexec\u001b[0m \u001b[0m_i50\u001b[0m\u001b[1;33m\u001b[0m\u001b[0m\n\u001b[0m",
        "\u001b[1;31mNameError\u001b[0m: name '_i50' is not defined"
       ]
      }
     ],
     "prompt_number": 36
    },
    {
     "cell_type": "code",
     "collapsed": false,
     "input": [
      "# Muestra el valor actual de la variable\n",
      "foo"
     ],
     "language": "python",
     "metadata": {},
     "outputs": [
      {
       "metadata": {},
       "output_type": "pyout",
       "prompt_number": 38,
       "text": [
        "'baz'"
       ]
      }
     ],
     "prompt_number": 38
    },
    {
     "cell_type": "markdown",
     "metadata": {},
     "source": [
      "Note: Logging `magics` (`%logstart`, `%logstate`, `%logstop`, `%logon` y `%logoff`) son \u00fatiles en la consola de IPython."
     ]
    },
    {
     "cell_type": "heading",
     "level": 3,
     "metadata": {},
     "source": [
      "2.4.2. Interacci\u00f3n con el OS."
     ]
    },
    {
     "cell_type": "markdown",
     "metadata": {},
     "source": [
      "Usamos el signo de exclamaci\u00f3n (**`!`**) para enviar el comando a la consola del sistema:"
     ]
    },
    {
     "cell_type": "code",
     "collapsed": false,
     "input": [
      "!chdir "
     ],
     "language": "python",
     "metadata": {},
     "outputs": [
      {
       "output_type": "stream",
       "stream": "stdout",
       "text": [
        "C:\\Users\\Ivan\\Documents\\IPython Notebooks\\lania.ipython\\Dia2\\notebooks\n"
       ]
      }
     ],
     "prompt_number": 40
    },
    {
     "cell_type": "markdown",
     "metadata": {},
     "source": [
      "Incluso podemos capturar el output en una variable (en forma de una lista)"
     ]
    },
    {
     "cell_type": "code",
     "collapsed": false,
     "input": [
      "mes = !date"
     ],
     "language": "python",
     "metadata": {},
     "outputs": [],
     "prompt_number": 46
    },
    {
     "cell_type": "code",
     "collapsed": false,
     "input": [
      "# ver el contenido de la variable mes\n",
      "# (una lista de 2 elementos)\n",
      "mes"
     ],
     "language": "python",
     "metadata": {},
     "outputs": [
      {
       "metadata": {},
       "output_type": "pyout",
       "prompt_number": 48,
       "text": [
        "['La fecha actual es: 14/11/2014 ', 'Escriba la nueva fecha: (dd-mm-aa) ']"
       ]
      }
     ],
     "prompt_number": 48
    },
    {
     "cell_type": "code",
     "collapsed": false,
     "input": [
      "# obtener el primer elemento de la lista\n",
      "fecha_hoy = mes[0]\n",
      "\n",
      "# imprimirlo\n",
      "fecha_hoy"
     ],
     "language": "python",
     "metadata": {},
     "outputs": [
      {
       "metadata": {},
       "output_type": "pyout",
       "prompt_number": 50,
       "text": [
        "'La fecha actual es: 14/11/2014 '"
       ]
      }
     ],
     "prompt_number": 50
    },
    {
     "cell_type": "markdown",
     "metadata": {},
     "source": [
      "Pueden utilizarse variables definidas en el espacio de nombres actual, precedi\u00e9ndolas con el signo **`$`**:"
     ]
    },
    {
     "cell_type": "code",
     "collapsed": false,
     "input": [
      "ipy_notebooks = '*.ipynb'"
     ],
     "language": "python",
     "metadata": {},
     "outputs": [],
     "prompt_number": 51
    },
    {
     "cell_type": "code",
     "collapsed": false,
     "input": [
      "!dir"
     ],
     "language": "python",
     "metadata": {},
     "outputs": [
      {
       "output_type": "stream",
       "stream": "stdout",
       "text": [
        " El volumen de la unidad C es Windows\n",
        " El n\u00a3mero de serie del volumen es: D6D7-27D9\n",
        "\n",
        " Directorio de C:\\Users\\Ivan\\Documents\\IPython Notebooks\\lania.ipython\\Dia2\\notebooks\n",
        "\n",
        "13/11/2014  09:15 p. m.    <DIR>          .\n",
        "13/11/2014  09:15 p. m.    <DIR>          ..\n",
        "13/11/2014  07:57 p. m.    <DIR>          .ipynb_checkpoints\n",
        "08/11/2014  01:02 p. m.                49 archivonuevogenial.txt\n",
        "08/11/2014  01:14 p. m.               175 ejercicio2Lib04.txt\n",
        "08/11/2014  01:06 p. m.               106 ejercicioLib04.txt\n",
        "13/11/2014  02:51 p. m.                74 hola_clase.py\n",
        "13/11/2014  02:58 p. m.               132 hola_clase_espa.py\n",
        "08/11/2014  10:00 a. m.            16,692 Lib01_Esenciales_Python-IvanCarrillo.ipynb\n",
        "08/11/2014  09:35 a. m.            14,036 Lib01_Esenciales_Python.ipynb\n",
        "08/11/2014  10:22 a. m.            16,974 Lib02_Esenciales_DataStructures-IvanCarrillo.ipynb\n",
        "08/11/2014  10:08 a. m.            11,525 Lib02_Esenciales_DataStructures.ipynb\n",
        "08/11/2014  10:56 a. m.            22,058 Lib03_Esenciales_DataStructures-IvanCarrillo.ipynb\n",
        "08/11/2014  10:23 a. m.            12,014 Lib03_Esenciales_DataStructures.ipynb\n",
        "08/11/2014  01:17 p. m.            39,323 Lib04_Esenciales_TextFiles-IvanCarrillo.ipynb\n",
        "08/11/2014  11:44 a. m.            29,230 Lib04_Esenciales_TextFiles.ipynb\n",
        "13/11/2014  12:20 p. m.            84,470 Lib05_Ejercicios01-IvanCarrillo.ipynb\n",
        "01/11/2014  11:38 a. m.            44,861 Lib05_Ejercicios01.ipynb\n",
        "13/11/2014  01:45 p. m.            30,916 Lib06_Ejercicios02-IvanCarrillo.ipynb\n",
        "01/11/2014  11:38 a. m.            21,396 Lib06_Ejercicios02.ipynb\n",
        "13/11/2014  07:51 p. m.           129,427 Lib07_Ejercicios03-IvanCarrillo.ipynb\n",
        "01/11/2014  11:38 a. m.           114,758 Lib07_Ejercicios03.ipynb\n",
        "14/11/2014  06:38 p. m.            63,472 Lib08_Ejercicios04-IvanCarrillo.ipynb\n",
        "01/11/2014  11:38 a. m.            44,576 Lib08_Ejercicios04.ipynb\n",
        "01/11/2014  11:38 a. m.            81,495 Lib09_ProcesandoDatos01.ipynb\n",
        "01/11/2014  11:38 a. m.            28,021 Lib10_GraficandoDatos.ipynb\n",
        "01/11/2014  11:38 a. m.         1,676,419 Lib11_ArchivosCSV.ipynb\n",
        "01/11/2014  11:38 a. m.           148,399 Lib12_pandas.ipynb\n",
        "13/11/2014  09:19 p. m.               616 mimodulo.py\n",
        "13/11/2014  07:24 p. m.             1,113 mimodulo.pyc\n",
        "13/11/2014  09:23 p. m.    <DIR>          temporal\n",
        "              27 archivos      2,632,327 bytes\n",
        "               4 dirs  64,660,385,792 bytes libres\n"
       ]
      }
     ],
     "prompt_number": 52
    },
    {
     "cell_type": "code",
     "collapsed": false,
     "input": [
      "!dir $ipy_notebooks"
     ],
     "language": "python",
     "metadata": {},
     "outputs": [
      {
       "output_type": "stream",
       "stream": "stdout",
       "text": [
        " El volumen de la unidad C es Windows\n",
        " El n\u00a3mero de serie del volumen es: D6D7-27D9\n",
        "\n",
        " Directorio de C:\\Users\\Ivan\\Documents\\IPython Notebooks\\lania.ipython\\Dia2\\notebooks\n",
        "\n",
        "08/11/2014  10:00 a. m.            16,692 Lib01_Esenciales_Python-IvanCarrillo.ipynb\n",
        "08/11/2014  09:35 a. m.            14,036 Lib01_Esenciales_Python.ipynb\n",
        "08/11/2014  10:22 a. m.            16,974 Lib02_Esenciales_DataStructures-IvanCarrillo.ipynb\n",
        "08/11/2014  10:08 a. m.            11,525 Lib02_Esenciales_DataStructures.ipynb\n",
        "08/11/2014  10:56 a. m.            22,058 Lib03_Esenciales_DataStructures-IvanCarrillo.ipynb\n",
        "08/11/2014  10:23 a. m.            12,014 Lib03_Esenciales_DataStructures.ipynb\n",
        "08/11/2014  01:17 p. m.            39,323 Lib04_Esenciales_TextFiles-IvanCarrillo.ipynb\n",
        "08/11/2014  11:44 a. m.            29,230 Lib04_Esenciales_TextFiles.ipynb\n",
        "13/11/2014  12:20 p. m.            84,470 Lib05_Ejercicios01-IvanCarrillo.ipynb\n",
        "01/11/2014  11:38 a. m.            44,861 Lib05_Ejercicios01.ipynb\n",
        "13/11/2014  01:45 p. m.            30,916 Lib06_Ejercicios02-IvanCarrillo.ipynb\n",
        "01/11/2014  11:38 a. m.            21,396 Lib06_Ejercicios02.ipynb\n",
        "13/11/2014  07:51 p. m.           129,427 Lib07_Ejercicios03-IvanCarrillo.ipynb\n",
        "01/11/2014  11:38 a. m.           114,758 Lib07_Ejercicios03.ipynb\n",
        "14/11/2014  06:38 p. m.            63,472 Lib08_Ejercicios04-IvanCarrillo.ipynb\n",
        "01/11/2014  11:38 a. m.            44,576 Lib08_Ejercicios04.ipynb\n",
        "01/11/2014  11:38 a. m.            81,495 Lib09_ProcesandoDatos01.ipynb\n",
        "01/11/2014  11:38 a. m.            28,021 Lib10_GraficandoDatos.ipynb\n",
        "01/11/2014  11:38 a. m.         1,676,419 Lib11_ArchivosCSV.ipynb\n",
        "01/11/2014  11:38 a. m.           148,399 Lib12_pandas.ipynb\n",
        "              20 archivos      2,630,062 bytes\n",
        "               0 dirs  64,653,832,192 bytes libres\n"
       ]
      }
     ],
     "prompt_number": 53
    },
    {
     "cell_type": "markdown",
     "metadata": {},
     "source": [
      "Asimismo puedo establecer \"apodos\" o **`%alias`** de la siguiente forma:"
     ]
    },
    {
     "cell_type": "code",
     "collapsed": false,
     "input": [
      "%alias !dir /w"
     ],
     "language": "python",
     "metadata": {},
     "outputs": [],
     "prompt_number": 55
    },
    {
     "cell_type": "code",
     "collapsed": false,
     "input": [
      "!dir /w"
     ],
     "language": "python",
     "metadata": {},
     "outputs": [
      {
       "output_type": "stream",
       "stream": "stdout",
       "text": [
        " El volumen de la unidad C es Windows\n",
        " El n\u00a3mero de serie del volumen es: D6D7-27D9\n",
        "\n",
        " Directorio de C:\\Users\\Ivan\\Documents\\IPython Notebooks\\lania.ipython\\Dia2\\notebooks\n",
        "\n",
        "[.]\n",
        "[..]\n",
        "[.ipynb_checkpoints]\n",
        "archivonuevogenial.txt\n",
        "ejercicio2Lib04.txt\n",
        "ejercicioLib04.txt\n",
        "hola_clase.py\n",
        "hola_clase_espa.py\n",
        "Lib01_Esenciales_Python-IvanCarrillo.ipynb\n",
        "Lib01_Esenciales_Python.ipynb\n",
        "Lib02_Esenciales_DataStructures-IvanCarrillo.ipynb\n",
        "Lib02_Esenciales_DataStructures.ipynb\n",
        "Lib03_Esenciales_DataStructures-IvanCarrillo.ipynb\n",
        "Lib03_Esenciales_DataStructures.ipynb\n",
        "Lib04_Esenciales_TextFiles-IvanCarrillo.ipynb\n",
        "Lib04_Esenciales_TextFiles.ipynb\n",
        "Lib05_Ejercicios01-IvanCarrillo.ipynb\n",
        "Lib05_Ejercicios01.ipynb\n",
        "Lib06_Ejercicios02-IvanCarrillo.ipynb\n",
        "Lib06_Ejercicios02.ipynb\n",
        "Lib07_Ejercicios03-IvanCarrillo.ipynb\n",
        "Lib07_Ejercicios03.ipynb\n",
        "Lib08_Ejercicios04-IvanCarrillo.ipynb\n",
        "Lib08_Ejercicios04.ipynb\n",
        "Lib09_ProcesandoDatos01.ipynb\n",
        "Lib10_GraficandoDatos.ipynb\n",
        "Lib11_ArchivosCSV.ipynb\n",
        "Lib12_pandas.ipynb\n",
        "mimodulo.py\n",
        "mimodulo.pyc\n",
        "[temporal]\n",
        "              27 archivos      2,636,713 bytes\n",
        "               4 dirs  64,569,532,416 bytes libres\n"
       ]
      }
     ],
     "prompt_number": 56
    },
    {
     "cell_type": "markdown",
     "metadata": {},
     "source": [
      "El **`%alias`** puede incluso contener varios comandos separados por (**`;`**):"
     ]
    },
    {
     "cell_type": "code",
     "collapsed": false,
     "input": [
      "%alias l_datos(cd .ipynb_checkpoints; dir)"
     ],
     "language": "python",
     "metadata": {},
     "outputs": [],
     "prompt_number": 63
    },
    {
     "cell_type": "code",
     "collapsed": false,
     "input": [
      "l_datos"
     ],
     "language": "python",
     "metadata": {},
     "outputs": [
      {
       "output_type": "stream",
       "stream": "stderr",
       "text": [
        "El sistema no puede encontrar la ruta especificada.\n"
       ]
      }
     ],
     "prompt_number": 64
    },
    {
     "cell_type": "markdown",
     "metadata": {},
     "source": [
      "Puedo usar marcadores para directorios de uso recurrente:"
     ]
    },
    {
     "cell_type": "code",
     "collapsed": false,
     "input": [
      "%bookmark datos .ipynb_checkpoints"
     ],
     "language": "python",
     "metadata": {},
     "outputs": [],
     "prompt_number": 65
    },
    {
     "cell_type": "code",
     "collapsed": false,
     "input": [
      "%cd datos"
     ],
     "language": "python",
     "metadata": {},
     "outputs": [
      {
       "output_type": "stream",
       "stream": "stdout",
       "text": [
        "(bookmark:datos) -> .ipynb_checkpoints\n",
        "[Error 2] El sistema no puede encontrar el archivo especificado: u'.ipynb_checkpoints'\n",
        "C:\\Users\\Ivan\\Documents\\IPython Notebooks\\lania.ipython\\Dia2\\notebooks\\.ipynb_checkpoints\n"
       ]
      }
     ],
     "prompt_number": 66
    },
    {
     "cell_type": "code",
     "collapsed": false,
     "input": [
      "!dir"
     ],
     "language": "python",
     "metadata": {},
     "outputs": [
      {
       "output_type": "stream",
       "stream": "stdout",
       "text": [
        " El volumen de la unidad C es Windows\n",
        " El n\u00a3mero de serie del volumen es: D6D7-27D9\n",
        "\n",
        " Directorio de C:\\Users\\Ivan\\Documents\\IPython Notebooks\\lania.ipython\\Dia2\\notebooks\\.ipynb_checkpoints\n",
        "\n",
        "13/11/2014  07:57 p. m.    <DIR>          .\n",
        "13/11/2014  07:57 p. m.    <DIR>          ..\n",
        "01/11/2014  11:38 a. m.             7,847 Lib01_Esenciales_Python-checkpoint.ipynb\n",
        "08/11/2014  10:00 a. m.            16,692 Lib01_Esenciales_Python-IvanCarrillo-checkpoint.ipynb\n",
        "08/11/2014  10:08 a. m.            11,525 Lib02_Esenciales_DataStructures-checkpoint.ipynb\n",
        "08/11/2014  10:22 a. m.            16,974 Lib02_Esenciales_DataStructures-IvanCarrillo-checkpoint.ipynb\n",
        "08/11/2014  10:23 a. m.            12,014 Lib03_Esenciales_DataStructures-checkpoint.ipynb\n",
        "08/11/2014  10:54 a. m.            22,066 Lib03_Esenciales_DataStructures-IvanCarrillo-checkpoint.ipynb\n",
        "08/11/2014  11:44 a. m.            29,230 Lib04_Esenciales_TextFiles-checkpoint.ipynb\n",
        "08/11/2014  01:17 p. m.            39,323 Lib04_Esenciales_TextFiles-IvanCarrillo-checkpoint.ipynb\n",
        "13/11/2014  12:20 p. m.            84,470 Lib05_Ejercicios01-IvanCarrillo-checkpoint.ipynb\n",
        "13/11/2014  01:45 p. m.            30,916 Lib06_Ejercicios02-IvanCarrillo-checkpoint.ipynb\n",
        "13/11/2014  07:51 p. m.           129,427 Lib07_Ejercicios03-IvanCarrillo-checkpoint.ipynb\n",
        "14/11/2014  06:43 p. m.            68,104 Lib08_Ejercicios04-IvanCarrillo-checkpoint.ipynb\n",
        "              12 archivos        468,588 bytes\n",
        "               2 dirs  64,497,541,120 bytes libres\n"
       ]
      }
     ],
     "prompt_number": 67
    },
    {
     "cell_type": "heading",
     "level": 3,
     "metadata": {},
     "source": [
      "2.4.3. Debugging. "
     ]
    },
    {
     "cell_type": "markdown",
     "metadata": {},
     "source": [
      "* `%debug` (post-mortem debugger, lo inicializ\u00e1s despu\u00e9s de la aparici\u00f3n de una excepci\u00f3n).\n",
      "* `%pdb` (inicializa el debugger despu\u00e9s de cada excepci\u00f3n)."
     ]
    },
    {
     "cell_type": "heading",
     "level": 3,
     "metadata": {},
     "source": [
      "2.4.4. Profiling."
     ]
    },
    {
     "cell_type": "markdown",
     "metadata": {},
     "source": [
      "* `%prun` o `%run -p` (profiling en general).\n",
      "* `%lprun` (profiling por linea, necesita de line-profiler)."
     ]
    },
    {
     "cell_type": "heading",
     "level": 3,
     "metadata": {},
     "source": [
      "2.4.5. Configuraci\u00f3n."
     ]
    },
    {
     "cell_type": "markdown",
     "metadata": {},
     "source": [
      "* Intro:\n",
      "    * http://ipython.org/ipython-doc/dev/config/overview.html\n",
      "* Perfiles:\n",
      "    * http://ipython.org/ipython-doc/dev/config/overview.html#profiles\n",
      "* Extensiones:\n",
      "    * http://ipython.org/ipython-doc/dev/config/extensions/index.\n",
      "    * https://github.com/ipython/ipython/wiki/Extensions-Index"
     ]
    },
    {
     "cell_type": "heading",
     "level": 4,
     "metadata": {},
     "source": [
      "Sinesio Ivan Carrillo Heredia"
     ]
    }
   ],
   "metadata": {}
  }
 ]
}