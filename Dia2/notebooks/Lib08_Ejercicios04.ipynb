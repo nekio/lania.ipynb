{
 "metadata": {
  "name": ""
 },
 "nbformat": 3,
 "nbformat_minor": 0,
 "worksheets": [
  {
   "cells": [
    {
     "cell_type": "markdown",
     "metadata": {},
     "source": [
      "# IPython y IPython Notebooks\n",
      "\n",
      "\n",
      "\n",
      "El contenido de esta libreta esta basado en [Python-Cientifico-HCC](http://nbviewer.ipython.org/github/damianavila/Python-Cientifico-HCC/tree/master/) de Damian Avila."
     ]
    },
    {
     "cell_type": "heading",
     "level": 3,
     "metadata": {},
     "source": [
      "Descripci\u00f3n."
     ]
    },
    {
     "cell_type": "markdown",
     "metadata": {},
     "source": [
      "**Es una poderosa herramienta para la computaci\u00f3n cient\u00edfica interactiva y exploratoria.**\n",
      "\n",
      "* Int\u00e9rpretes interactivos *poderosos* (terminal y basado en Qt).\n",
      "* Un web-notebook con las mismas funcionalidades b\u00e1sicas que los interpretes interactivos pero con soporte para video, texto, c\u00f3digo, expresiones matematicas y plot embebidos.\n",
      "* Soporte para la visualizaci\u00f3n interactiva de datos y uso de bibliotecas GUI.\n",
      "* Herramientas de alta performance para la cumputaci\u00f3n en paralelo."
     ]
    },
    {
     "cell_type": "heading",
     "level": 4,
     "metadata": {},
     "source": [
      "Encendiendo motores..."
     ]
    },
    {
     "cell_type": "markdown",
     "metadata": {},
     "source": [
      "```\n",
      "(ipython_dev)damian@damian-Inspiron-1110:~$ ipython notebook\n",
      "```"
     ]
    },
    {
     "cell_type": "markdown",
     "metadata": {},
     "source": [
      "```\n",
      "2013-05-10 12:11:26.912 [NotebookApp] Using existing profile dir: u'/home/damian/.config/ipython/profile_default'\n",
      "2013-05-10 12:11:26.937 [NotebookApp] Using MathJax from CDN: http://cdn.mathjax.org/mathjax/latest/MathJax.js\n",
      "2013-05-10 12:11:26.984 [NotebookApp] The port 8888 is already in use, trying another random port.\n",
      "2013-05-10 12:11:26.985 [NotebookApp] Serving notebooks from local directory: /home/damian\n",
      "2013-05-10 12:11:26.985 [NotebookApp] The IPython Notebook is running at: http://127.0.0.1:8888/\n",
      "2013-05-10 12:11:26.986 [NotebookApp] Use Control-C to stop this server and shut down all kernels.\n",
      "Se ha abierto una nueva ventana en la sesi\u00f3n actual del navegador.\n",
      "```"
     ]
    },
    {
     "cell_type": "markdown",
     "metadata": {},
     "source": [
      "y ejecutando un *hola mundo*:"
     ]
    },
    {
     "cell_type": "code",
     "collapsed": false,
     "input": [
      "print \"Hola RySi 2014\""
     ],
     "language": "python",
     "metadata": {},
     "outputs": [
      {
       "output_type": "stream",
       "stream": "stdout",
       "text": [
        "Hola HCC 2013\n"
       ]
      }
     ],
     "prompt_number": 1
    },
    {
     "cell_type": "code",
     "collapsed": false,
     "input": [
      "a = 1"
     ],
     "language": "python",
     "metadata": {},
     "outputs": [],
     "prompt_number": 2
    },
    {
     "cell_type": "code",
     "collapsed": false,
     "input": [
      "a"
     ],
     "language": "python",
     "metadata": {},
     "outputs": [
      {
       "metadata": {},
       "output_type": "pyout",
       "prompt_number": 3,
       "text": [
        "1"
       ]
      }
     ],
     "prompt_number": 3
    },
    {
     "cell_type": "markdown",
     "metadata": {},
     "source": [
      "La representaci\u00f3n de los objetos es m\u00e1s legible:"
     ]
    },
    {
     "cell_type": "code",
     "collapsed": false,
     "input": [
      "from numpy.random import randn\n",
      "data = {i : randn() for i in range(7)}"
     ],
     "language": "python",
     "metadata": {},
     "outputs": [],
     "prompt_number": 4
    },
    {
     "cell_type": "code",
     "collapsed": false,
     "input": [
      "data"
     ],
     "language": "python",
     "metadata": {},
     "outputs": [
      {
       "metadata": {},
       "output_type": "pyout",
       "prompt_number": 5,
       "text": [
        "{0: 0.9428841525856904,\n",
        " 1: 1.165063252749645,\n",
        " 2: 1.308665792696693,\n",
        " 3: -0.8000502965205039,\n",
        " 4: 0.4853678668880446,\n",
        " 5: 0.03887308359359395,\n",
        " 6: 1.9373711669042895}"
       ]
      }
     ],
     "prompt_number": 5
    },
    {
     "cell_type": "code",
     "collapsed": false,
     "input": [
      ">>> from numpy.random import randn\n",
      ">>> data = {i : randn() for i in range(7)}\n",
      ">>> print data # peque\u00f1a trampa para verlo como se ver\u00eda en consola"
     ],
     "language": "python",
     "metadata": {},
     "outputs": [
      {
       "output_type": "stream",
       "stream": "stdout",
       "text": [
        "{0: 0.6512988528977837, 1: 0.5240925908050613, 2: -0.8488047039989695, 3: 0.5773754635792333, 4: 0.13304051330295186, 5: -0.50229331002119, 6: -1.4593748753264693}\n"
       ]
      }
     ],
     "prompt_number": 6
    },
    {
     "cell_type": "heading",
     "level": 3,
     "metadata": {},
     "source": [
      "2.3.2. Completado por < TAB >."
     ]
    },
    {
     "cell_type": "code",
     "collapsed": false,
     "input": [
      "Facundo = 1"
     ],
     "language": "python",
     "metadata": {},
     "outputs": [],
     "prompt_number": 7
    },
    {
     "cell_type": "code",
     "collapsed": false,
     "input": [
      "Facultad = 8"
     ],
     "language": "python",
     "metadata": {},
     "outputs": [],
     "prompt_number": 8
    },
    {
     "cell_type": "code",
     "collapsed": false,
     "input": [
      "Fa = 4"
     ],
     "language": "python",
     "metadata": {},
     "outputs": [],
     "prompt_number": 9
    },
    {
     "cell_type": "markdown",
     "metadata": {},
     "source": [
      "Busqueda de variables en el espacio de nombres: variable_de_inter\u00e9s**`<TAB>`**:"
     ]
    },
    {
     "cell_type": "code",
     "collapsed": false,
     "input": [
      "Fa"
     ],
     "language": "python",
     "metadata": {},
     "outputs": []
    },
    {
     "cell_type": "markdown",
     "metadata": {},
     "source": [
      "Acceso a m\u00e9todos y atributos, por ejemplo, objeto_de_inter\u00e9s**.`<TAB>`**:"
     ]
    },
    {
     "cell_type": "code",
     "collapsed": false,
     "input": [
      "lista = [1, 2, 3, 4, 5]"
     ],
     "language": "python",
     "metadata": {},
     "outputs": [],
     "prompt_number": 10
    },
    {
     "cell_type": "code",
     "collapsed": false,
     "input": [
      "lista."
     ],
     "language": "python",
     "metadata": {},
     "outputs": []
    },
    {
     "cell_type": "markdown",
     "metadata": {},
     "source": [
      "Lo mismo para los m\u00f3dulos, por ejemplo, modulo_de_inter\u00e9s**.`<TAB>`**:"
     ]
    },
    {
     "cell_type": "code",
     "collapsed": false,
     "input": [
      "import datetime"
     ],
     "language": "python",
     "metadata": {},
     "outputs": [],
     "prompt_number": 11
    },
    {
     "cell_type": "code",
     "collapsed": false,
     "input": [
      "datetime."
     ],
     "language": "python",
     "metadata": {},
     "outputs": []
    },
    {
     "cell_type": "code",
     "collapsed": false,
     "input": [
      "datetime._"
     ],
     "language": "python",
     "metadata": {},
     "outputs": []
    },
    {
     "cell_type": "markdown",
     "metadata": {},
     "source": [
      "Incluso para directorios, por ejemplo, carpeta_de_inter\u00e9s**/`<TAB>`**:"
     ]
    },
    {
     "cell_type": "code",
     "collapsed": false,
     "input": [
      "!ls # peque\u00f1o truco para pasar comandos a consola..."
     ],
     "language": "python",
     "metadata": {},
     "outputs": [
      {
       "output_type": "stream",
       "stream": "stdout",
       "text": [
        "1_Python_Cientifico_Intro.ipynb  README.md\r\n",
        "6_Herramientas_avanzadas.ipynb\t SciPyConAr_IPython.ipynb\r\n",
        "images\t\t\t\t SciPyConAr_Matplotlib.ipynb\r\n",
        "PairsTrading_0.1_Damian.ipynb\t SciPyConAr_NumPy.ipynb\r\n",
        "PairsTrading_0.1_etf.ipynb\t SciPyConAr_SciPy.ipynb\r\n",
        "random-matrix.csv\t\t scripts\r\n",
        "random-matrix.npy\t\t stockholm_td_adj.dat\r\n"
       ]
      }
     ],
     "prompt_number": 12
    },
    {
     "cell_type": "code",
     "collapsed": false,
     "input": [
      "scripts/"
     ],
     "language": "python",
     "metadata": {},
     "outputs": []
    },
    {
     "cell_type": "code",
     "collapsed": false,
     "input": [
      "!ls scripts/"
     ],
     "language": "python",
     "metadata": {},
     "outputs": [
      {
       "output_type": "stream",
       "stream": "stdout",
       "text": [
        "hola_mundo.py\r\n"
       ]
      }
     ],
     "prompt_number": 14
    },
    {
     "cell_type": "heading",
     "level": 3,
     "metadata": {},
     "source": [
      "2.3.3. Introspecci\u00f3n de objetos."
     ]
    },
    {
     "cell_type": "code",
     "collapsed": false,
     "input": [
      "lista?"
     ],
     "language": "python",
     "metadata": {},
     "outputs": [],
     "prompt_number": 15
    },
    {
     "cell_type": "markdown",
     "metadata": {},
     "source": [
      "Apliquemoslo a una funci\u00f3n propia:"
     ]
    },
    {
     "cell_type": "code",
     "collapsed": false,
     "input": [
      "def suma(a, b):\n",
      "    \"\"\"\n",
      "    Demo de una funci\u00f3n que suma cosas...\n",
      "    \"\"\"\n",
      "    return a + b"
     ],
     "language": "python",
     "metadata": {},
     "outputs": [],
     "prompt_number": 16
    },
    {
     "cell_type": "code",
     "collapsed": false,
     "input": [
      "suma?"
     ],
     "language": "python",
     "metadata": {},
     "outputs": [],
     "prompt_number": 17
    },
    {
     "cell_type": "code",
     "collapsed": false,
     "input": [
      "suma??"
     ],
     "language": "python",
     "metadata": {},
     "outputs": [],
     "prompt_number": 18
    },
    {
     "cell_type": "markdown",
     "metadata": {},
     "source": [
      "El **\"?\"** Tambi\u00e9n puede servirnos para la busqueda en el espacio de nombres de IPython:"
     ]
    },
    {
     "cell_type": "code",
     "collapsed": false,
     "input": [
      "import numpy as np\n",
      "np.*lin*?"
     ],
     "language": "python",
     "metadata": {},
     "outputs": [],
     "prompt_number": 21
    },
    {
     "cell_type": "heading",
     "level": 3,
     "metadata": {},
     "source": [
      "2.3.4. %run, Forest... %run."
     ]
    },
    {
     "cell_type": "markdown",
     "metadata": {},
     "source": [
      "Con el comando `%run` podemos ejecutar cualquier archivo `.py` en un espacio de nombres **limpio**, sin `imports` ni `variables` definidas (a menos que corramos `%run -i`).\n",
      "\n",
      "Demo:\n",
      "\n",
      "```\n",
      "!mkdir temporal/\n",
      "!touch temporal/mi_programa.py\n",
      "!ls temporal/\n",
      "!cat temporal/mi_programa.py\n",
      "```"
     ]
    },
    {
     "cell_type": "code",
     "collapsed": false,
     "input": [
      "%%bash\n",
      "mkdir temporal/\n",
      "touch temporal/mi_programa.py\n",
      "ls temporal/"
     ],
     "language": "python",
     "metadata": {},
     "outputs": [
      {
       "output_type": "stream",
       "stream": "stdout",
       "text": [
        "mi_programa.py\n"
       ]
      }
     ],
     "prompt_number": 22
    },
    {
     "cell_type": "code",
     "collapsed": false,
     "input": [
      "!cat temporal/mi_programa.py\n",
      "# archivo vacio"
     ],
     "language": "python",
     "metadata": {},
     "outputs": [],
     "prompt_number": 23
    },
    {
     "cell_type": "code",
     "collapsed": false,
     "input": [
      "%%writefile temporal/mi_programa.py\n",
      "def mi_funcion(x, y):\n",
      "    \"\"\"\n",
      "    Demo\n",
      "    \"\"\"\n",
      "    return x / y\n",
      "\n",
      "x = 4\n",
      "y = 2\n",
      "\n",
      "resultado = mi_funcion(x, y)"
     ],
     "language": "python",
     "metadata": {},
     "outputs": [
      {
       "output_type": "stream",
       "stream": "stdout",
       "text": [
        "Overwriting temporal/mi_programa.py\n"
       ]
      }
     ],
     "prompt_number": 24
    },
    {
     "cell_type": "code",
     "collapsed": false,
     "input": [
      "!cat temporal/mi_programa.py"
     ],
     "language": "python",
     "metadata": {},
     "outputs": [
      {
       "output_type": "stream",
       "stream": "stdout",
       "text": [
        "def mi_funcion(x, y):\r\n",
        "    \"\"\"\r\n",
        "    Demo\r\n",
        "    \"\"\"\r\n",
        "    return x / y\r\n",
        "\r\n",
        "x = 4\r\n",
        "y = 2\r\n",
        "\r\n",
        "resultado = mi_funcion(x, y)"
       ]
      }
     ],
     "prompt_number": 25
    },
    {
     "cell_type": "code",
     "collapsed": false,
     "input": [
      "%run temporal/mi_programa.py"
     ],
     "language": "python",
     "metadata": {},
     "outputs": [],
     "prompt_number": 26
    },
    {
     "cell_type": "code",
     "collapsed": false,
     "input": [
      "resultado"
     ],
     "language": "python",
     "metadata": {},
     "outputs": [
      {
       "metadata": {},
       "output_type": "pyout",
       "prompt_number": 27,
       "text": [
        "2"
       ]
      }
     ],
     "prompt_number": 27
    },
    {
     "cell_type": "heading",
     "level": 3,
     "metadata": {},
     "source": [
      "2.3.5. Excepciones y Tracebacks."
     ]
    },
    {
     "cell_type": "code",
     "collapsed": false,
     "input": [
      "%%writefile temporal/mi_programa.py\n",
      "def mi_funcion(x, y):\n",
      "    \"\"\"\n",
      "    Demo\n",
      "    \"\"\"\n",
      "    return x / y\n",
      "\n",
      "x = 4\n",
      "y = 0\n",
      "\n",
      "resultado = mi_funcion(x, y)"
     ],
     "language": "python",
     "metadata": {},
     "outputs": [
      {
       "output_type": "stream",
       "stream": "stdout",
       "text": [
        "Overwriting temporal/mi_programa.py\n"
       ]
      }
     ],
     "prompt_number": 28
    },
    {
     "cell_type": "code",
     "collapsed": false,
     "input": [
      "%run temporal/mi_programa.py"
     ],
     "language": "python",
     "metadata": {},
     "outputs": [
      {
       "ename": "ZeroDivisionError",
       "evalue": "integer division or modulo by zero",
       "output_type": "pyerr",
       "traceback": [
        "\u001b[1;31m---------------------------------------------------------------------------\u001b[0m\n\u001b[1;31mZeroDivisionError\u001b[0m                         Traceback (most recent call last)",
        "\u001b[1;32m/home/damian/.virtualenvs/blog/local/lib/python2.7/site-packages/IPython/utils/py3compat.pyc\u001b[0m in \u001b[0;36mexecfile\u001b[1;34m(fname, *where)\u001b[0m\n\u001b[0;32m    202\u001b[0m             \u001b[1;32melse\u001b[0m\u001b[1;33m:\u001b[0m\u001b[1;33m\u001b[0m\u001b[0m\n\u001b[0;32m    203\u001b[0m                 \u001b[0mfilename\u001b[0m \u001b[1;33m=\u001b[0m \u001b[0mfname\u001b[0m\u001b[1;33m\u001b[0m\u001b[0m\n\u001b[1;32m--> 204\u001b[1;33m             \u001b[0m__builtin__\u001b[0m\u001b[1;33m.\u001b[0m\u001b[0mexecfile\u001b[0m\u001b[1;33m(\u001b[0m\u001b[0mfilename\u001b[0m\u001b[1;33m,\u001b[0m \u001b[1;33m*\u001b[0m\u001b[0mwhere\u001b[0m\u001b[1;33m)\u001b[0m\u001b[1;33m\u001b[0m\u001b[0m\n\u001b[0m",
        "\u001b[1;32m/media/datos/Presentacion/SciPyConAr_Python_Cientifico/temporal/mi_programa.py\u001b[0m in \u001b[0;36m<module>\u001b[1;34m()\u001b[0m\n\u001b[0;32m      8\u001b[0m \u001b[0my\u001b[0m \u001b[1;33m=\u001b[0m \u001b[1;36m0\u001b[0m\u001b[1;33m\u001b[0m\u001b[0m\n\u001b[0;32m      9\u001b[0m \u001b[1;33m\u001b[0m\u001b[0m\n\u001b[1;32m---> 10\u001b[1;33m \u001b[0mresultado\u001b[0m \u001b[1;33m=\u001b[0m \u001b[0mmi_funcion\u001b[0m\u001b[1;33m(\u001b[0m\u001b[0mx\u001b[0m\u001b[1;33m,\u001b[0m \u001b[0my\u001b[0m\u001b[1;33m)\u001b[0m\u001b[1;33m\u001b[0m\u001b[0m\n\u001b[0m",
        "\u001b[1;32m/media/datos/Presentacion/SciPyConAr_Python_Cientifico/temporal/mi_programa.py\u001b[0m in \u001b[0;36mmi_funcion\u001b[1;34m(x, y)\u001b[0m\n\u001b[0;32m      3\u001b[0m     \u001b[0mDemo\u001b[0m\u001b[1;33m\u001b[0m\u001b[0m\n\u001b[0;32m      4\u001b[0m     \"\"\"\n\u001b[1;32m----> 5\u001b[1;33m     \u001b[1;32mreturn\u001b[0m \u001b[0mx\u001b[0m \u001b[1;33m/\u001b[0m \u001b[0my\u001b[0m\u001b[1;33m\u001b[0m\u001b[0m\n\u001b[0m\u001b[0;32m      6\u001b[0m \u001b[1;33m\u001b[0m\u001b[0m\n\u001b[0;32m      7\u001b[0m \u001b[0mx\u001b[0m \u001b[1;33m=\u001b[0m \u001b[1;36m4\u001b[0m\u001b[1;33m\u001b[0m\u001b[0m\n",
        "\u001b[1;31mZeroDivisionError\u001b[0m: integer division or modulo by zero"
       ]
      }
     ],
     "prompt_number": 29
    },
    {
     "cell_type": "heading",
     "level": 3,
     "metadata": {},
     "source": [
      "2.3.6. \"It a kind of Magic...\""
     ]
    },
    {
     "cell_type": "markdown",
     "metadata": {},
     "source": [
      "Los *magics* son comandos que facilitan las tareas m\u00e1s comunes y/o permiten interaccionar y controlar IPython. \n",
      "\n",
      "Se reconocen por estar precedidos por **`%`** (*line-magics*) o **`%%`** (*cell-magics*).\n",
      "\n",
      "Explicaci\u00f3n detallada, tenemos un *magic* para ello: **`%magic`**:"
     ]
    },
    {
     "cell_type": "code",
     "collapsed": false,
     "input": [
      "%magic"
     ],
     "language": "python",
     "metadata": {},
     "outputs": [],
     "prompt_number": 30
    },
    {
     "cell_type": "code",
     "collapsed": false,
     "input": [
      "%lsmagic # si queremos listar todas las magics disponibles"
     ],
     "language": "python",
     "metadata": {},
     "outputs": [
      {
       "json": [
        "{\"cell\": {\"prun\": \"ExecutionMagics\", \"file\": \"Other\", \"!\": \"OSMagics\", \"capture\": \"ExecutionMagics\", \"timeit\": \"ExecutionMagics\", \"script\": \"ScriptMagics\", \"ruby\": \"Other\", \"system\": \"OSMagics\", \"perl\": \"Other\", \"HTML\": \"Other\", \"bash\": \"Other\", \"python\": \"Other\", \"SVG\": \"Other\", \"javascript\": \"DisplayMagics\", \"writefile\": \"OSMagics\", \"pypy\": \"Other\", \"python3\": \"Other\", \"latex\": \"DisplayMagics\", \"sx\": \"OSMagics\", \"svg\": \"DisplayMagics\", \"html\": \"DisplayMagics\", \"sh\": \"Other\", \"time\": \"ExecutionMagics\", \"debug\": \"ExecutionMagics\"}, \"line\": {\"load\": \"CodeMagics\", \"psource\": \"NamespaceMagics\", \"lsmagic\": \"BasicMagics\", \"logstate\": \"LoggingMagics\", \"logstart\": \"LoggingMagics\", \"popd\": \"OSMagics\", \"ed\": \"Other\", \"pycat\": \"OSMagics\", \"loadpy\": \"CodeMagics\", \"install_ext\": \"ExtensionMagics\", \"cd\": \"OSMagics\", \"pastebin\": \"CodeMagics\", \"clear\": \"KernelMagics\", \"colors\": \"BasicMagics\", \"prun\": \"ExecutionMagics\", \"pushd\": \"OSMagics\", \"rep\": \"Other\", \"config\": \"ConfigMagics\", \"dirs\": \"OSMagics\", \"time\": \"ExecutionMagics\", \"who_ls\": \"NamespaceMagics\", \"install_profiles\": \"DeprecatedMagics\", \"macro\": \"ExecutionMagics\", \"autocall\": \"AutoMagics\", \"alias\": \"OSMagics\", \"bookmark\": \"OSMagics\", \"connect_info\": \"KernelMagics\", \"rehashx\": \"OSMagics\", \"pprint\": \"BasicMagics\", \"system\": \"OSMagics\", \"whos\": \"NamespaceMagics\", \"hist\": \"Other\", \"install_default_config\": \"DeprecatedMagics\", \"logoff\": \"LoggingMagics\", \"env\": \"OSMagics\", \"qtconsole\": \"KernelMagics\", \"load_ext\": \"ExtensionMagics\", \"save\": \"CodeMagics\", \"tb\": \"ExecutionMagics\", \"store\": \"StoreMagics\", \"more\": \"KernelMagics\", \"profile\": \"BasicMagics\", \"doctest_mode\": \"KernelMagics\", \"pylab\": \"PylabMagics\", \"run\": \"ExecutionMagics\", \"reset_selective\": \"NamespaceMagics\", \"pfile\": \"NamespaceMagics\", \"pinfo2\": \"NamespaceMagics\", \"pdef\": \"NamespaceMagics\", \"killbgscripts\": \"ScriptMagics\", \"who\": \"NamespaceMagics\", \"precision\": \"BasicMagics\", \"matplotlib\": \"PylabMagics\", \"quickref\": \"BasicMagics\", \"pinfo\": \"NamespaceMagics\", \"pwd\": \"OSMagics\", \"psearch\": \"NamespaceMagics\", \"autosave\": \"KernelMagics\", \"less\": \"KernelMagics\", \"sc\": \"OSMagics\", \"automagic\": \"AutoMagics\", \"reset\": \"NamespaceMagics\", \"sx\": \"OSMagics\", \"magic\": \"BasicMagics\", \"dhist\": \"OSMagics\", \"timeit\": \"ExecutionMagics\", \"edit\": \"KernelMagics\", \"logstop\": \"LoggingMagics\", \"gui\": \"BasicMagics\", \"xdel\": \"NamespaceMagics\", \"xmode\": \"BasicMagics\", \"notebook\": \"BasicMagics\", \"pdb\": \"ExecutionMagics\", \"recall\": \"HistoryMagics\", \"unalias\": \"OSMagics\", \"unload_ext\": \"ExtensionMagics\", \"alias_magic\": \"BasicMagics\", \"reload_ext\": \"ExtensionMagics\", \"man\": \"KernelMagics\", \"rerun\": \"HistoryMagics\", \"debug\": \"ExecutionMagics\", \"logon\": \"LoggingMagics\", \"page\": \"BasicMagics\", \"pdoc\": \"NamespaceMagics\", \"history\": \"HistoryMagics\"}}"
       ],
       "metadata": {},
       "output_type": "pyout",
       "prompt_number": 31,
       "text": [
        "Available line magics:\n",
        "%alias  %alias_magic  %autocall  %automagic  %autosave  %bookmark  %cd  %clear  %colors  %config  %connect_info  %debug  %dhist  %dirs  %doctest_mode  %ed  %edit  %env  %gui  %hist  %history  %install_default_config  %install_ext  %install_profiles  %killbgscripts  %less  %load  %load_ext  %loadpy  %logoff  %logon  %logstart  %logstate  %logstop  %lsmagic  %macro  %magic  %man  %matplotlib  %more  %notebook  %page  %pastebin  %pdb  %pdef  %pdoc  %pfile  %pinfo  %pinfo2  %popd  %pprint  %precision  %profile  %prun  %psearch  %psource  %pushd  %pwd  %pycat  %pylab  %qtconsole  %quickref  %recall  %rehashx  %reload_ext  %rep  %rerun  %reset  %reset_selective  %run  %save  %sc  %store  %sx  %system  %tb  %time  %timeit  %unalias  %unload_ext  %who  %who_ls  %whos  %xdel  %xmode\n",
        "\n",
        "Available cell magics:\n",
        "%%!  %%HTML  %%SVG  %%bash  %%capture  %%debug  %%file  %%html  %%javascript  %%latex  %%perl  %%prun  %%pypy  %%python  %%python3  %%ruby  %%script  %%sh  %%svg  %%sx  %%system  %%time  %%timeit  %%writefile\n",
        "\n",
        "Automagic is ON, % prefix IS NOT needed for line magics."
       ]
      }
     ],
     "prompt_number": 31
    },
    {
     "cell_type": "code",
     "collapsed": false,
     "input": [
      "%quickref # referencia r\u00e1pida"
     ],
     "language": "python",
     "metadata": {},
     "outputs": [],
     "prompt_number": 32
    },
    {
     "cell_type": "code",
     "collapsed": false,
     "input": [
      "quickref # si %automagic est\u00e1 ON"
     ],
     "language": "python",
     "metadata": {},
     "outputs": [],
     "prompt_number": 33
    },
    {
     "cell_type": "markdown",
     "metadata": {},
     "source": [
      "OK, usemos una *magic* (**`%timeit`**) a modo de ejemplo:"
     ]
    },
    {
     "cell_type": "code",
     "collapsed": false,
     "input": [
      "%timeit?"
     ],
     "language": "python",
     "metadata": {},
     "outputs": [],
     "prompt_number": 34
    },
    {
     "cell_type": "code",
     "collapsed": false,
     "input": [
      "m = np.random.randn(100, 100) # matriz de n\u00fameros aleatorios de 100 x 100"
     ],
     "language": "python",
     "metadata": {},
     "outputs": [],
     "prompt_number": 35
    },
    {
     "cell_type": "code",
     "collapsed": false,
     "input": [
      "m"
     ],
     "language": "python",
     "metadata": {},
     "outputs": [
      {
       "metadata": {},
       "output_type": "pyout",
       "prompt_number": 36,
       "text": [
        "array([[ 0.64201774, -0.38347844, -0.7890974 , ..., -0.46518725,\n",
        "        -0.47730066,  0.59527553],\n",
        "       [-1.72622707,  0.74743633, -0.85308879, ...,  1.42442569,\n",
        "        -1.65892221, -0.16731257],\n",
        "       [-0.51145336, -2.38426458,  0.07501939, ..., -0.5910769 ,\n",
        "         0.51592869, -1.57094979],\n",
        "       ..., \n",
        "       [-0.73568139,  1.45216464,  0.06415584, ..., -1.76705521,\n",
        "        -0.60617697, -2.12174131],\n",
        "       [ 1.72783127,  0.94125702, -0.72083119, ...,  1.295081  ,\n",
        "        -0.3173796 , -0.32551457],\n",
        "       [ 0.61688356, -2.44552169,  1.78567795, ...,  1.06696316,\n",
        "        -0.60935242, -0.26821413]])"
       ]
      }
     ],
     "prompt_number": 36
    },
    {
     "cell_type": "code",
     "collapsed": false,
     "input": [
      "%timeit np.dot(m, m) # multiplicaci\u00f3n vectorial de matrices"
     ],
     "language": "python",
     "metadata": {},
     "outputs": [
      {
       "output_type": "stream",
       "stream": "stdout",
       "text": [
        "1000 loops, best of 3: 1.82 ms per loop\n"
       ]
      }
     ],
     "prompt_number": 37
    },
    {
     "cell_type": "code",
     "collapsed": false,
     "input": [
      "%timeit -n 100 -r 10 np.dot(m, m) # las magics aceptan par\u00e1metros"
     ],
     "language": "python",
     "metadata": {},
     "outputs": [
      {
       "output_type": "stream",
       "stream": "stdout",
       "text": [
        "100 loops, best of 10: 1.82 ms per loop\n"
       ]
      }
     ],
     "prompt_number": 38
    },
    {
     "cell_type": "markdown",
     "metadata": {},
     "source": [
      "Algunas **`magics`** de uso frecuente que aun no hemos comentado:"
     ]
    },
    {
     "cell_type": "code",
     "collapsed": false,
     "input": [
      "%who"
     ],
     "language": "python",
     "metadata": {},
     "outputs": [
      {
       "output_type": "stream",
       "stream": "stdout",
       "text": [
        "Fa\tFacultad\tFacundo\ta\tdata\tdatetime\tlista\tm\tmi_funcion\t\n",
        "np\trandn\tresultado\tsuma\tx\ty\t\n"
       ]
      }
     ],
     "prompt_number": 39
    },
    {
     "cell_type": "code",
     "collapsed": false,
     "input": [
      "%who_ls"
     ],
     "language": "python",
     "metadata": {},
     "outputs": [
      {
       "metadata": {},
       "output_type": "pyout",
       "prompt_number": 40,
       "text": [
        "['Fa',\n",
        " 'Facultad',\n",
        " 'Facundo',\n",
        " 'a',\n",
        " 'data',\n",
        " 'datetime',\n",
        " 'lista',\n",
        " 'm',\n",
        " 'mi_funcion',\n",
        " 'np',\n",
        " 'randn',\n",
        " 'resultado',\n",
        " 'suma',\n",
        " 'x',\n",
        " 'y']"
       ]
      }
     ],
     "prompt_number": 40
    },
    {
     "cell_type": "code",
     "collapsed": false,
     "input": [
      "%whos"
     ],
     "language": "python",
     "metadata": {},
     "outputs": [
      {
       "output_type": "stream",
       "stream": "stdout",
       "text": [
        "Variable     Type                          Data/Info\n",
        "----------------------------------------------------\n",
        "Fa           int                           4\n",
        "Facultad     int                           8\n",
        "Facundo      int                           1\n",
        "a            int                           1\n",
        "data         dict                          n=7\n",
        "datetime     module                        <module 'datetime' from '<...>ime.x86_64-linux-gnu.so'>\n",
        "lista        list                          n=5\n",
        "m            ndarray                       100x100: 10000 elems, type `float64`, 80000 bytes\n",
        "mi_funcion   function                      <function mi_funcion at 0x2a9ac80>\n",
        "np           module                        <module 'numpy' from '/ho<...>ages/numpy/__init__.pyc'>\n",
        "randn        builtin_function_or_method    <built-in method randn of<...>object at 0x7fc7bda98678>\n",
        "resultado    int                           2\n",
        "suma         function                      <function suma at 0x2a9a500>\n",
        "x            int                           4\n",
        "y            int                           0\n"
       ]
      }
     ],
     "prompt_number": 41
    },
    {
     "cell_type": "code",
     "collapsed": false,
     "input": [
      "%xdel resultado\n",
      "%who"
     ],
     "language": "python",
     "metadata": {},
     "outputs": [
      {
       "output_type": "stream",
       "stream": "stdout",
       "text": [
        "Fa\tFacultad\tFacundo\ta\tdata\tdatetime\tlista\tm\tmi_funcion\t\n",
        "np\trandn\tsuma\tx\ty\t\n"
       ]
      }
     ],
     "prompt_number": 42
    },
    {
     "cell_type": "code",
     "collapsed": false,
     "input": [
      "%reset"
     ],
     "language": "python",
     "metadata": {},
     "outputs": [
      {
       "name": "stdout",
       "output_type": "stream",
       "stream": "stdout",
       "text": [
        "Once deleted, variables cannot be recovered. Proceed (y/[n])? y\n"
       ]
      }
     ],
     "prompt_number": 44
    },
    {
     "cell_type": "code",
     "collapsed": false,
     "input": [
      "m"
     ],
     "language": "python",
     "metadata": {},
     "outputs": [
      {
       "ename": "NameError",
       "evalue": "name 'm' is not defined",
       "output_type": "pyerr",
       "traceback": [
        "\u001b[1;31m---------------------------------------------------------------------------\u001b[0m\n\u001b[1;31mNameError\u001b[0m                                 Traceback (most recent call last)",
        "\u001b[1;32m<ipython-input-45-69b64623f86d>\u001b[0m in \u001b[0;36m<module>\u001b[1;34m()\u001b[0m\n\u001b[1;32m----> 1\u001b[1;33m \u001b[0mm\u001b[0m\u001b[1;33m\u001b[0m\u001b[0m\n\u001b[0m",
        "\u001b[1;31mNameError\u001b[0m: name 'm' is not defined"
       ]
      }
     ],
     "prompt_number": 45
    },
    {
     "cell_type": "markdown",
     "metadata": {},
     "source": [
      "Nota: `%paste` y `%cpaste` son `magics` con uso frecuente en la consola de IPython."
     ]
    },
    {
     "cell_type": "heading",
     "level": 3,
     "metadata": {},
     "source": [
      "2.3.7. Dos `magics` muy \u00fatiles."
     ]
    },
    {
     "cell_type": "code",
     "collapsed": false,
     "input": [
      "%qtconsole"
     ],
     "language": "python",
     "metadata": {},
     "outputs": []
    },
    {
     "cell_type": "code",
     "collapsed": false,
     "input": [
      "%matplotlib"
     ],
     "language": "python",
     "metadata": {},
     "outputs": [
      {
       "output_type": "stream",
       "stream": "stdout",
       "text": [
        "Using matplotlib backend: agg\n"
       ]
      }
     ],
     "prompt_number": 47
    },
    {
     "cell_type": "heading",
     "level": 3,
     "metadata": {},
     "source": [
      "2.4. IPython b\u00e1sico (parte 2)."
     ]
    },
    {
     "cell_type": "heading",
     "level": 3,
     "metadata": {},
     "source": [
      "2.4.1. Haciendo uso de la historia..."
     ]
    },
    {
     "cell_type": "markdown",
     "metadata": {},
     "source": [
      "`Inputs` y `Outputs`:"
     ]
    },
    {
     "cell_type": "code",
     "collapsed": false,
     "input": [
      "2**4"
     ],
     "language": "python",
     "metadata": {},
     "outputs": [
      {
       "metadata": {},
       "output_type": "pyout",
       "prompt_number": 48,
       "text": [
        "16"
       ]
      }
     ],
     "prompt_number": 48
    },
    {
     "cell_type": "code",
     "collapsed": false,
     "input": [
      "_"
     ],
     "language": "python",
     "metadata": {},
     "outputs": [
      {
       "metadata": {},
       "output_type": "pyout",
       "prompt_number": 49,
       "text": [
        "16"
       ]
      }
     ],
     "prompt_number": 49
    },
    {
     "cell_type": "code",
     "collapsed": false,
     "input": [
      "foo = \"bar\"\n",
      "foo"
     ],
     "language": "python",
     "metadata": {},
     "outputs": [
      {
       "metadata": {},
       "output_type": "pyout",
       "prompt_number": 50,
       "text": [
        "'bar'"
       ]
      }
     ],
     "prompt_number": 50
    },
    {
     "cell_type": "code",
     "collapsed": false,
     "input": [
      "_i50"
     ],
     "language": "python",
     "metadata": {},
     "outputs": [
      {
       "metadata": {},
       "output_type": "pyout",
       "prompt_number": 51,
       "text": [
        "u'foo = \"bar\"\\nfoo'"
       ]
      }
     ],
     "prompt_number": 51
    },
    {
     "cell_type": "code",
     "collapsed": false,
     "input": [
      "_50"
     ],
     "language": "python",
     "metadata": {},
     "outputs": [
      {
       "metadata": {},
       "output_type": "pyout",
       "prompt_number": 52,
       "text": [
        "'bar'"
       ]
      }
     ],
     "prompt_number": 52
    },
    {
     "cell_type": "code",
     "collapsed": false,
     "input": [
      "foo = \"baz\"\n",
      "foo"
     ],
     "language": "python",
     "metadata": {},
     "outputs": [
      {
       "metadata": {},
       "output_type": "pyout",
       "prompt_number": 53,
       "text": [
        "'baz'"
       ]
      }
     ],
     "prompt_number": 53
    },
    {
     "cell_type": "code",
     "collapsed": false,
     "input": [
      "exec _i50"
     ],
     "language": "python",
     "metadata": {},
     "outputs": [],
     "prompt_number": 54
    },
    {
     "cell_type": "code",
     "collapsed": false,
     "input": [
      "foo"
     ],
     "language": "python",
     "metadata": {},
     "outputs": [
      {
       "metadata": {},
       "output_type": "pyout",
       "prompt_number": 55,
       "text": [
        "'bar'"
       ]
      }
     ],
     "prompt_number": 55
    },
    {
     "cell_type": "markdown",
     "metadata": {},
     "source": [
      "Note: Logging `magics` (`%logstart`, `%logstate`, `%logstop`, `%logon` y `%logoff`) son \u00fatiles en la consola de IPython."
     ]
    },
    {
     "cell_type": "heading",
     "level": 3,
     "metadata": {},
     "source": [
      "2.4.2. Interacci\u00f3n con el OS."
     ]
    },
    {
     "cell_type": "markdown",
     "metadata": {},
     "source": [
      "Usamos el signo de exclamaci\u00f3n (**`!`**) para enviar el comando a la consola del sistema:"
     ]
    },
    {
     "cell_type": "code",
     "collapsed": false,
     "input": [
      "!pwd "
     ],
     "language": "python",
     "metadata": {},
     "outputs": [
      {
       "output_type": "stream",
       "stream": "stdout",
       "text": [
        "/media/datos/Presentacion/SciPyConAr_Python_Cientifico\r\n"
       ]
      }
     ],
     "prompt_number": 56
    },
    {
     "cell_type": "markdown",
     "metadata": {},
     "source": [
      "Incluso podemos capturar el output en una variable (en forma de una lista)"
     ]
    },
    {
     "cell_type": "code",
     "collapsed": false,
     "input": [
      "mes = !cal"
     ],
     "language": "python",
     "metadata": {},
     "outputs": [],
     "prompt_number": 57
    },
    {
     "cell_type": "code",
     "collapsed": false,
     "input": [
      "este_mes = mes[0]\n",
      "este_mes"
     ],
     "language": "python",
     "metadata": {},
     "outputs": [
      {
       "metadata": {},
       "output_type": "pyout",
       "prompt_number": 58,
       "text": [
        "'  Septiembre 2013     '"
       ]
      }
     ],
     "prompt_number": 58
    },
    {
     "cell_type": "markdown",
     "metadata": {},
     "source": [
      "Pueden utilizarse variables definidas en el espacio de nombres actual, precedi\u00e9ndolas con el signo **`$`**:"
     ]
    },
    {
     "cell_type": "code",
     "collapsed": false,
     "input": [
      "ipy_notebooks = '*.ipynb'"
     ],
     "language": "python",
     "metadata": {},
     "outputs": [],
     "prompt_number": 59
    },
    {
     "cell_type": "code",
     "collapsed": false,
     "input": [
      "!ls"
     ],
     "language": "python",
     "metadata": {},
     "outputs": [
      {
       "output_type": "stream",
       "stream": "stdout",
       "text": [
        "1_Python_Cientifico_Intro.ipynb  SciPyConAr_IPython.ipynb\r\n",
        "6_Herramientas_avanzadas.ipynb\t SciPyConAr_Matplotlib.ipynb\r\n",
        "images\t\t\t\t SciPyConAr_NumPy.ipynb\r\n",
        "PairsTrading_0.1_Damian.ipynb\t SciPyConAr_SciPy.ipynb\r\n",
        "PairsTrading_0.1_etf.ipynb\t scripts\r\n",
        "random-matrix.csv\t\t stockholm_td_adj.dat\r\n",
        "random-matrix.npy\t\t temporal\r\n",
        "README.md\r\n"
       ]
      }
     ],
     "prompt_number": 60
    },
    {
     "cell_type": "code",
     "collapsed": false,
     "input": [
      "!ls $ipy_notebooks"
     ],
     "language": "python",
     "metadata": {},
     "outputs": [
      {
       "output_type": "stream",
       "stream": "stdout",
       "text": [
        "1_Python_Cientifico_Intro.ipynb  SciPyConAr_IPython.ipynb\r\n",
        "6_Herramientas_avanzadas.ipynb\t SciPyConAr_Matplotlib.ipynb\r\n",
        "PairsTrading_0.1_Damian.ipynb\t SciPyConAr_NumPy.ipynb\r\n",
        "PairsTrading_0.1_etf.ipynb\t SciPyConAr_SciPy.ipynb\r\n"
       ]
      }
     ],
     "prompt_number": 61
    },
    {
     "cell_type": "markdown",
     "metadata": {},
     "source": [
      "Asimismo puedo establecer \"apodos\" o **`%alias`** de la siguiente forma:"
     ]
    },
    {
     "cell_type": "code",
     "collapsed": false,
     "input": [
      "%alias ld ls -l"
     ],
     "language": "python",
     "metadata": {},
     "outputs": [],
     "prompt_number": 62
    },
    {
     "cell_type": "code",
     "collapsed": false,
     "input": [
      "ld"
     ],
     "language": "python",
     "metadata": {},
     "outputs": [
      {
       "output_type": "stream",
       "stream": "stdout",
       "text": [
        "total 7772\r\n",
        "-rw-rw-r-- 1 damian damian   22666 sep 20 13:00 1_Python_Cientifico_Intro.ipynb\r\n",
        "-rw-rw-r-- 1 damian damian  682829 sep 20 12:43 6_Herramientas_avanzadas.ipynb\r\n",
        "drwxrwxr-x 2 damian damian    4096 sep 19 15:20 \u001b[0m\u001b[01;34mimages\u001b[0m/\r\n",
        "-rw-rw-r-- 1 damian damian  931205 sep 20 01:42 PairsTrading_0.1_Damian.ipynb\r\n",
        "-rw-rw-r-- 1 damian damian  668205 sep 19 17:41 PairsTrading_0.1_etf.ipynb\r\n",
        "-rw-rw-r-- 1 damian damian      72 sep 20 11:44 random-matrix.csv\r\n",
        "-rw-rw-r-- 1 damian damian     152 sep 20 11:44 random-matrix.npy\r\n",
        "-rw-rw-r-- 1 damian damian     782 sep 19 15:20 README.md\r\n",
        "-rw-rw-r-- 1 damian damian   43277 sep 20 13:07 SciPyConAr_IPython.ipynb\r\n",
        "-rw-rw-r-- 1 damian damian 1516905 sep 20 12:01 SciPyConAr_Matplotlib.ipynb\r\n",
        "-rw-rw-r-- 1 damian damian   66539 sep 20 12:03 SciPyConAr_NumPy.ipynb\r\n",
        "-rw-rw-r-- 1 damian damian 1107362 sep 20 12:23 SciPyConAr_SciPy.ipynb\r\n",
        "drwxrwxr-x 2 damian damian    4096 sep 19 15:20 \u001b[01;34mscripts\u001b[0m/\r\n",
        "-rw-rw-r-- 1 damian damian 2864946 sep 19 15:20 stockholm_td_adj.dat\r\n",
        "drwxrwxr-x 2 damian damian    4096 sep 20 13:05 \u001b[01;34mtemporal\u001b[0m/\r\n"
       ]
      }
     ],
     "prompt_number": 63
    },
    {
     "cell_type": "markdown",
     "metadata": {},
     "source": [
      "El **`%alias`** puede incluso contener varios comandos separados por (**`;`**):"
     ]
    },
    {
     "cell_type": "code",
     "collapsed": false,
     "input": [
      "%alias l_datos (cd /media/datos; ls)"
     ],
     "language": "python",
     "metadata": {},
     "outputs": [],
     "prompt_number": 64
    },
    {
     "cell_type": "code",
     "collapsed": false,
     "input": [
      "l_datos"
     ],
     "language": "python",
     "metadata": {},
     "outputs": [
      {
       "output_type": "stream",
       "stream": "stdout",
       "text": [
        "Desarrollos  Documentos  Im\u00e1genes    M\u00fasica\t   Programas  virtualenvs\r\n",
        "Descargas    Ejemplos\t lost+found  Presentacion  V\u00eddeos\r\n"
       ]
      }
     ],
     "prompt_number": 65
    },
    {
     "cell_type": "markdown",
     "metadata": {},
     "source": [
      "Puedo usar marcadores para directorios de uso recurrente:"
     ]
    },
    {
     "cell_type": "code",
     "collapsed": false,
     "input": [
      "%bookmark datos /media/datos"
     ],
     "language": "python",
     "metadata": {},
     "outputs": [],
     "prompt_number": 66
    },
    {
     "cell_type": "code",
     "collapsed": false,
     "input": [
      "%cd datos"
     ],
     "language": "python",
     "metadata": {},
     "outputs": [
      {
       "output_type": "stream",
       "stream": "stdout",
       "text": [
        "(bookmark:datos) -> /media/datos\n",
        "/media/datos\n"
       ]
      }
     ],
     "prompt_number": 67
    },
    {
     "cell_type": "code",
     "collapsed": false,
     "input": [
      "!ls"
     ],
     "language": "python",
     "metadata": {},
     "outputs": [
      {
       "output_type": "stream",
       "stream": "stdout",
       "text": [
        "Desarrollos  Documentos  Im\u00e1genes    M\u00fasica\t   Programas  virtualenvs\r\n",
        "Descargas    Ejemplos\t lost+found  Presentacion  V\u00eddeos\r\n"
       ]
      }
     ],
     "prompt_number": 68
    },
    {
     "cell_type": "heading",
     "level": 3,
     "metadata": {},
     "source": [
      "2.4.3. Debugging. "
     ]
    },
    {
     "cell_type": "markdown",
     "metadata": {},
     "source": [
      "* `%debug` (post-mortem debugger, lo inicializ\u00e1s despu\u00e9s de la aparici\u00f3n de una excepci\u00f3n).\n",
      "* `%pdb` (inicializa el debugger despu\u00e9s de cada excepci\u00f3n)."
     ]
    },
    {
     "cell_type": "heading",
     "level": 3,
     "metadata": {},
     "source": [
      "2.4.4. Profiling."
     ]
    },
    {
     "cell_type": "markdown",
     "metadata": {},
     "source": [
      "* `%prun` o `%run -p` (profiling en general).\n",
      "* `%lprun` (profiling por linea, necesita de line-profiler)."
     ]
    },
    {
     "cell_type": "heading",
     "level": 3,
     "metadata": {},
     "source": [
      "2.4.5. Configuraci\u00f3n."
     ]
    },
    {
     "cell_type": "markdown",
     "metadata": {},
     "source": [
      "* Intro:\n",
      "    * http://ipython.org/ipython-doc/dev/config/overview.html\n",
      "* Perfiles:\n",
      "    * http://ipython.org/ipython-doc/dev/config/overview.html#profiles\n",
      "* Extensiones:\n",
      "    * http://ipython.org/ipython-doc/dev/config/extensions/index.\n",
      "    * https://github.com/ipython/ipython/wiki/Extensions-Index"
     ]
    }
   ],
   "metadata": {}
  }
 ]
}