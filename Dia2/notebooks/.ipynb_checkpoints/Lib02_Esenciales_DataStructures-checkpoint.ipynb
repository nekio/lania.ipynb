{
 "metadata": {
  "name": "",
  "signature": "sha256:2c45f8bb682e3e81ceae1b7f2754ace8d2ea05903f8474d45aca8d54ad394668"
 },
 "nbformat": 3,
 "nbformat_minor": 0,
 "worksheets": [
  {
   "cells": [
    {
     "cell_type": "code",
     "collapsed": false,
     "input": [
      "%run ../talktools.py"
     ],
     "language": "python",
     "metadata": {},
     "outputs": [
      {
       "html": [
        "<link href='http://fonts.googleapis.com/css?family=Alegreya+Sans:100,300,400,500,700,800,900,100italic,300italic,400italic,500italic,700italic,800italic,900italic' rel='stylesheet' type='text/css'>\n",
        "<link href='http://fonts.googleapis.com/css?family=Arvo:400,700,400italic' rel='stylesheet' type='text/css'>\n",
        "<link href='http://fonts.googleapis.com/css?family=PT+Mono' rel='stylesheet' type='text/css'>\n",
        "<link href='http://fonts.googleapis.com/css?family=Shadows+Into+Light' rel='stylesheet' type='text/css'>\n",
        "<link href='http://fonts.googleapis.com/css?family=Nixie+One' rel='stylesheet' type='text/css'>\n",
        "<style>\n",
        "\n",
        "@font-face {\n",
        "    font-family: \"Computer Modern\";\n",
        "    src: url('http://mirrors.ctan.org/fonts/cm-unicode/fonts/otf/cmunss.otf');\n",
        "}\n",
        "\n",
        "#notebook_panel { /* main background */\n",
        "    background: rgb(245,245,245);\n",
        "}\n",
        "\n",
        "div.cell { /* set cell width */\n",
        "    width: 750px;\n",
        "}\n",
        "\n",
        "div #notebook { /* centre the content */\n",
        "    background: #fff; /* white background for content */\n",
        "    width: 1000px;\n",
        "    margin: auto;\n",
        "    padding-left: 0em;\n",
        "}\n",
        "\n",
        "#notebook li { /* More space between bullet points */\n",
        "margin-top:0.8em;\n",
        "}\n",
        "\n",
        "/* draw border around running cells */\n",
        "div.cell.border-box-sizing.code_cell.running { \n",
        "    border: 1px solid #111;\n",
        "}\n",
        "\n",
        "/* Put a solid color box around each cell and its output, visually linking them*/\n",
        "div.cell.code_cell {\n",
        "    background-color: rgb(256,256,256); \n",
        "    border-radius: 0px; \n",
        "    padding: 0.5em;\n",
        "    margin-left:1em;\n",
        "    margin-top: 1em;\n",
        "}\n",
        "\n",
        "div.text_cell_render{\n",
        "    font-family: 'Alegreya Sans' sans-serif;\n",
        "    line-height: 140%;\n",
        "    font-size: 125%;\n",
        "    font-weight: 400;\n",
        "    width:600px;\n",
        "    margin-left:auto;\n",
        "    margin-right:auto;\n",
        "}\n",
        "\n",
        "\n",
        "/* Formatting for header cells */\n",
        ".text_cell_render h1 {\n",
        "    font-family: 'Nixie One', serif;\n",
        "    font-style:regular;\n",
        "    font-weight: 400;    \n",
        "    font-size: 45pt;\n",
        "    line-height: 100%;\n",
        "    color: rgb(0,51,102);\n",
        "    margin-bottom: 0.5em;\n",
        "    margin-top: 0.5em;\n",
        "    display: block;\n",
        "}\t\n",
        ".text_cell_render h2 {\n",
        "    font-family: 'Nixie One', serif;\n",
        "    font-weight: 400;\n",
        "    font-size: 30pt;\n",
        "    line-height: 100%;\n",
        "    color: rgb(0,51,102);\n",
        "    margin-bottom: 0.1em;\n",
        "    margin-top: 0.3em;\n",
        "    display: block;\n",
        "}\t\n",
        "\n",
        ".text_cell_render h3 {\n",
        "    font-family: 'Nixie One', serif;\n",
        "    margin-top:16px;\n",
        "\tfont-size: 22pt;\n",
        "    font-weight: 600;\n",
        "    margin-bottom: 3px;\n",
        "    font-style: regular;\n",
        "    color: rgb(102,102,0);\n",
        "}\n",
        "\n",
        ".text_cell_render h4 {    /*Use this for captions*/\n",
        "    font-family: 'Nixie One', serif;\n",
        "    font-size: 14pt;\n",
        "    text-align: center;\n",
        "    margin-top: 0em;\n",
        "    margin-bottom: 2em;\n",
        "    font-style: regular;\n",
        "}\n",
        "\n",
        ".text_cell_render h5 {  /*Use this for small titles*/\n",
        "    font-family: 'Nixie One', sans-serif;\n",
        "    font-weight: 400;\n",
        "    font-size: 16pt;\n",
        "    color: rgb(163,0,0);\n",
        "    font-style: italic;\n",
        "    margin-bottom: .1em;\n",
        "    margin-top: 0.8em;\n",
        "    display: block;\n",
        "}\n",
        "\n",
        ".text_cell_render h6 { /*use this for copyright note*/\n",
        "    font-family: 'PT Mono', sans-serif;\n",
        "    font-weight: 300;\n",
        "    font-size: 9pt;\n",
        "    line-height: 100%;\n",
        "    color: grey;\n",
        "    margin-bottom: 1px;\n",
        "    margin-top: 1px;\n",
        "}\n",
        "\n",
        ".CodeMirror{\n",
        "        font-family: \"PT Mono\";\n",
        "        font-size: 90%;\n",
        "}\n",
        "\n",
        "</style>\n",
        "<script>\n",
        "    MathJax.Hub.Config({\n",
        "                        TeX: {\n",
        "                           extensions: [\"AMSmath.js\"],\n",
        "                           equationNumbers: { autoNumber: \"AMS\", useLabelIds: true}\n",
        "                           },\n",
        "                tex2jax: {\n",
        "                    inlineMath: [ ['$','$'], [\"\\\\(\",\"\\\\)\"] ],\n",
        "                    displayMath: [ ['$$','$$'], [\"\\\\[\",\"\\\\]\"] ]\n",
        "                },\n",
        "                displayAlign: 'center', // Change this to 'center' to center equations.\n",
        "                \"HTML-CSS\": {\n",
        "                    styles: {'.MathJax_Display': {\"margin\": 4}}\n",
        "                }\n",
        "        });\n",
        "</script>"
       ],
       "metadata": {},
       "output_type": "display_data",
       "text": [
        "<IPython.core.display.HTML at 0xbfba1d0>"
       ]
      }
     ],
     "prompt_number": 1
    },
    {
     "cell_type": "markdown",
     "metadata": {},
     "source": [
      "Esenciales de Python 2\n",
      "=====\n",
      "\n",
      "Cuando trabajamos con datos, necesitamos una manera de guardarlos en variables de manera que podamos manipularlos. Usaremos dos nuevos tipos de estructuras que quizas no conozcan:  **listas** y **diccionarios**.\n",
      "\n",
      "En este modulo veremos las **listas**"
     ]
    },
    {
     "cell_type": "markdown",
     "metadata": {},
     "source": [
      "## Entendiendo las estructuras de datos\n",
      "\n",
      "Tres de los tipos de datos mas comunes usados en programacion son: numeros, cadenas (de caracteres) y booleanos. En Python estos tipos de datos se asignan a variables uno por uno, como en:\n",
      "\n",
      "    x = 3          # numeros\n",
      "    a = \"gorilas\"  # cadenas\n",
      "    t = True       # booleanos\n",
      "\n",
      "Pero que pasa si necesitamos algo mas complicado, como una lista del supermercado. Asignando una variable para cada elemento de la lista podria hacer que las cosas fueran complicandose rapidamente:\n",
      "\n",
      "    item_1 = \"leche\"\n",
      "    item_2 = \"queso\"\n",
      "    item_3 = \"pan\""
     ]
    },
    {
     "cell_type": "markdown",
     "metadata": {},
     "source": [
      "### Listas\n",
      "\n",
      "Python proporciona un manera de evitar este tipo de cosas. En lugar de esto, existe el tipo de datos 'lista', ``list``. Una lista vacia, sin elementos, es simplemente ``[]``:\n",
      "\n",
      "    lista_del_super = []\n",
      "\n",
      "Si estan en el interprete de Python, pueden ver que hay dentro de una lista escribiendo el nombre de la lista. Por ejemplo:\n",
      "\n",
      "    >>> lista_del_super\n",
      "    []"
     ]
    },
    {
     "cell_type": "markdown",
     "metadata": {},
     "source": [
      "El interprete muestra que la lista esta vacia.\n",
      "\n",
      "Para agregar elementos a la ``lista_del_super``, usamos los siguientes comandos:\n",
      "\n",
      "    lista_del_super.append(\"leche\")\n",
      "    lista_del_super.append(\"queso\")\n",
      "    lista_del_super.append(\"pan\")"
     ]
    },
    {
     "cell_type": "markdown",
     "metadata": {},
     "source": [
      "Que hay ahora en la `lista_del_super`?\n",
      "Que ocurre si agregamos numeros o booleanos a la lista?"
     ]
    },
    {
     "cell_type": "markdown",
     "metadata": {},
     "source": [
      "Tambien podemos asignar una lista con algunos elementos en una sola linea, por ejemplo:\n",
      "\n",
      "    lista_del_super = [ \"leche\", \"queso\", \"pan\" ]"
     ]
    },
    {
     "cell_type": "markdown",
     "metadata": {},
     "source": [
      "Para remover un elemento de lista, usamos ``remove()``:\n",
      "\n",
      "    lista_del_super.remove(\"leche\")"
     ]
    },
    {
     "cell_type": "markdown",
     "metadata": {},
     "source": [
      "Las listas pueden usarse y procesarse facilmente dentro de un loop usando `for`. Vean el siguiente ejemplo el cual imprime cada elemento de la lista en un renglon nuevo:\n",
      "\n",
      "    for item in lista_del_super:\n",
      "        print(item)"
     ]
    },
    {
     "cell_type": "markdown",
     "metadata": {},
     "source": [
      "Eso es todo! En Python es muy facil checar si algo esta o no en una lista:\n",
      "\n",
      "    if \"leche\" in lista_del_super:\n",
      "        print(\"Mmmh! Que rico.\")\n",
      "\n",
      "    if \"huevos\" not in lista_del_super:\n",
      "        print(\"No podemos tener eso!\")\n",
      "        shopping_list.append(\"huevos\")"
     ]
    },
    {
     "cell_type": "markdown",
     "metadata": {},
     "source": [
      "Las listas son las estructuras de datos mas comunes en programacion. Existen muchas otras cosas que pueden hacerse con ellas, y todos los lenguajes tienen ligeras diferencias en su interpretacion, pero fundamentalmente son todas similares.\n",
      "\n",
      "En resumen:\n",
      "\n",
      "    lista_del_super = []\n",
      "    lista_del_super.append(\"galletas\")\n",
      "    lista_del_super.remove(\"galletas\")"
     ]
    },
    {
     "cell_type": "markdown",
     "metadata": {},
     "source": [
      "## Ejercicios\n",
      "1. Ejecuten todas las celdas de esta libreta\n",
      "\n",
      "2. Crear una lista de al menos tres nombres de plantas.\n",
      "3. Agregar una nueva planta a su lista.\n",
      "4. Checar si la planta \"encinos\" esta en su lista, si no esta, incluyanla."
     ]
    },
    {
     "cell_type": "markdown",
     "metadata": {},
     "source": [
      "## Modulo siguiente\n",
      "Antes de pasar al siguiente modulo, guarden los cambios realizados.\n",
      "\n",
      "El siguiente modulo presenta el [otro tipo de estructuras comun en Python, diccionarios.](Lib03_Esenciales_DataStructures.ipynb)"
     ]
    }
   ],
   "metadata": {}
  }
 ]
}