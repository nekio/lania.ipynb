{
 "metadata": {
  "name": "",
  "signature": "sha256:1a505c35e455968a2394edd34f666845c7f3482b84135a4e5231090241f342ab"
 },
 "nbformat": 3,
 "nbformat_minor": 0,
 "worksheets": [
  {
   "cells": [
    {
     "cell_type": "code",
     "collapsed": false,
     "input": [
      "%run ../talktools.py"
     ],
     "language": "python",
     "metadata": {},
     "outputs": [
      {
       "html": [
        "<link href='http://fonts.googleapis.com/css?family=Alegreya+Sans:100,300,400,500,700,800,900,100italic,300italic,400italic,500italic,700italic,800italic,900italic' rel='stylesheet' type='text/css'>\n",
        "<link href='http://fonts.googleapis.com/css?family=Arvo:400,700,400italic' rel='stylesheet' type='text/css'>\n",
        "<link href='http://fonts.googleapis.com/css?family=PT+Mono' rel='stylesheet' type='text/css'>\n",
        "<link href='http://fonts.googleapis.com/css?family=Shadows+Into+Light' rel='stylesheet' type='text/css'>\n",
        "<link href='http://fonts.googleapis.com/css?family=Nixie+One' rel='stylesheet' type='text/css'>\n",
        "<style>\n",
        "\n",
        "@font-face {\n",
        "    font-family: \"Computer Modern\";\n",
        "    src: url('http://mirrors.ctan.org/fonts/cm-unicode/fonts/otf/cmunss.otf');\n",
        "}\n",
        "\n",
        "#notebook_panel { /* main background */\n",
        "    background: rgb(245,245,245);\n",
        "}\n",
        "\n",
        "div.cell { /* set cell width */\n",
        "    width: 750px;\n",
        "}\n",
        "\n",
        "div #notebook { /* centre the content */\n",
        "    background: #fff; /* white background for content */\n",
        "    width: 1000px;\n",
        "    margin: auto;\n",
        "    padding-left: 0em;\n",
        "}\n",
        "\n",
        "#notebook li { /* More space between bullet points */\n",
        "margin-top:0.8em;\n",
        "}\n",
        "\n",
        "/* draw border around running cells */\n",
        "div.cell.border-box-sizing.code_cell.running { \n",
        "    border: 1px solid #111;\n",
        "}\n",
        "\n",
        "/* Put a solid color box around each cell and its output, visually linking them*/\n",
        "div.cell.code_cell {\n",
        "    background-color: rgb(256,256,256); \n",
        "    border-radius: 0px; \n",
        "    padding: 0.5em;\n",
        "    margin-left:1em;\n",
        "    margin-top: 1em;\n",
        "}\n",
        "\n",
        "div.text_cell_render{\n",
        "    font-family: 'Alegreya Sans' sans-serif;\n",
        "    line-height: 140%;\n",
        "    font-size: 125%;\n",
        "    font-weight: 400;\n",
        "    width:600px;\n",
        "    margin-left:auto;\n",
        "    margin-right:auto;\n",
        "}\n",
        "\n",
        "\n",
        "/* Formatting for header cells */\n",
        ".text_cell_render h1 {\n",
        "    font-family: 'Nixie One', serif;\n",
        "    font-style:regular;\n",
        "    font-weight: 400;    \n",
        "    font-size: 45pt;\n",
        "    line-height: 100%;\n",
        "    color: rgb(0,51,102);\n",
        "    margin-bottom: 0.5em;\n",
        "    margin-top: 0.5em;\n",
        "    display: block;\n",
        "}\t\n",
        ".text_cell_render h2 {\n",
        "    font-family: 'Nixie One', serif;\n",
        "    font-weight: 400;\n",
        "    font-size: 30pt;\n",
        "    line-height: 100%;\n",
        "    color: rgb(0,51,102);\n",
        "    margin-bottom: 0.1em;\n",
        "    margin-top: 0.3em;\n",
        "    display: block;\n",
        "}\t\n",
        "\n",
        ".text_cell_render h3 {\n",
        "    font-family: 'Nixie One', serif;\n",
        "    margin-top:16px;\n",
        "\tfont-size: 22pt;\n",
        "    font-weight: 600;\n",
        "    margin-bottom: 3px;\n",
        "    font-style: regular;\n",
        "    color: rgb(102,102,0);\n",
        "}\n",
        "\n",
        ".text_cell_render h4 {    /*Use this for captions*/\n",
        "    font-family: 'Nixie One', serif;\n",
        "    font-size: 14pt;\n",
        "    text-align: center;\n",
        "    margin-top: 0em;\n",
        "    margin-bottom: 2em;\n",
        "    font-style: regular;\n",
        "}\n",
        "\n",
        ".text_cell_render h5 {  /*Use this for small titles*/\n",
        "    font-family: 'Nixie One', sans-serif;\n",
        "    font-weight: 400;\n",
        "    font-size: 16pt;\n",
        "    color: rgb(163,0,0);\n",
        "    font-style: italic;\n",
        "    margin-bottom: .1em;\n",
        "    margin-top: 0.8em;\n",
        "    display: block;\n",
        "}\n",
        "\n",
        ".text_cell_render h6 { /*use this for copyright note*/\n",
        "    font-family: 'PT Mono', sans-serif;\n",
        "    font-weight: 300;\n",
        "    font-size: 9pt;\n",
        "    line-height: 100%;\n",
        "    color: grey;\n",
        "    margin-bottom: 1px;\n",
        "    margin-top: 1px;\n",
        "}\n",
        "\n",
        ".CodeMirror{\n",
        "        font-family: \"PT Mono\";\n",
        "        font-size: 90%;\n",
        "}\n",
        "\n",
        "</style>\n",
        "<script>\n",
        "    MathJax.Hub.Config({\n",
        "                        TeX: {\n",
        "                           extensions: [\"AMSmath.js\"],\n",
        "                           equationNumbers: { autoNumber: \"AMS\", useLabelIds: true}\n",
        "                           },\n",
        "                tex2jax: {\n",
        "                    inlineMath: [ ['$','$'], [\"\\\\(\",\"\\\\)\"] ],\n",
        "                    displayMath: [ ['$$','$$'], [\"\\\\[\",\"\\\\]\"] ]\n",
        "                },\n",
        "                displayAlign: 'center', // Change this to 'center' to center equations.\n",
        "                \"HTML-CSS\": {\n",
        "                    styles: {'.MathJax_Display': {\"margin\": 4}}\n",
        "                }\n",
        "        });\n",
        "</script>"
       ],
       "metadata": {},
       "output_type": "display_data",
       "text": [
        "<IPython.core.display.HTML at 0x3c34da0>"
       ]
      }
     ],
     "prompt_number": 3
    },
    {
     "cell_type": "heading",
     "level": 1,
     "metadata": {},
     "source": [
      "Ejercicios 2"
     ]
    },
    {
     "cell_type": "markdown",
     "metadata": {},
     "source": [
      "## Cadenas\n",
      "Contar el n\u00famero de caracteres (ncluyendo espacios) en un texto:"
     ]
    },
    {
     "cell_type": "code",
     "collapsed": false,
     "input": [
      "# funcion de longitud de cadena\n",
      "len('No le creas nada a mi mente dise\u00f1ada por los medios')"
     ],
     "language": "python",
     "metadata": {},
     "outputs": [
      {
       "metadata": {},
       "output_type": "pyout",
       "prompt_number": 4,
       "text": [
        "52"
       ]
      }
     ],
     "prompt_number": 4
    },
    {
     "cell_type": "markdown",
     "metadata": {},
     "source": [
      "Remueve espacios en blanco rodeando la cadena:"
     ]
    },
    {
     "cell_type": "code",
     "collapsed": false,
     "input": [
      "'   No le creas nada a mi mente   '.strip()"
     ],
     "language": "python",
     "metadata": {},
     "outputs": [
      {
       "metadata": {},
       "output_type": "pyout",
       "prompt_number": 5,
       "text": [
        "'No le creas nada a mi mente'"
       ]
      }
     ],
     "prompt_number": 5
    },
    {
     "cell_type": "markdown",
     "metadata": {},
     "source": [
      "Reemplaza caracteres:"
     ]
    },
    {
     "cell_type": "code",
     "collapsed": false,
     "input": [
      "# reemplazar \"nada\" por \"mucho\"\n",
      "'No le creas nada a mi mente dise\u00f1ada por los medios'.replace('nada','mucho')"
     ],
     "language": "python",
     "metadata": {},
     "outputs": [
      {
       "metadata": {},
       "output_type": "pyout",
       "prompt_number": 6,
       "text": [
        "'No le creas mucho a mi mente dise\\xc3\\xb1ada por los medios'"
       ]
      }
     ],
     "prompt_number": 6
    },
    {
     "cell_type": "markdown",
     "metadata": {},
     "source": [
      "Usando formato en la cadena de texto:"
     ]
    },
    {
     "cell_type": "code",
     "collapsed": false,
     "input": [
      "'Hay %s que se cierran pero se destacan' % 'ciatrices'"
     ],
     "language": "python",
     "metadata": {},
     "outputs": [
      {
       "metadata": {},
       "output_type": "pyout",
       "prompt_number": 6,
       "text": [
        "'Hay ciatrices que se cierran pero se destacan'"
       ]
      }
     ],
     "prompt_number": 6
    },
    {
     "cell_type": "markdown",
     "metadata": {},
     "source": [
      "Probando caracteres:"
     ]
    },
    {
     "cell_type": "code",
     "collapsed": false,
     "input": [
      "# comprobar si la cadena comienza con \"H\"\n",
      "'Hay demasiadas formas de morir.'.startswith('H')"
     ],
     "language": "python",
     "metadata": {},
     "outputs": [
      {
       "metadata": {},
       "output_type": "pyout",
       "prompt_number": 7,
       "text": [
        "True"
       ]
      }
     ],
     "prompt_number": 7
    },
    {
     "cell_type": "markdown",
     "metadata": {},
     "source": [
      "Contando ocurrencias de caracteres:"
     ]
    },
    {
     "cell_type": "code",
     "collapsed": false,
     "input": [
      "# Contar las coincidencias del texto \"en\" dentro de la cadena\n",
      "'para terminar ba\u00f1\u00e1ndonos en la azotea '.count('en')"
     ],
     "language": "python",
     "metadata": {},
     "outputs": [
      {
       "metadata": {},
       "output_type": "pyout",
       "prompt_number": 8,
       "text": [
        "1"
       ]
      }
     ],
     "prompt_number": 8
    },
    {
     "cell_type": "markdown",
     "metadata": {},
     "source": [
      "##Listas\n",
      "Podemos unir una lista y formar una cadena de texto:"
     ]
    },
    {
     "cell_type": "code",
     "collapsed": false,
     "input": [
      "# agregar un contenido a todos los elementos de una lista (excepto el ultimo)\n",
      "' ;) '.join([\n",
      "    'Texto 1',\n",
      "    'Bienvenidos al curso de RySi 2014', \n",
      "    'Texto 2',\n",
      "    'Texto 3',\n",
      "    'donde aprenderan a usar un poco de Python',\n",
      "    'Texto 4',\n",
      "])"
     ],
     "language": "python",
     "metadata": {},
     "outputs": [
      {
       "metadata": {},
       "output_type": "pyout",
       "prompt_number": 18,
       "text": [
        "'Texto 1 ;) Bienvenidos al curso de RySi 2014 ;) Texto 2 ;) Texto 3 ;) donde aprenderan a usar un poco de Python ;) Texto 4'"
       ]
      }
     ],
     "prompt_number": 18
    },
    {
     "cell_type": "markdown",
     "metadata": {},
     "source": [
      "Separar una cadena en una lista:"
     ]
    },
    {
     "cell_type": "code",
     "collapsed": false,
     "input": [
      "# separar por comas una cadena\n",
      "'las piernas cruzadas, las manos en el regazo'.split(', ')"
     ],
     "language": "python",
     "metadata": {},
     "outputs": [
      {
       "metadata": {},
       "output_type": "pyout",
       "prompt_number": 19,
       "text": [
        "['las piernas cruzadas', 'las manos en el regazo']"
       ]
      }
     ],
     "prompt_number": 19
    },
    {
     "cell_type": "markdown",
     "metadata": {},
     "source": [
      "Hacer una lista a partir de otra lista:"
     ]
    },
    {
     "cell_type": "code",
     "collapsed": false,
     "input": [
      "# separar por comas una cadena\n",
      "palabras = 'No soy en ello diferente a la mayor parte de los seres humanos'.split()\n",
      "\n",
      "# A cada elemento agregarle a sus extremos un asterisco (*)\n",
      "['*%s*' % x for x in palabras]"
     ],
     "language": "python",
     "metadata": {},
     "outputs": [
      {
       "metadata": {},
       "output_type": "pyout",
       "prompt_number": 21,
       "text": [
        "['*No*',\n",
        " '*soy*',\n",
        " '*en*',\n",
        " '*ello*',\n",
        " '*diferente*',\n",
        " '*a*',\n",
        " '*la*',\n",
        " '*mayor*',\n",
        " '*parte*',\n",
        " '*de*',\n",
        " '*los*',\n",
        " '*seres*',\n",
        " '*humanos*']"
       ]
      }
     ],
     "prompt_number": 21
    },
    {
     "cell_type": "markdown",
     "metadata": {},
     "source": [
      "### Ejercicio\n",
      "Obtengan el n\u00famero de caracteres de cada palabra en la lista anterior:"
     ]
    },
    {
     "cell_type": "code",
     "collapsed": false,
     "input": [
      "# Escribir soluci\u00f3n en \u00e9sta celda\n",
      "miLista = ['*%s*' % x for x in palabras]\n",
      "\n",
      "for elemento in miLista:\n",
      "    print str(elemento), '= %d ' % len(elemento)"
     ],
     "language": "python",
     "metadata": {},
     "outputs": [
      {
       "output_type": "stream",
       "stream": "stdout",
       "text": [
        "*No* = 4 \n",
        "*soy* = 5 \n",
        "*en* = 4 \n",
        "*ello* = 6 \n",
        "*diferente* = 11 \n",
        "*a* = 3 \n",
        "*la* = 4 \n",
        "*mayor* = 7 \n",
        "*parte* = 7 \n",
        "*de* = 4 \n",
        "*los* = 5 \n",
        "*seres* = 7 \n",
        "*humanos* = 9 \n"
       ]
      }
     ],
     "prompt_number": 49
    },
    {
     "cell_type": "markdown",
     "metadata": {},
     "source": [
      "## Diccionarios\n",
      "Creamos un dictionario con nombres de estados de la Rep\u00fablica:"
     ]
    },
    {
     "cell_type": "code",
     "collapsed": false,
     "input": [
      "codigoPorEstado = {\n",
      "    'Aguascalientes': 'AGU', \n",
      "    'Sonora': 'SON', \n",
      "    'Oaxaca': 'OAX', \n",
      "    'Veracruz': 'VER'\n",
      "}\n",
      "\n",
      "# ver el diccionario\n",
      "codigoPorEstado"
     ],
     "language": "python",
     "metadata": {},
     "outputs": [
      {
       "metadata": {},
       "output_type": "pyout",
       "prompt_number": 51,
       "text": [
        "{'Aguascalientes': 'AGU', 'Oaxaca': 'OAX', 'Sonora': 'SON', 'Veracruz': 'VER'}"
       ]
      }
     ],
     "prompt_number": 51
    },
    {
     "cell_type": "code",
     "collapsed": false,
     "input": [
      "# ver las llaves\n",
      "codigoPorEstado.keys()"
     ],
     "language": "python",
     "metadata": {},
     "outputs": [
      {
       "metadata": {},
       "output_type": "pyout",
       "prompt_number": 52,
       "text": [
        "['Veracruz', 'Oaxaca', 'Aguascalientes', 'Sonora']"
       ]
      }
     ],
     "prompt_number": 52
    },
    {
     "cell_type": "code",
     "collapsed": false,
     "input": [
      "# agregar un nuevo elemento al diccionario\n",
      "codigoPorEstado['Jalisco'] = 'JAL'\n",
      "\n",
      "# ver como queda el diccionario\n",
      "codigoPorEstado"
     ],
     "language": "python",
     "metadata": {},
     "outputs": [
      {
       "metadata": {},
       "output_type": "pyout",
       "prompt_number": 53,
       "text": [
        "{'Aguascalientes': 'AGU',\n",
        " 'Jalisco': 'JAL',\n",
        " 'Oaxaca': 'OAX',\n",
        " 'Sonora': 'SON',\n",
        " 'Veracruz': 'VER'}"
       ]
      }
     ],
     "prompt_number": 53
    },
    {
     "cell_type": "code",
     "collapsed": false,
     "input": [
      "# ver el valor de un elemento por su llave\n",
      "codigoPorEstado['Veracruz']"
     ],
     "language": "python",
     "metadata": {},
     "outputs": [
      {
       "metadata": {},
       "output_type": "pyout",
       "prompt_number": 54,
       "text": [
        "'VER'"
       ]
      }
     ],
     "prompt_number": 54
    },
    {
     "cell_type": "markdown",
     "metadata": {},
     "source": [
      "###Ejercicio\n",
      "Hacer un diccionario de estados por codigos"
     ]
    },
    {
     "cell_type": "code",
     "collapsed": false,
     "input": [
      "# Escribir soluci\u00f3n en \u00e9sta celda\n",
      "\n",
      "# Crear un nuevo diccionaro con las llaves invertidas de los valores\n",
      "# del diccionario anterior\n",
      "estadoPorCodigo = {codigo: estado for estado, codigo in codigoPorEstado.iteritems()}\n",
      "estadoPorCodigo"
     ],
     "language": "python",
     "metadata": {},
     "outputs": [
      {
       "metadata": {},
       "output_type": "pyout",
       "prompt_number": 56,
       "text": [
        "{'AGU': 'Aguascalientes',\n",
        " 'JAL': 'Jalisco',\n",
        " 'OAX': 'Oaxaca',\n",
        " 'SON': 'Sonora',\n",
        " 'VER': 'Veracruz'}"
       ]
      }
     ],
     "prompt_number": 56
    },
    {
     "cell_type": "markdown",
     "metadata": {},
     "source": [
      "##Funciones\n",
      "\n",
      "Definimos una funci\u00f3n"
     ]
    },
    {
     "cell_type": "code",
     "collapsed": false,
     "input": [
      "def suma(x,y):\n",
      "    return x + y\n",
      "\n",
      "# probamos la funcion\n",
      "suma(1,2)"
     ],
     "language": "python",
     "metadata": {},
     "outputs": [
      {
       "metadata": {},
       "output_type": "pyout",
       "prompt_number": 82,
       "text": [
        "3"
       ]
      }
     ],
     "prompt_number": 82
    },
    {
     "cell_type": "code",
     "collapsed": false,
     "input": [
      "# funcion lambda\n",
      "multiplica = lambda x,y: x*y\n",
      "\n",
      "# probando la funcion lambda\n",
      "multiplica(1,2)"
     ],
     "language": "python",
     "metadata": {},
     "outputs": [
      {
       "metadata": {},
       "output_type": "pyout",
       "prompt_number": 60,
       "text": [
        "2"
       ]
      }
     ],
     "prompt_number": 60
    },
    {
     "cell_type": "markdown",
     "metadata": {},
     "source": [
      "Podemos hacer una lista de funciones:"
     ]
    },
    {
     "cell_type": "code",
     "collapsed": false,
     "input": [
      "metodos = [suma, multiplica]\n",
      "\n",
      "# ver contenido de la lista\n",
      "metodos"
     ],
     "language": "python",
     "metadata": {},
     "outputs": [
      {
       "metadata": {},
       "output_type": "pyout",
       "prompt_number": 61,
       "text": [
        "[<function __main__.suma>, <function __main__.<lambda>>]"
       ]
      }
     ],
     "prompt_number": 61
    },
    {
     "cell_type": "code",
     "collapsed": false,
     "input": [
      "import random\n",
      "\n",
      "# generar numeros del 0 al 4\n",
      "for x in xrange(5):\n",
      "    # ejecutar un metodo aleatoriamente\n",
      "    combina = random.choice(metodos)\n",
      "    \n",
      "    # imprimir el resultado del metodo resultante del random\n",
      "    print combina(4,5)"
     ],
     "language": "python",
     "metadata": {},
     "outputs": [
      {
       "output_type": "stream",
       "stream": "stdout",
       "text": [
        "9\n",
        "9\n",
        "20\n",
        "9\n",
        "9\n"
       ]
      }
     ],
     "prompt_number": 88
    },
    {
     "cell_type": "markdown",
     "metadata": {},
     "source": [
      "Definimos una funci\u00f3n que enlista los enlaces en una p\u00e1gina web:"
     ]
    },
    {
     "cell_type": "code",
     "collapsed": false,
     "input": [
      "from bs4 import BeautifulSoup\n",
      "from urllib2 import urlopen\n",
      "\n",
      "def get_enlaces(url):\n",
      "    # Abre el url pasado por parametro y lo lee\n",
      "    html = urlopen(url).read()\n",
      "    \n",
      "    # encontrar todas las etiquetas \"a\"\n",
      "    enlaces = BeautifulSoup(html).find_all('a')\n",
      "    \n",
      "    # regresar una lista con el contenido de los \"href\"\n",
      "    return [enlace.get('href') for enlace in enlaces]"
     ],
     "language": "python",
     "metadata": {},
     "outputs": [],
     "prompt_number": 99
    },
    {
     "cell_type": "markdown",
     "metadata": {},
     "source": [
      "Veamos los primeros 5 enlaces en [el sitio de LANIA](http://lania.mx):"
     ]
    },
    {
     "cell_type": "code",
     "collapsed": false,
     "input": [
      "# limitar solo a los primeros 5\n",
      "get_enlaces('http://www.lania.mx/')[:5]"
     ],
     "language": "python",
     "metadata": {},
     "outputs": [
      {
       "metadata": {},
       "output_type": "pyout",
       "prompt_number": 94,
       "text": [
        "['/index.php?option=com_content&view=article&id=6&Itemid=20',\n",
        " '/index.php?option=com_content&view=article&id=14&Itemid=12',\n",
        " '/index.php?option=com_content&view=article&id=45&Itemid=32',\n",
        " '/index.php?option=com_content&view=article&id=18&Itemid=15',\n",
        " '/index.php?option=com_content&view=article&id=13&Itemid=16']"
       ]
      }
     ],
     "prompt_number": 94
    },
    {
     "cell_type": "markdown",
     "metadata": {},
     "source": [
      "En [Google](http://google.com):"
     ]
    },
    {
     "cell_type": "code",
     "collapsed": false,
     "input": [
      "get_enlaces('http://google.com')[:5]"
     ],
     "language": "python",
     "metadata": {},
     "outputs": [
      {
       "metadata": {},
       "output_type": "pyout",
       "prompt_number": 96,
       "text": [
        "['http://www.google.com.mx/imghp?hl=es-419&tab=wi',\n",
        " 'https://play.google.com/?hl=es-419&tab=w8',\n",
        " 'http://mx.youtube.com/?gl=MX&tab=w1',\n",
        " 'http://news.google.com.mx/nwshp?hl=es-419&tab=wn',\n",
        " 'https://mail.google.com/mail/?tab=wm']"
       ]
      }
     ],
     "prompt_number": 96
    },
    {
     "cell_type": "markdown",
     "metadata": {},
     "source": [
      "###Ejercicio\n",
      "\n",
      "Contar el n\u00famero total de enlaces en una p\u00e1gina web"
     ]
    },
    {
     "cell_type": "code",
     "collapsed": false,
     "input": [
      "# Escribir soluci\u00f3n en \u00e9sta celda\n",
      "from bs4 import BeautifulSoup\n",
      "from urllib2 import urlopen\n",
      "\n",
      "def get_num_enlaces(url):\n",
      "    # Abre el url pasado por parametro y lo lee\n",
      "    html = urlopen(url).read()\n",
      "    \n",
      "    # encontrar todas las etiquetas \"a\"\n",
      "    enlaces = BeautifulSoup(html).find_all('a')\n",
      "    \n",
      "    # regresar una lista con el contenido de los \"href\"\n",
      "    return len(enlaces)"
     ],
     "language": "python",
     "metadata": {},
     "outputs": [],
     "prompt_number": 101
    },
    {
     "cell_type": "code",
     "collapsed": false,
     "input": [
      "get_num_enlaces('http://www.lania.mx/')"
     ],
     "language": "python",
     "metadata": {},
     "outputs": [
      {
       "metadata": {},
       "output_type": "pyout",
       "prompt_number": 102,
       "text": [
        "15"
       ]
      }
     ],
     "prompt_number": 102
    },
    {
     "cell_type": "markdown",
     "metadata": {},
     "source": [
      "##Clases\n",
      "Las clases pueden contener variables y m\u00e9todos:"
     ]
    },
    {
     "cell_type": "code",
     "collapsed": false,
     "input": [
      "class Animal(object):\n",
      "    \n",
      "    def __init__(self, nombre):\n",
      "        self.nombre = nombre\n",
      "        self.estomago = []\n",
      "        \n",
      "    def __repr__(self):\n",
      "        return self.nombre\n",
      "    \n",
      "    def pregunta(self):\n",
      "        return '%s esta %s' % (self.nombre, 'lleno' if self.estomago else 'hambriento')\n",
      "    \n",
      "    def come(self, comida):\n",
      "        if comida in self.estomago:\n",
      "            print '%s ya comio %s' % (self.nombre, comida)\n",
      "        else:\n",
      "            print '%s come %s!' %(self.nombre, comida)\n",
      "            self.estomago.append(comida)"
     ],
     "language": "python",
     "metadata": {},
     "outputs": [],
     "prompt_number": 103
    },
    {
     "cell_type": "code",
     "collapsed": false,
     "input": [
      "# crear nuevos objetos de Animal\n",
      "tortuga = Animal('Donatello')\n",
      "gato = Animal('Gardfield')\n",
      "bestia = Animal('Chupacabras')"
     ],
     "language": "python",
     "metadata": {},
     "outputs": [],
     "prompt_number": 105
    },
    {
     "cell_type": "code",
     "collapsed": false,
     "input": [
      "# ver el valor de una propiedad de una instancia en particular\n",
      "bestia.nombre"
     ],
     "language": "python",
     "metadata": {},
     "outputs": [
      {
       "metadata": {},
       "output_type": "pyout",
       "prompt_number": 106,
       "text": [
        "'Chupacabras'"
       ]
      }
     ],
     "prompt_number": 106
    },
    {
     "cell_type": "code",
     "collapsed": false,
     "input": [
      "# ejecutar un metodo de una instancia en particular\n",
      "bestia.pregunta()"
     ],
     "language": "python",
     "metadata": {},
     "outputs": [
      {
       "metadata": {},
       "output_type": "pyout",
       "prompt_number": 107,
       "text": [
        "'Chupacabras esta hambriento'"
       ]
      }
     ],
     "prompt_number": 107
    },
    {
     "cell_type": "code",
     "collapsed": false,
     "input": [
      "# paso de parametros\n",
      "bestia.come(gato)"
     ],
     "language": "python",
     "metadata": {},
     "outputs": [
      {
       "output_type": "stream",
       "stream": "stdout",
       "text": [
        "Chupacabras come Gardfield!\n"
       ]
      }
     ],
     "prompt_number": 108
    },
    {
     "cell_type": "code",
     "collapsed": true,
     "input": [
      "# ver si un objeto esta incluido en una propiedad de otro objeto\n",
      "gato in bestia.estomago"
     ],
     "language": "python",
     "metadata": {},
     "outputs": [
      {
       "metadata": {},
       "output_type": "pyout",
       "prompt_number": 110,
       "text": [
        "True"
       ]
      }
     ],
     "prompt_number": 110
    },
    {
     "cell_type": "code",
     "collapsed": false,
     "input": [
      "tortuga in gato.estomago"
     ],
     "language": "python",
     "metadata": {},
     "outputs": [
      {
       "metadata": {},
       "output_type": "pyout",
       "prompt_number": 111,
       "text": [
        "False"
       ]
      }
     ],
     "prompt_number": 111
    },
    {
     "cell_type": "markdown",
     "metadata": {},
     "source": [
      "# Palabras reservadas"
     ]
    },
    {
     "cell_type": "code",
     "collapsed": false,
     "input": [
      "palabras = 'porque las abejas hacen miel'.split()\n",
      "\n",
      "# recorrer todo el arreglo de \"palabras\" y agregarle un indice\n",
      "for index, palabra in enumerate(palabras):\n",
      "    print index, palabra"
     ],
     "language": "python",
     "metadata": {},
     "outputs": [
      {
       "output_type": "stream",
       "stream": "stdout",
       "text": [
        "0 porque\n",
        "1 las\n",
        "2 abejas\n",
        "3 hacen\n",
        "4 miel\n"
       ]
      }
     ],
     "prompt_number": 112
    },
    {
     "cell_type": "code",
     "collapsed": false,
     "input": [
      "chicos='Pepe','Tomas','Alberto'\n",
      "chicas='Sandra','Esperanza','Rebeca', 'Laura'\n",
      "\n",
      "# empatar 2 arreglos\n",
      "# (el ultimo elemento de \"chicas\" no tiene con quien empatarse en \"chicos\"\n",
      "# por lo tanto no se incluye)\n",
      "zip(chicos,chicas)"
     ],
     "language": "python",
     "metadata": {},
     "outputs": [
      {
       "metadata": {},
       "output_type": "pyout",
       "prompt_number": 115,
       "text": [
        "[('Pepe', 'Sandra'), ('Tomas', 'Esperanza'), ('Alberto', 'Rebeca')]"
       ]
      }
     ],
     "prompt_number": 115
    },
    {
     "cell_type": "markdown",
     "metadata": {},
     "source": [
      "###Ejercicio\n",
      "Explicar que hace la siguiente funci\u00f3n:"
     ]
    },
    {
     "cell_type": "code",
     "collapsed": false,
     "input": [
      "from __builtin__ import any\n",
      "\n",
      "def pasos_a_caminar():\n",
      "    # indicador de comienzo de la funcion\n",
      "    print 'inicio'\n",
      "    \n",
      "    # ciclo que recorrera del 0 al 9\n",
      "    for i in xrange(10):\n",
      "        # yield funciona de manera similar al return,\n",
      "        # pero CONSERVA la iteraci\u00f3n del bucle\n",
      "        #para la siguiente vez que se le invoque\n",
      "        yield i\n",
      "        \n",
      "    # indicador de termino de la funcion\n",
      "    print 'fin'"
     ],
     "language": "python",
     "metadata": {},
     "outputs": [],
     "prompt_number": 123
    },
    {
     "cell_type": "code",
     "collapsed": false,
     "input": [
      "# any() detiene el flujo tan pronto se cumpla la condicion\n",
      "\n",
      "# 5 esta dentro del rango del metodo invocado (0 al 9)\n",
      "print any(x > 5 for x in pasos_a_caminar())\n",
      "print\n",
      "\n",
      "# 10 esta fuera del rango\n",
      "print any(x > 10 for x in pasos_a_caminar())"
     ],
     "language": "python",
     "metadata": {},
     "outputs": [
      {
       "output_type": "stream",
       "stream": "stdout",
       "text": [
        "inicio\n",
        "True\n",
        "\n",
        "inicio\n",
        "fin\n",
        "False\n"
       ]
      }
     ],
     "prompt_number": 125
    },
    {
     "cell_type": "heading",
     "level": 4,
     "metadata": {},
     "source": [
      "Sinesio Ivan Carrillo Heredia"
     ]
    }
   ],
   "metadata": {}
  }
 ]
}