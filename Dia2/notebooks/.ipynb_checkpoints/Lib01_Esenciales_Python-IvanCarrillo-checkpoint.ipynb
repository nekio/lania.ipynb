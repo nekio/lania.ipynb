{
 "metadata": {
  "name": "",
  "signature": "sha256:17b7fd67e7d74b8211ecdc4cb9f69e5e63add8bd49160fbb843e507296af40c1"
 },
 "nbformat": 3,
 "nbformat_minor": 0,
 "worksheets": [
  {
   "cells": [
    {
     "cell_type": "code",
     "collapsed": false,
     "input": [
      "%run ../talktools.py"
     ],
     "language": "python",
     "metadata": {},
     "outputs": [
      {
       "html": [
        "<link href='http://fonts.googleapis.com/css?family=Alegreya+Sans:100,300,400,500,700,800,900,100italic,300italic,400italic,500italic,700italic,800italic,900italic' rel='stylesheet' type='text/css'>\n",
        "<link href='http://fonts.googleapis.com/css?family=Arvo:400,700,400italic' rel='stylesheet' type='text/css'>\n",
        "<link href='http://fonts.googleapis.com/css?family=PT+Mono' rel='stylesheet' type='text/css'>\n",
        "<link href='http://fonts.googleapis.com/css?family=Shadows+Into+Light' rel='stylesheet' type='text/css'>\n",
        "<link href='http://fonts.googleapis.com/css?family=Nixie+One' rel='stylesheet' type='text/css'>\n",
        "<style>\n",
        "\n",
        "@font-face {\n",
        "    font-family: \"Computer Modern\";\n",
        "    src: url('http://mirrors.ctan.org/fonts/cm-unicode/fonts/otf/cmunss.otf');\n",
        "}\n",
        "\n",
        "#notebook_panel { /* main background */\n",
        "    background: rgb(245,245,245);\n",
        "}\n",
        "\n",
        "div.cell { /* set cell width */\n",
        "    width: 750px;\n",
        "}\n",
        "\n",
        "div #notebook { /* centre the content */\n",
        "    background: #fff; /* white background for content */\n",
        "    width: 1000px;\n",
        "    margin: auto;\n",
        "    padding-left: 0em;\n",
        "}\n",
        "\n",
        "#notebook li { /* More space between bullet points */\n",
        "margin-top:0.8em;\n",
        "}\n",
        "\n",
        "/* draw border around running cells */\n",
        "div.cell.border-box-sizing.code_cell.running { \n",
        "    border: 1px solid #111;\n",
        "}\n",
        "\n",
        "/* Put a solid color box around each cell and its output, visually linking them*/\n",
        "div.cell.code_cell {\n",
        "    background-color: rgb(256,256,256); \n",
        "    border-radius: 0px; \n",
        "    padding: 0.5em;\n",
        "    margin-left:1em;\n",
        "    margin-top: 1em;\n",
        "}\n",
        "\n",
        "div.text_cell_render{\n",
        "    font-family: 'Alegreya Sans' sans-serif;\n",
        "    line-height: 140%;\n",
        "    font-size: 125%;\n",
        "    font-weight: 400;\n",
        "    width:600px;\n",
        "    margin-left:auto;\n",
        "    margin-right:auto;\n",
        "}\n",
        "\n",
        "\n",
        "/* Formatting for header cells */\n",
        ".text_cell_render h1 {\n",
        "    font-family: 'Nixie One', serif;\n",
        "    font-style:regular;\n",
        "    font-weight: 400;    \n",
        "    font-size: 45pt;\n",
        "    line-height: 100%;\n",
        "    color: rgb(0,51,102);\n",
        "    margin-bottom: 0.5em;\n",
        "    margin-top: 0.5em;\n",
        "    display: block;\n",
        "}\t\n",
        ".text_cell_render h2 {\n",
        "    font-family: 'Nixie One', serif;\n",
        "    font-weight: 400;\n",
        "    font-size: 30pt;\n",
        "    line-height: 100%;\n",
        "    color: rgb(0,51,102);\n",
        "    margin-bottom: 0.1em;\n",
        "    margin-top: 0.3em;\n",
        "    display: block;\n",
        "}\t\n",
        "\n",
        ".text_cell_render h3 {\n",
        "    font-family: 'Nixie One', serif;\n",
        "    margin-top:16px;\n",
        "\tfont-size: 22pt;\n",
        "    font-weight: 600;\n",
        "    margin-bottom: 3px;\n",
        "    font-style: regular;\n",
        "    color: rgb(102,102,0);\n",
        "}\n",
        "\n",
        ".text_cell_render h4 {    /*Use this for captions*/\n",
        "    font-family: 'Nixie One', serif;\n",
        "    font-size: 14pt;\n",
        "    text-align: center;\n",
        "    margin-top: 0em;\n",
        "    margin-bottom: 2em;\n",
        "    font-style: regular;\n",
        "}\n",
        "\n",
        ".text_cell_render h5 {  /*Use this for small titles*/\n",
        "    font-family: 'Nixie One', sans-serif;\n",
        "    font-weight: 400;\n",
        "    font-size: 16pt;\n",
        "    color: rgb(163,0,0);\n",
        "    font-style: italic;\n",
        "    margin-bottom: .1em;\n",
        "    margin-top: 0.8em;\n",
        "    display: block;\n",
        "}\n",
        "\n",
        ".text_cell_render h6 { /*use this for copyright note*/\n",
        "    font-family: 'PT Mono', sans-serif;\n",
        "    font-weight: 300;\n",
        "    font-size: 9pt;\n",
        "    line-height: 100%;\n",
        "    color: grey;\n",
        "    margin-bottom: 1px;\n",
        "    margin-top: 1px;\n",
        "}\n",
        "\n",
        ".CodeMirror{\n",
        "        font-family: \"PT Mono\";\n",
        "        font-size: 90%;\n",
        "}\n",
        "\n",
        "</style>\n",
        "<script>\n",
        "    MathJax.Hub.Config({\n",
        "                        TeX: {\n",
        "                           extensions: [\"AMSmath.js\"],\n",
        "                           equationNumbers: { autoNumber: \"AMS\", useLabelIds: true}\n",
        "                           },\n",
        "                tex2jax: {\n",
        "                    inlineMath: [ ['$','$'], [\"\\\\(\",\"\\\\)\"] ],\n",
        "                    displayMath: [ ['$$','$$'], [\"\\\\[\",\"\\\\]\"] ]\n",
        "                },\n",
        "                displayAlign: 'center', // Change this to 'center' to center equations.\n",
        "                \"HTML-CSS\": {\n",
        "                    styles: {'.MathJax_Display': {\"margin\": 4}}\n",
        "                }\n",
        "        });\n",
        "</script>"
       ],
       "metadata": {},
       "output_type": "display_data",
       "text": [
        "<IPython.core.display.HTML at 0xbf841d0>"
       ]
      }
     ],
     "prompt_number": 1
    },
    {
     "cell_type": "markdown",
     "metadata": {},
     "source": [
      "Esenciales de Python 1\n",
      "=====\n",
      "\n",
      "Bienvenidos al curso de Python Interactivo, [IPython](http://www.ipython.org). Python es un lenguaje de programacion que como vimos en al introduccion ha ganado terreno debido a su facilidad de uso en diversas aplicaciones, desde cientificas hasta de desarrollo. \n",
      "\n",
      "Si ya estan familiarizados con Python esta seccion les servira de recordatorio; en caso contrario esta introduccion basica servira de inicio para el curso."
     ]
    },
    {
     "cell_type": "markdown",
     "metadata": {},
     "source": [
      "# Instalando Python\n",
      "\n",
      "Les pedi antes del inicio del curso que intentaran instalara Python. La forma mas sencilla de hacerlo y que configura el sistema con todas las dependencias que necesitaremos a lo largo del curso es usando `Anaconda`. La informacion detallada de [como instalar el ambiente de IPython pueden consultarla en este documento.](../Dia1/Lib00_Esenciales_Instalacion.ipynb)"
     ]
    },
    {
     "cell_type": "markdown",
     "metadata": {},
     "source": [
      "# Iniciando Python\n",
      "\n",
      "Una vez instalado Python en su sistema, pueden iniciar el interprete interactivo escribiendo `python` en la linea de comando. Al iniciar deber mostrarles informacion del contexto de Python similar a la que se muestra a continuacion:\n",
      "    \n",
      "    Python 2.7.8 |Anaconda 2.0.1 (x86_64)| (default, Aug 21 2014, 15:21:46)\n",
      "    [GCC 4.2.1 (Apple Inc. build 5577)] on darwin\n",
      "    Type \"help\", \"copyright\", \"credits\" or \"license\" for more information.\n",
      "    >>>\n",
      "\n",
      "en Windows puede iniciarse Python a traves del menu de inicio.\n",
      "\n",
      "Para salir del interprete de Python, presionen la combinacion de teclas `Ctrl-D`.\n",
      "\n",
      "Para ejecutar un programa salvando en un archivo de Python, puede correrse desde la linea de comando escribiendo:\n",
      "\n",
      "    python programa.py\n",
      "\n",
      "En Windows puede ejecutarse un archivo de Python dandole doble click."
     ]
    },
    {
     "cell_type": "markdown",
     "metadata": {},
     "source": [
      "# Loops\n",
      "\n",
      "Que hacen las siguientes lineas de codigo?\n",
      "\n",
      "    for i in 2, 4, 6, 8:\n",
      "        print(i)"
     ]
    },
    {
     "cell_type": "markdown",
     "metadata": {},
     "source": [
      "### En esta celda escriban su solucion"
     ]
    },
    {
     "cell_type": "code",
     "collapsed": false,
     "input": [
      "# Escriban y ejecuten el codigo en esta celda\n",
      "# El codigo iterara sobre los enteros dados y los imprime\n",
      "#for i in [2, 4, 6, 8]: #tambien se permite ponerlo entre corchetes\n",
      "for i in 2, 4, 6, 8:\n",
      "    print(i)\n",
      "print 'fuera del for'"
     ],
     "language": "python",
     "metadata": {},
     "outputs": [
      {
       "output_type": "stream",
       "stream": "stdout",
       "text": [
        "2\n",
        "4\n",
        "6\n",
        "8\n",
        "fuera del for\n"
       ]
      }
     ],
     "prompt_number": 2
    },
    {
     "cell_type": "markdown",
     "metadata": {},
     "source": [
      "## Ejercicio\n",
      "Python tiene una funcion interna llamada `range` que automaticamente genera un intervalo de numeros como \\[2,4,6,8\\]. Por ejemplo, `range(1,10)` es una secuencia de los numeros 1 al 9, excluyendo el  valor extremo, en este caso el 10. Esto ultimo puede confundir pero quizas estan ya acostumbrados.\n",
      "\n",
      "    for i in range(1,10):\n",
      "        print(i)\n",
      "\n",
      "Escriban estas lineas de codigo y ejecutenlas. Despues, usando la funcion `range` obtengan una secuencia de numeros equivalente a \\[2, 4, 6, 8\\]? \n",
      "\n",
      "Pueden encontrar acceder a la ayuda si escriben `help(range)` o `range?`. La informacion que les sera util esta cerca del inicio de la ayuda. Cuando terminen de consultar la ayuda, presionen 'q' para regresar al interprete."
     ]
    },
    {
     "cell_type": "code",
     "collapsed": false,
     "input": [
      "# Escriban y ejecuten el codigo en esta celda\n",
      "for i in range(1,10):\n",
      "    print(i)"
     ],
     "language": "python",
     "metadata": {},
     "outputs": [
      {
       "output_type": "stream",
       "stream": "stdout",
       "text": [
        "1\n",
        "2\n",
        "3\n",
        "4\n",
        "5\n",
        "6\n",
        "7\n",
        "8\n",
        "9\n"
       ]
      }
     ],
     "prompt_number": 3
    },
    {
     "cell_type": "code",
     "collapsed": false,
     "input": [
      "for i in range(1,10):\n",
      "    if i % 2 == 0:\n",
      "        print(i)"
     ],
     "language": "python",
     "metadata": {},
     "outputs": [
      {
       "output_type": "stream",
       "stream": "stdout",
       "text": [
        "2\n",
        "4\n",
        "6\n",
        "8\n"
       ]
      }
     ],
     "prompt_number": 13
    },
    {
     "cell_type": "markdown",
     "metadata": {},
     "source": [
      "# Variables\n",
      "\n",
      "Pueden usar variables para manipular valores dentro de un programa. Que hacen las siguientes lineas de codigo?\n",
      "\n",
      "    total = 0\n",
      "    for i in 1, 3, 7:\n",
      "        total = total + i\n",
      "    print(total)"
     ]
    },
    {
     "cell_type": "markdown",
     "metadata": {},
     "source": [
      "### En esta celda escriban su solucion"
     ]
    },
    {
     "cell_type": "code",
     "collapsed": false,
     "input": [
      "# Escriban y ejecuten el codigo en esta celda\n",
      "# el codigo acumula los valores del ciclo en la variable total\n",
      "total = 0\n",
      "for i in 1, 3, 7:\n",
      "    total = total + i\n",
      "print total"
     ],
     "language": "python",
     "metadata": {},
     "outputs": [
      {
       "output_type": "stream",
       "stream": "stdout",
       "text": [
        "11\n"
       ]
      }
     ],
     "prompt_number": 14
    },
    {
     "cell_type": "markdown",
     "metadata": {},
     "source": [
      "## Ejercicio\n",
      "\n",
      "Si por algun motivo no quieren usar un loop `for`, Python tiene una function interna llamada `sum` que permite evitar el uso de `for`. Pueden obtener el mismo resultado que el loop anterior con:\n",
      "\n",
      "    print(sum([1,3,7]))\n",
      "\n",
      "Escriban una sola linea de instruccion que, usando `sum` y `range` de la suma de los numeros del 1 al 100"
     ]
    },
    {
     "cell_type": "code",
     "collapsed": false,
     "input": [
      "# Escriban y ejecuten el codigo en esta celda\n",
      "print(sum([1,3,7]))"
     ],
     "language": "python",
     "metadata": {},
     "outputs": [
      {
       "output_type": "stream",
       "stream": "stdout",
       "text": [
        "11\n"
       ]
      }
     ],
     "prompt_number": 16
    },
    {
     "cell_type": "markdown",
     "metadata": {},
     "source": [
      "# Funciones\n",
      "\n",
      "Es posible definir funciones con parametros, utiles para reusar codigo. Que hacen las siguientes lineas de codigo?\n",
      "\n",
      "    def saluda_a(nombre):\n",
      "        print(\"Hola \" + nombre)\n",
      "\n",
      "    saluda_a(\"Miranda\")\n",
      "    saluda_a(\"Fede\")"
     ]
    },
    {
     "cell_type": "markdown",
     "metadata": {},
     "source": [
      "### En esta celda escriban su solucion"
     ]
    },
    {
     "cell_type": "code",
     "collapsed": false,
     "input": [
      "# Escriban y ejecuten el codigo en esta celda\n",
      "def saluda_a(nombre):\n",
      "    print(\"Hola \" + nombre + \"!\")\n",
      "    \n",
      "saluda_a('pancho')\n",
      "saluda_a('juancho')"
     ],
     "language": "python",
     "metadata": {},
     "outputs": [
      {
       "output_type": "stream",
       "stream": "stdout",
       "text": [
        "Hola pancho!\n",
        "Hola juancho!\n"
       ]
      }
     ],
     "prompt_number": 19
    },
    {
     "cell_type": "markdown",
     "metadata": {},
     "source": [
      "# Condicionales\n",
      "\n",
      "Se pueden usar expresiones con 'if' para ejecutar unicamente algunos comandos si alguna condicion se cumple. Que hacen las siguientes lineas de codigo?\n",
      "\n",
      "    angulo = 5\n",
      "    if angulo > 0:\n",
      "        print(\"Girando en sentido dextrogiro\")\n",
      "    elif angulo < 0:\n",
      "        print(\"Girando en sentido levogiro\")\n",
      "    else:\n",
      "        print(\"No girando\")"
     ]
    },
    {
     "cell_type": "markdown",
     "metadata": {},
     "source": [
      "### En esta celda escriban su solucion"
     ]
    },
    {
     "cell_type": "code",
     "collapsed": false,
     "input": [
      "# Escriban y ejecuten el codigo en esta celda\n",
      "# Se reconoce en una condicional el giro de algo\n",
      "angulo = 5\n",
      "if angulo > 0:\n",
      "    print(\"Girando en sentido dextrogiro\")\n",
      "elif angulo < 0:\n",
      "    print(\"Girando en sentido levogiro\")\n",
      "else:\n",
      "    print(\"No girando\")"
     ],
     "language": "python",
     "metadata": {},
     "outputs": [
      {
       "output_type": "stream",
       "stream": "stdout",
       "text": [
        "Girando en sentido dextrogiro\n"
       ]
      }
     ],
     "prompt_number": 20
    },
    {
     "cell_type": "markdown",
     "metadata": {},
     "source": [
      "## Modulo siguiente\n",
      "Antes de pasar al siguiente modulo, guarden los cambios realizados.\n",
      "\n",
      "El siguiente modulo presenta algunas [estructuras de datos en Python](Lib02_Esenciales_DataStructures.ipynb)"
     ]
    }
   ],
   "metadata": {}
  }
 ]
}