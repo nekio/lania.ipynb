{
 "metadata": {
  "name": "",
  "signature": "sha256:e199054bba1b660ba4253c4c82b82414811e414c9cbe0b50b6a79979c225b7b6"
 },
 "nbformat": 3,
 "nbformat_minor": 0,
 "worksheets": [
  {
   "cells": [
    {
     "cell_type": "code",
     "collapsed": false,
     "input": [
      "%run ../talktools.py"
     ],
     "language": "python",
     "metadata": {},
     "outputs": [
      {
       "html": [
        "<link href='http://fonts.googleapis.com/css?family=Alegreya+Sans:100,300,400,500,700,800,900,100italic,300italic,400italic,500italic,700italic,800italic,900italic' rel='stylesheet' type='text/css'>\n",
        "<link href='http://fonts.googleapis.com/css?family=Arvo:400,700,400italic' rel='stylesheet' type='text/css'>\n",
        "<link href='http://fonts.googleapis.com/css?family=PT+Mono' rel='stylesheet' type='text/css'>\n",
        "<link href='http://fonts.googleapis.com/css?family=Shadows+Into+Light' rel='stylesheet' type='text/css'>\n",
        "<link href='http://fonts.googleapis.com/css?family=Nixie+One' rel='stylesheet' type='text/css'>\n",
        "<style>\n",
        "\n",
        "@font-face {\n",
        "    font-family: \"Computer Modern\";\n",
        "    src: url('http://mirrors.ctan.org/fonts/cm-unicode/fonts/otf/cmunss.otf');\n",
        "}\n",
        "\n",
        "#notebook_panel { /* main background */\n",
        "    background: rgb(245,245,245);\n",
        "}\n",
        "\n",
        "div.cell { /* set cell width */\n",
        "    width: 750px;\n",
        "}\n",
        "\n",
        "div #notebook { /* centre the content */\n",
        "    background: #fff; /* white background for content */\n",
        "    width: 1000px;\n",
        "    margin: auto;\n",
        "    padding-left: 0em;\n",
        "}\n",
        "\n",
        "#notebook li { /* More space between bullet points */\n",
        "margin-top:0.8em;\n",
        "}\n",
        "\n",
        "/* draw border around running cells */\n",
        "div.cell.border-box-sizing.code_cell.running { \n",
        "    border: 1px solid #111;\n",
        "}\n",
        "\n",
        "/* Put a solid color box around each cell and its output, visually linking them*/\n",
        "div.cell.code_cell {\n",
        "    background-color: rgb(256,256,256); \n",
        "    border-radius: 0px; \n",
        "    padding: 0.5em;\n",
        "    margin-left:1em;\n",
        "    margin-top: 1em;\n",
        "}\n",
        "\n",
        "div.text_cell_render{\n",
        "    font-family: 'Alegreya Sans' sans-serif;\n",
        "    line-height: 140%;\n",
        "    font-size: 125%;\n",
        "    font-weight: 400;\n",
        "    width:600px;\n",
        "    margin-left:auto;\n",
        "    margin-right:auto;\n",
        "}\n",
        "\n",
        "\n",
        "/* Formatting for header cells */\n",
        ".text_cell_render h1 {\n",
        "    font-family: 'Nixie One', serif;\n",
        "    font-style:regular;\n",
        "    font-weight: 400;    \n",
        "    font-size: 45pt;\n",
        "    line-height: 100%;\n",
        "    color: rgb(0,51,102);\n",
        "    margin-bottom: 0.5em;\n",
        "    margin-top: 0.5em;\n",
        "    display: block;\n",
        "}\t\n",
        ".text_cell_render h2 {\n",
        "    font-family: 'Nixie One', serif;\n",
        "    font-weight: 400;\n",
        "    font-size: 30pt;\n",
        "    line-height: 100%;\n",
        "    color: rgb(0,51,102);\n",
        "    margin-bottom: 0.1em;\n",
        "    margin-top: 0.3em;\n",
        "    display: block;\n",
        "}\t\n",
        "\n",
        ".text_cell_render h3 {\n",
        "    font-family: 'Nixie One', serif;\n",
        "    margin-top:16px;\n",
        "\tfont-size: 22pt;\n",
        "    font-weight: 600;\n",
        "    margin-bottom: 3px;\n",
        "    font-style: regular;\n",
        "    color: rgb(102,102,0);\n",
        "}\n",
        "\n",
        ".text_cell_render h4 {    /*Use this for captions*/\n",
        "    font-family: 'Nixie One', serif;\n",
        "    font-size: 14pt;\n",
        "    text-align: center;\n",
        "    margin-top: 0em;\n",
        "    margin-bottom: 2em;\n",
        "    font-style: regular;\n",
        "}\n",
        "\n",
        ".text_cell_render h5 {  /*Use this for small titles*/\n",
        "    font-family: 'Nixie One', sans-serif;\n",
        "    font-weight: 400;\n",
        "    font-size: 16pt;\n",
        "    color: rgb(163,0,0);\n",
        "    font-style: italic;\n",
        "    margin-bottom: .1em;\n",
        "    margin-top: 0.8em;\n",
        "    display: block;\n",
        "}\n",
        "\n",
        ".text_cell_render h6 { /*use this for copyright note*/\n",
        "    font-family: 'PT Mono', sans-serif;\n",
        "    font-weight: 300;\n",
        "    font-size: 9pt;\n",
        "    line-height: 100%;\n",
        "    color: grey;\n",
        "    margin-bottom: 1px;\n",
        "    margin-top: 1px;\n",
        "}\n",
        "\n",
        ".CodeMirror{\n",
        "        font-family: \"PT Mono\";\n",
        "        font-size: 90%;\n",
        "}\n",
        "\n",
        "</style>\n",
        "<script>\n",
        "    MathJax.Hub.Config({\n",
        "                        TeX: {\n",
        "                           extensions: [\"AMSmath.js\"],\n",
        "                           equationNumbers: { autoNumber: \"AMS\", useLabelIds: true}\n",
        "                           },\n",
        "                tex2jax: {\n",
        "                    inlineMath: [ ['$','$'], [\"\\\\(\",\"\\\\)\"] ],\n",
        "                    displayMath: [ ['$$','$$'], [\"\\\\[\",\"\\\\]\"] ]\n",
        "                },\n",
        "                displayAlign: 'center', // Change this to 'center' to center equations.\n",
        "                \"HTML-CSS\": {\n",
        "                    styles: {'.MathJax_Display': {\"margin\": 4}}\n",
        "                }\n",
        "        });\n",
        "</script>"
       ],
       "metadata": {},
       "output_type": "display_data",
       "text": [
        "<IPython.core.display.HTML at 0xbc8b1d0>"
       ]
      }
     ],
     "prompt_number": 1
    },
    {
     "cell_type": "markdown",
     "metadata": {},
     "source": [
      "Esenciales de Python\n",
      "=====\n",
      "En este modulo presentamos las estructuras conocidas en Python como **diccionarios**."
     ]
    },
    {
     "cell_type": "markdown",
     "metadata": {},
     "source": [
      "### Diccionarios\n",
      "\n",
      "El otro tipo de datos fundamental son los diccionarios. Un diccionario permite asociar una parte de los datos (una llave, \"key\") con otra (el valor, \"value\"). Esta analogia viene de los diccionarios reales, donde se asocia una palabra con su significado. Son un poco mas dificiles de entender que las listas, pero Python hace muy sencillo su uso."
     ]
    },
    {
     "cell_type": "markdown",
     "metadata": {},
     "source": [
      "Pueden crear un diccionario con ``{}``\n",
      "\n",
      "    comidas = {}\n",
      "\n",
      "Y agregar elementos al diccionario de la siguiente manera:\n",
      "\n",
      "    comidas[\"platano\"] = \"Un bocado amarillo exquisito!\"\n",
      "    comidas[\"lodo\"]   = \"No muy rico. NO COMER!\"\n",
      "\n",
      "En este ejemplo, las llaves (keys) son \"platano\" y \"lodo\", y los valores (values) son aquellos que asignamos a las llaves. Como llave puede usarse cualquier tipo de dato que no cambie. Prueben usando un numero, un valor booleano y una lista como llaves en un diccionario. Que les dice esto de las cadenas de caracteres?"
     ]
    },
    {
     "cell_type": "code",
     "collapsed": false,
     "input": [
      "#definir diccionario\n",
      "comidas = {}"
     ],
     "language": "python",
     "metadata": {},
     "outputs": [],
     "prompt_number": 1
    },
    {
     "cell_type": "code",
     "collapsed": false,
     "input": [
      "comidas[\"platano\"] = \"un bocado amarillo exquisito\"\n",
      "comidas[\"lodo\"] = \"No muy rico\""
     ],
     "language": "python",
     "metadata": {},
     "outputs": [],
     "prompt_number": 3
    },
    {
     "cell_type": "code",
     "collapsed": false,
     "input": [
      "comidas[6] = \"algo\"\n",
      "comidas[True] = \"algo mas\""
     ],
     "language": "python",
     "metadata": {},
     "outputs": [],
     "prompt_number": 5
    },
    {
     "cell_type": "code",
     "collapsed": false,
     "input": [
      "comidas[1,2,3] = \"algo todavia mas\""
     ],
     "language": "python",
     "metadata": {},
     "outputs": [],
     "prompt_number": 7
    },
    {
     "cell_type": "code",
     "collapsed": false,
     "input": [
      "# con lo anterior, nos damos cuenta sobre las cadenas de caracteres como llaves,\n",
      "# que no resultan ser las unicas permitidas para este proposito"
     ],
     "language": "python",
     "metadata": {},
     "outputs": []
    },
    {
     "cell_type": "markdown",
     "metadata": {},
     "source": [
      "Como con las listas, puede verse que hay en un diccionario:\n",
      "\n",
      "    >>> comidas\n",
      "    {'platano': 'Un bocado amarillo exquisito!', 'lodo': 'No muy rico. NO COMER!'}"
     ]
    },
    {
     "cell_type": "code",
     "collapsed": false,
     "input": [
      "comidas"
     ],
     "language": "python",
     "metadata": {},
     "outputs": [
      {
       "metadata": {},
       "output_type": "pyout",
       "prompt_number": 9,
       "text": [
        "{True: 'algo mas',\n",
        " 6: 'algo',\n",
        " 'lodo': 'No muy rico',\n",
        " 'platano': 'un bocado amarillo exquisito',\n",
        " (1, 2, 3): 'algo todavia mas'}"
       ]
      }
     ],
     "prompt_number": 9
    },
    {
     "cell_type": "markdown",
     "metadata": {},
     "source": [
      "Puede consultarse cualquierentrada en un diccionario usando su llave:\n",
      "\n",
      "    >>> comidas[\"platano\"]\n",
      "    'Un bocado amarillo exquisito!'"
     ]
    },
    {
     "cell_type": "code",
     "collapsed": false,
     "input": [
      "# ver propiedades del diccionario\n",
      "dir(comidas)"
     ],
     "language": "python",
     "metadata": {},
     "outputs": [
      {
       "metadata": {},
       "output_type": "pyout",
       "prompt_number": 13,
       "text": [
        "['__class__',\n",
        " '__cmp__',\n",
        " '__contains__',\n",
        " '__delattr__',\n",
        " '__delitem__',\n",
        " '__doc__',\n",
        " '__eq__',\n",
        " '__format__',\n",
        " '__ge__',\n",
        " '__getattribute__',\n",
        " '__getitem__',\n",
        " '__gt__',\n",
        " '__hash__',\n",
        " '__init__',\n",
        " '__iter__',\n",
        " '__le__',\n",
        " '__len__',\n",
        " '__lt__',\n",
        " '__ne__',\n",
        " '__new__',\n",
        " '__reduce__',\n",
        " '__reduce_ex__',\n",
        " '__repr__',\n",
        " '__setattr__',\n",
        " '__setitem__',\n",
        " '__sizeof__',\n",
        " '__str__',\n",
        " '__subclasshook__',\n",
        " 'clear',\n",
        " 'copy',\n",
        " 'fromkeys',\n",
        " 'get',\n",
        " 'has_key',\n",
        " 'items',\n",
        " 'iteritems',\n",
        " 'iterkeys',\n",
        " 'itervalues',\n",
        " 'keys',\n",
        " 'pop',\n",
        " 'popitem',\n",
        " 'setdefault',\n",
        " 'update',\n",
        " 'values',\n",
        " 'viewitems',\n",
        " 'viewkeys',\n",
        " 'viewvalues']"
       ]
      }
     ],
     "prompt_number": 13
    },
    {
     "cell_type": "markdown",
     "metadata": {},
     "source": [
      "Si la llave no se encuentra en el diccionario, ocurre un `KeyError`:\n",
      "\n",
      "    >>> comidas[\"queso\"]\n",
      "    Traceback (most recent call last):\n",
      "      File \"<stdin>\", line 1, in <module>\n",
      "    KeyError: 'queso'"
     ]
    },
    {
     "cell_type": "code",
     "collapsed": false,
     "input": [
      "comidas[0]"
     ],
     "language": "python",
     "metadata": {},
     "outputs": [
      {
       "ename": "KeyError",
       "evalue": "0",
       "output_type": "pyerr",
       "traceback": [
        "\u001b[1;31m---------------------------------------------------------------------------\u001b[0m\n\u001b[1;31mKeyError\u001b[0m                                  Traceback (most recent call last)",
        "\u001b[1;32m<ipython-input-15-33c834d4e947>\u001b[0m in \u001b[0;36m<module>\u001b[1;34m()\u001b[0m\n\u001b[1;32m----> 1\u001b[1;33m \u001b[0mcomidas\u001b[0m\u001b[1;33m[\u001b[0m\u001b[1;36m0\u001b[0m\u001b[1;33m]\u001b[0m\u001b[1;33m\u001b[0m\u001b[0m\n\u001b[0m",
        "\u001b[1;31mKeyError\u001b[0m: 0"
       ]
      }
     ],
     "prompt_number": 15
    },
    {
     "cell_type": "markdown",
     "metadata": {},
     "source": [
      "Por esta razon, es posible probar si una llave esta o no en un diccionario, usando la palabra `in`:\n",
      "\n",
      "    if \"queso\" in comidas:\n",
      "        print(\"Queso es una comida conocida!\")\n",
      "        print(comidas[\"queso\"])\n",
      "\n",
      "`not in` tambien sirve, intentenlo."
     ]
    },
    {
     "cell_type": "code",
     "collapsed": false,
     "input": [
      "if \"queso\" in comidas:\n",
      "    print(\"Queso es una comida conocida!\")\n",
      "    print(comidas[\"queso\"])\n",
      "else:\n",
      "    print(\"no hay queso\")"
     ],
     "language": "python",
     "metadata": {},
     "outputs": [
      {
       "output_type": "stream",
       "stream": "stdout",
       "text": [
        "no hay queso\n"
       ]
      }
     ],
     "prompt_number": 17
    },
    {
     "cell_type": "markdown",
     "metadata": {},
     "source": [
      "Podemos borrar de un diccionario. Por ejemplo, no necesitamos una entrada para el lodo:\n",
      "\n",
      "    del comidas[\"lodo\"]"
     ]
    },
    {
     "cell_type": "code",
     "collapsed": false,
     "input": [
      "del comidas[\"lodo\"]"
     ],
     "language": "python",
     "metadata": {},
     "outputs": [],
     "prompt_number": 18
    },
    {
     "cell_type": "code",
     "collapsed": false,
     "input": [
      "comidas"
     ],
     "language": "python",
     "metadata": {},
     "outputs": [
      {
       "metadata": {},
       "output_type": "pyout",
       "prompt_number": 19,
       "text": [
        "{True: 'algo mas',\n",
        " 6: 'algo',\n",
        " 'platano': 'un bocado amarillo exquisito',\n",
        " (1, 2, 3): 'algo todavia mas'}"
       ]
      }
     ],
     "prompt_number": 19
    },
    {
     "cell_type": "markdown",
     "metadata": {},
     "source": [
      "Lo que hace muy utiles a los diccionarios es que podemos asignar significado a los elementos. Una lista es solamente una bolsa llena de objetos, pero un diccionario es un mapeo especifico de algo en otra cosa. Al combinar listas y diccionarios se puede describir basicamente cualquier estructura usada en computacion."
     ]
    },
    {
     "cell_type": "markdown",
     "metadata": {},
     "source": [
      "Por ejemplo, es muy sencillo incluir una lista en un diccionario:\n",
      "\n",
      "    ingredientes = {}\n",
      "    ingredientes[\"sandwich jlt\"] = [\"pan\", \"jitomate\", \"lechuga\", \"tocino\"]"
     ]
    },
    {
     "cell_type": "code",
     "collapsed": false,
     "input": [
      "ingredientes = {}\n",
      "ingredientes[\"sandwich jlt\"] = [\"pan\", \"jitomate\", \"lechuga\", \"tocino\"]"
     ],
     "language": "python",
     "metadata": {},
     "outputs": [],
     "prompt_number": 20
    },
    {
     "cell_type": "markdown",
     "metadata": {},
     "source": [
      "O agregar dictcionarios a listas:\n",
      "\n",
      "    europa = []\n",
      "    alemania = {\"nombre\": \"Alemania\", \"poblacion\": 81000000}\n",
      "    europa.append(alemania)\n",
      "    luxemburgo = {\"nombre\": \"Luxemburgo\", \"poblacion\": 512000}\n",
      "    europa.append(luxemburgo)"
     ]
    },
    {
     "cell_type": "code",
     "collapsed": false,
     "input": [
      "#lista\n",
      "europa = []\n",
      "\n",
      "#diccionario\n",
      "alemania = {\"nombre\": \"Alemania\", \"poblacion\": 81000000}\n",
      "europa.append(alemania)\n",
      "\n",
      "#diccionario\n",
      "luxemburgo = {\"nombre\": \"Luxemburgo\", \"poblacion\": 512000}\n",
      "europa.append(luxemburgo)"
     ],
     "language": "python",
     "metadata": {},
     "outputs": [],
     "prompt_number": 23
    },
    {
     "cell_type": "code",
     "collapsed": false,
     "input": [
      "alemania"
     ],
     "language": "python",
     "metadata": {},
     "outputs": [
      {
       "metadata": {},
       "output_type": "pyout",
       "prompt_number": 26,
       "text": [
        "{'nombre': 'Alemania', 'poblacion': 81000000}"
       ]
      }
     ],
     "prompt_number": 26
    },
    {
     "cell_type": "code",
     "collapsed": false,
     "input": [
      "luxemburgo"
     ],
     "language": "python",
     "metadata": {},
     "outputs": [
      {
       "metadata": {},
       "output_type": "pyout",
       "prompt_number": 27,
       "text": [
        "{'nombre': 'Luxemburgo', 'poblacion': 512000}"
       ]
      }
     ],
     "prompt_number": 27
    },
    {
     "cell_type": "code",
     "collapsed": false,
     "input": [
      "europa"
     ],
     "language": "python",
     "metadata": {},
     "outputs": [
      {
       "metadata": {},
       "output_type": "pyout",
       "prompt_number": 28,
       "text": [
        "[{'nombre': 'Alemania', 'poblacion': 81000000},\n",
        " {'nombre': 'Luxemburgo', 'poblacion': 512000}]"
       ]
      }
     ],
     "prompt_number": 28
    },
    {
     "cell_type": "markdown",
     "metadata": {},
     "source": [
      "Fuera de Python, los diccionarios se conocen como ``tablas hash``, ``mapas hash`` o solo ``mapas``."
     ]
    },
    {
     "cell_type": "markdown",
     "metadata": {},
     "source": [
      "## Ejercicio\n",
      "\n",
      "1. Ejecuten todas las celdas de esta libreta.\n",
      "\n",
      "2. Agreguen un diccionario a la lista de plantas que crearon en el modulo anterior, dandole los siguientes atributos a cada planta: \n",
      "\n",
      " * nombre: una cadena de texto especificando el nombre de la planta\n",
      " * es_arbusto, una variable booleana\n",
      " * es_arbol, una variable booleana\n",
      " * imagen, un enlace a una fotografia de la planta en internet (por ejemplo en [Wikipedia](http://es.wikipedia.org/), en [FigShare](figshare.com) o en la [Biblioteca Science Photo Library](http://www.sciencephoto.com)."
     ]
    },
    {
     "cell_type": "code",
     "collapsed": false,
     "input": [
      "plantas = []\n",
      "\n",
      "rosa = {\"nombre\": \"rosa\", \"es_arbusto\": True, \"es_arbol\" : False, \"Imagen\" : \"http://esjardineria.com/wp-content/uploads/2014/07/rosa.jpg\"}\n",
      "orquidea = {\"nombre\": \"orquidea\", \"es_arbusto\": True, \"es_arbol\" : False, \"Imagen\" : \"http://cdns2.freepik.com/vrije-photo/orchidee-wit-beeld-materiaal_38-5914.jpg\"}\n",
      "girasol = {\"nombre\": \"girasol\", \"es_arbusto\": True, \"es_arbol\" : False, \"Imagen\" : \"http://www.yvl.be/images/sunflower%201.jpg\"}\n",
      "encinos = {\"nombre\": \"encinos\", \"es_arbusto\": False, \"es_arbol\" : True, \"Imagen\" : \"http://www.semahn.chiapas.gob.mx/portal/media/recorrido_sanjose/encino/encino.jpg\"}\n",
      "\n",
      "plantas.append(rosa)\n",
      "plantas.append(orquidea)\n",
      "plantas.append(girasol)\n",
      "plantas.append(encinos)"
     ],
     "language": "python",
     "metadata": {},
     "outputs": [],
     "prompt_number": 29
    },
    {
     "cell_type": "code",
     "collapsed": false,
     "input": [
      "plantas"
     ],
     "language": "python",
     "metadata": {},
     "outputs": [
      {
       "metadata": {},
       "output_type": "pyout",
       "prompt_number": 30,
       "text": [
        "[{'Imagen': 'http://esjardineria.com/wp-content/uploads/2014/07/rosa.jpg',\n",
        "  'es_arbol': False,\n",
        "  'es_arbusto': True,\n",
        "  'nombre': 'rosa'},\n",
        " {'Imagen': 'http://cdns2.freepik.com/vrije-photo/orchidee-wit-beeld-materiaal_38-5914.jpg',\n",
        "  'es_arbol': False,\n",
        "  'es_arbusto': True,\n",
        "  'nombre': 'orquidea'},\n",
        " {'Imagen': 'http://www.yvl.be/images/sunflower%201.jpg',\n",
        "  'es_arbol': False,\n",
        "  'es_arbusto': True,\n",
        "  'nombre': 'girasol'},\n",
        " {'Imagen': 'http://www.semahn.chiapas.gob.mx/portal/media/recorrido_sanjose/encino/encino.jpg',\n",
        "  'es_arbol': True,\n",
        "  'es_arbusto': False,\n",
        "  'nombre': 'encinos'}]"
       ]
      }
     ],
     "prompt_number": 30
    },
    {
     "cell_type": "markdown",
     "metadata": {},
     "source": [
      "## Modulo siguiente\n",
      "Antes de pasar al siguiente modulo, guarden los cambios realizados.\n",
      "\n",
      "En el siguiente modulo veremos como trabajar con [archivos de texto en Python.](../Dia2/Lib04_Esenciales_TextFiles.ipynb)"
     ]
    }
   ],
   "metadata": {}
  }
 ]
}